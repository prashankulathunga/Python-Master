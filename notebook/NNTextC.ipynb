{
 "cells": [
  {
   "cell_type": "markdown",
   "id": "a5916b99",
   "metadata": {},
   "source": [
    "#### Python course for AI/ML"
   ]
  },
  {
   "cell_type": "code",
   "execution_count": null,
   "id": "0f21c64a",
   "metadata": {},
   "outputs": [],
   "source": [
    "# type conversion\n",
    "# implicit => Internally happen in python\n",
    "# explicit => By the programmers"
   ]
  },
  {
   "cell_type": "code",
   "execution_count": 5,
   "id": "1e0372f5",
   "metadata": {},
   "outputs": [
    {
     "name": "stdout",
     "output_type": "stream",
     "text": [
      "<class 'int'>\n"
     ]
    }
   ],
   "source": [
    "# implicit type conversions\n",
    "print(type(5))"
   ]
  },
  {
   "cell_type": "code",
   "execution_count": 6,
   "id": "3debd552",
   "metadata": {},
   "outputs": [
    {
     "name": "stdout",
     "output_type": "stream",
     "text": [
      "<class 'float'>\n"
     ]
    }
   ],
   "source": [
    "print(type(5.5))"
   ]
  },
  {
   "cell_type": "code",
   "execution_count": null,
   "id": "ada1d785",
   "metadata": {},
   "outputs": [
    {
     "name": "stdout",
     "output_type": "stream",
     "text": [
      "9\n"
     ]
    }
   ],
   "source": [
    "print(5+ int('4')) # explicit type conversions"
   ]
  },
  {
   "cell_type": "code",
   "execution_count": 10,
   "id": "1c8df37b",
   "metadata": {},
   "outputs": [
    {
     "name": "stdout",
     "output_type": "stream",
     "text": [
      "<class 'float'>\n",
      "32.0\n"
     ]
    }
   ],
   "source": [
    "number = \"32\"\n",
    "number = float(number)\n",
    "\n",
    "print(type(number))\n",
    "print(number)"
   ]
  },
  {
   "cell_type": "code",
   "execution_count": null,
   "id": "72ac14f3",
   "metadata": {},
   "outputs": [
    {
     "name": "stdout",
     "output_type": "stream",
     "text": [
      "10\n"
     ]
    }
   ],
   "source": [
    "a = 0b1010  # literals this is #Binary_Literals\n",
    "print(a)"
   ]
  },
  {
   "cell_type": "code",
   "execution_count": 12,
   "id": "b8d7ceba",
   "metadata": {},
   "outputs": [
    {
     "name": "stdout",
     "output_type": "stream",
     "text": [
      "float_1:  1.5\n",
      "float_2:  150.0\n",
      "float_3:  0.0015\n"
     ]
    }
   ],
   "source": [
    "float_1 = 1.5\n",
    "float_2 = 1.5e2     # its mean 1.5 * 10^2   => Answer : 150\n",
    "float_3 = 1.5e-3\n",
    "\n",
    "print('float_1: ', float_1)\n",
    "print('float_2: ', float_2)\n",
    "print('float_3: ', float_3)"
   ]
  },
  {
   "cell_type": "code",
   "execution_count": 17,
   "id": "67d550cb",
   "metadata": {},
   "outputs": [
    {
     "name": "stdout",
     "output_type": "stream",
     "text": [
      "<class 'complex'>\n"
     ]
    }
   ],
   "source": [
    "# complex literals\n",
    "\n",
    "x = 5+10j\n",
    "\n",
    "print(type(x))"
   ]
  },
  {
   "cell_type": "code",
   "execution_count": 21,
   "id": "c7e95241",
   "metadata": {},
   "outputs": [
    {
     "name": "stdout",
     "output_type": "stream",
     "text": [
      "5.0\n",
      "10.0\n",
      "<class 'float'>\n",
      "<class 'float'>\n",
      "15.0\n"
     ]
    }
   ],
   "source": [
    "print(x.real)\n",
    "print(x.imag)\n",
    "\n",
    "print(type(x.real))\n",
    "print(type(x.imag))\n",
    "\n",
    "print(x.real + x.imag)"
   ]
  },
  {
   "cell_type": "code",
   "execution_count": null,
   "id": "48539628",
   "metadata": {},
   "outputs": [],
   "source": [
    "string = 'This is a python string'\n",
    "strings = \"This is a python string\"\n",
    "multiline_str = \"\"\"\n",
    "I am Programmer\n",
    "I love to learning new things\n",
    "\"\"\"\n",
    "char = 'c'\n",
    "unicode = u\"\\U0001f600\\U0001F606\\U0001F923\"\n",
    "raw_string = r\"raw \\n string\"   # raw line it will have type \\ character"
   ]
  },
  {
   "cell_type": "code",
   "execution_count": 31,
   "id": "2070bdab",
   "metadata": {},
   "outputs": [
    {
     "name": "stdout",
     "output_type": "stream",
     "text": [
      "😀😆🤣\n",
      "This is a python string\n",
      "This is a python string\n",
      "\n",
      "I am Programmer\n",
      "I love to learning new things\n",
      "\n",
      "c\n",
      "raw \\n string\n"
     ]
    }
   ],
   "source": [
    "print(unicode)\n",
    "print(string)\n",
    "print(strings)\n",
    "print(multiline_str)\n",
    "print(char)\n",
    "print(raw_string)"
   ]
  },
  {
   "cell_type": "code",
   "execution_count": 32,
   "id": "4b950598",
   "metadata": {},
   "outputs": [
    {
     "name": "stdout",
     "output_type": "stream",
     "text": [
      "a:  5\n",
      "b:  10\n"
     ]
    }
   ],
   "source": [
    "# True => 1\n",
    "# False => 0\n",
    "\n",
    "a = True + 4\n",
    "b = False + 10\n",
    "\n",
    "print('a: ', a)\n",
    "print('b: ', b)"
   ]
  },
  {
   "cell_type": "code",
   "execution_count": 33,
   "id": "277a0e46",
   "metadata": {},
   "outputs": [
    {
     "name": "stdout",
     "output_type": "stream",
     "text": [
      "None\n"
     ]
    }
   ],
   "source": [
    "x = None\n",
    "print(x)    # we need to create variable starter of the program use this"
   ]
  },
  {
   "cell_type": "markdown",
   "id": "b9994fcb",
   "metadata": {},
   "source": [
    "### #Arithmetic operator"
   ]
  },
  {
   "cell_type": "code",
   "execution_count": 35,
   "id": "732b7e5f",
   "metadata": {},
   "outputs": [
    {
     "name": "stdout",
     "output_type": "stream",
     "text": [
      "9\n",
      "4\n",
      "3.0\n",
      "3\n",
      "0\n",
      "25\n"
     ]
    }
   ],
   "source": [
    "print(4+5)\n",
    "print(6-2)\n",
    "print(6/2)\n",
    "print(7//2)\n",
    "print(6%2)\n",
    "print(5**2)"
   ]
  },
  {
   "cell_type": "markdown",
   "id": "60256106",
   "metadata": {},
   "source": [
    "### #Relational Operator"
   ]
  },
  {
   "cell_type": "code",
   "execution_count": 36,
   "id": "47948d49",
   "metadata": {},
   "outputs": [
    {
     "name": "stdout",
     "output_type": "stream",
     "text": [
      "True\n",
      "False\n",
      "True\n"
     ]
    }
   ],
   "source": [
    "print(4>2)\n",
    "print(5==2)\n",
    "print(3!=5)"
   ]
  },
  {
   "cell_type": "markdown",
   "id": "2b241e04",
   "metadata": {},
   "source": [
    "### #Logical Operator"
   ]
  },
  {
   "cell_type": "code",
   "execution_count": 37,
   "id": "0ee109e9",
   "metadata": {},
   "outputs": [
    {
     "name": "stdout",
     "output_type": "stream",
     "text": [
      "1\n",
      "0\n",
      "0\n"
     ]
    }
   ],
   "source": [
    "print(1 and 1)\n",
    "print(0 and 1)\n",
    "print(0 and 0)"
   ]
  },
  {
   "cell_type": "code",
   "execution_count": 38,
   "id": "fe56a61f",
   "metadata": {},
   "outputs": [
    {
     "name": "stdout",
     "output_type": "stream",
     "text": [
      "1\n",
      "0\n"
     ]
    }
   ],
   "source": [
    "print(1 or 0)\n",
    "print(0 or 0)"
   ]
  },
  {
   "cell_type": "code",
   "execution_count": 40,
   "id": "a5c1c085",
   "metadata": {},
   "outputs": [
    {
     "name": "stdout",
     "output_type": "stream",
     "text": [
      "False\n",
      "True\n"
     ]
    }
   ],
   "source": [
    "print(not 1)\n",
    "print(not 0)"
   ]
  },
  {
   "cell_type": "markdown",
   "id": "09c26044",
   "metadata": {},
   "source": [
    "### #Bitwise Operator"
   ]
  },
  {
   "cell_type": "code",
   "execution_count": 41,
   "id": "39280ead",
   "metadata": {},
   "outputs": [
    {
     "name": "stdout",
     "output_type": "stream",
     "text": [
      "2\n",
      "6\n",
      "1\n",
      "-6\n",
      "1\n",
      "20\n"
     ]
    }
   ],
   "source": [
    "#Bitwise and\n",
    "print(3 & 6)    #firstly its convert binary number and solve this operator\n",
    "\n",
    "#Bitwise or\n",
    "print(4 | 2)\n",
    "\n",
    "#Bitwise Xor\n",
    "print(3 ^ 2)\n",
    "\n",
    "#Bitwise not\n",
    "print(~5)\n",
    "\n",
    "#Bitwise right shift\n",
    "print(4 >> 2)\n",
    "\n",
    "#Bitwise left shift\n",
    "print(5 << 2)"
   ]
  },
  {
   "cell_type": "markdown",
   "id": "f33f459e",
   "metadata": {},
   "source": [
    "### #Assignment operator"
   ]
  },
  {
   "cell_type": "code",
   "execution_count": 43,
   "id": "7f2101b1",
   "metadata": {},
   "outputs": [
    {
     "name": "stdout",
     "output_type": "stream",
     "text": [
      "6\n"
     ]
    }
   ],
   "source": [
    "a = 2\n",
    "\n",
    "a += 4  #like this all of the operators we can code\n",
    "print(a)"
   ]
  },
  {
   "cell_type": "markdown",
   "id": "21ffd0db",
   "metadata": {},
   "source": [
    "- a++ (Its increase the number of 1) \n",
    "- ++a (Its firstly increase the number and execute)"
   ]
  },
  {
   "cell_type": "markdown",
   "id": "9fb44a83",
   "metadata": {},
   "source": [
    "### #Membership operator"
   ]
  },
  {
   "cell_type": "code",
   "execution_count": 47,
   "id": "0378af52",
   "metadata": {},
   "outputs": [
    {
     "name": "stdout",
     "output_type": "stream",
     "text": [
      "False\n",
      "True\n",
      "True\n",
      "False\n",
      "True\n"
     ]
    }
   ],
   "source": [
    "# in / not in\n",
    "print('M' in \"Colombo\")\n",
    "print('C' in \"Colombo\")\n",
    "\n",
    "print('M' not in \"Colombo\")\n",
    "print('C' not in \"Colombo\")\n",
    "\n",
    "print(1 in [1, 2, 3, 4, 5, 6])"
   ]
  },
  {
   "cell_type": "markdown",
   "id": "1f42cb6b",
   "metadata": {},
   "source": [
    "### Exercise\n",
    "\n",
    "- Find the sum of 3 digit number entered by the user"
   ]
  },
  {
   "cell_type": "code",
   "execution_count": 52,
   "id": "379f8225",
   "metadata": {},
   "outputs": [
    {
     "name": "stdout",
     "output_type": "stream",
     "text": [
      "Summation of the Numbers (3.0, 5.0, 9.0):  17.0\n"
     ]
    }
   ],
   "source": [
    "n1 = float(input('Insert a number-1\\t: '))\n",
    "n2 = float(input('Insert a number-2\\t: '))\n",
    "n3 = float(input('Insert a number-3\\t: '))\n",
    "\n",
    "sum = n1+n2+n3\n",
    "print(f'Summation of the Numbers {n1, n2, n3}: ', sum)"
   ]
  },
  {
   "cell_type": "code",
   "execution_count": 60,
   "id": "95fe3160",
   "metadata": {},
   "outputs": [
    {
     "name": "stdout",
     "output_type": "stream",
     "text": [
      "5\n",
      "Summation of the Numbers (3, 4, 5):  12\n"
     ]
    }
   ],
   "source": [
    "number = int(input('Insert a 3 digit numbers\\t: '))\n",
    "\n",
    "# 345%10 => 5\n",
    "a = number%10\n",
    "print(a)\n",
    "\n",
    "number = number//10 # 345 // 10 => 34\n",
    "b = number%10\n",
    "\n",
    "number = number//10 # 34 // 10 => 3\n",
    "c = number%10\n",
    "\n",
    "result = a + b + c\n",
    "print(f'Summation of the Numbers {c, b, a}: ', result)"
   ]
  },
  {
   "cell_type": "markdown",
   "id": "3d16c4b5",
   "metadata": {},
   "source": [
    "### Conditional Statement"
   ]
  },
  {
   "cell_type": "code",
   "execution_count": 63,
   "id": "ca2a59c7",
   "metadata": {},
   "outputs": [
    {
     "name": "stdout",
     "output_type": "stream",
     "text": [
      "You are login successfully!\n"
     ]
    }
   ],
   "source": [
    "# Login function demo using if else\n",
    "act_email = \"test@gmail.com\"\n",
    "act_password = 'test123'\n",
    "\n",
    "insert_email = input('Enter Email Address: ')\n",
    "insert_password = input(\"Enter Password: \")\n",
    "\n",
    "if insert_email == act_email and insert_password == act_password:\n",
    "    print('You are login successfully!')\n",
    "else:\n",
    "    print('Email or password is incorrect')    "
   ]
  },
  {
   "cell_type": "code",
   "execution_count": 69,
   "id": "40e04a95",
   "metadata": {},
   "outputs": [
    {
     "name": "stdout",
     "output_type": "stream",
     "text": [
      "You are login successfully!\n"
     ]
    }
   ],
   "source": [
    "# Login function demo using if elif else\n",
    "act_email = \"test@gmail.com\"\n",
    "act_password = 'test123'\n",
    "\n",
    "insert_email = input('Enter Email Address: ')\n",
    "insert_password = input(\"Enter Password: \")\n",
    "\n",
    "if insert_email == act_email and insert_password == act_password:\n",
    "    print('You are login successfully!')\n",
    "elif insert_email != act_email and insert_password == act_password:\n",
    "    print('Your Email is Invalid!')\n",
    "elif insert_password != act_password and insert_email == act_email:\n",
    "    print('Your Password is Invalid')\n",
    "else:\n",
    "    print('Your Email and Password Invalid!')        "
   ]
  },
  {
   "cell_type": "code",
   "execution_count": 73,
   "id": "1d881e39",
   "metadata": {},
   "outputs": [
    {
     "name": "stdout",
     "output_type": "stream",
     "text": [
      "You are login successfully!\n"
     ]
    }
   ],
   "source": [
    "# Login function demo using if elif else and nested if else\n",
    "act_email = \"test@gmail.com\"\n",
    "act_password = 'test123'\n",
    "\n",
    "insert_email = input('Enter Email Address: ')\n",
    "insert_password = input(\"Enter Password: \")\n",
    "\n",
    "if insert_email and insert_password:\n",
    "    if insert_email != act_email or insert_password != act_password:\n",
    "        print('Invalid Credentials')\n",
    "    else:\n",
    "        print('You are login successfully!')\n",
    "else:\n",
    "    print('Email and Password required')"
   ]
  },
  {
   "cell_type": "markdown",
   "id": "cd29b382",
   "metadata": {},
   "source": [
    "### Modules"
   ]
  },
  {
   "cell_type": "markdown",
   "id": "9aa99378",
   "metadata": {},
   "source": [
    "- Builtin Module / Package => Inside python packages\n",
    "- External Module / Package => we need to install and use packages"
   ]
  },
  {
   "cell_type": "markdown",
   "id": "1e7bfec3",
   "metadata": {},
   "source": [
    "#### Builtin Module"
   ]
  },
  {
   "cell_type": "markdown",
   "id": "94a37974",
   "metadata": {},
   "source": [
    "- math\n",
    "- keyword\n",
    "- random\n",
    "- datetime"
   ]
  },
  {
   "cell_type": "code",
   "execution_count": 2,
   "id": "e1bfcd99",
   "metadata": {},
   "outputs": [
    {
     "data": {
      "text/plain": [
       "4.898979485566356"
      ]
     },
     "execution_count": 2,
     "metadata": {},
     "output_type": "execute_result"
    }
   ],
   "source": [
    "import math\n",
    "\n",
    "math.sqrt(24)"
   ]
  },
  {
   "cell_type": "code",
   "execution_count": null,
   "id": "242f195a",
   "metadata": {},
   "outputs": [
    {
     "data": {
      "text/plain": [
       "710998587804863451854045647463724949736497978881168458687447040000000000000"
      ]
     },
     "execution_count": 3,
     "metadata": {},
     "output_type": "execute_result"
    }
   ],
   "source": [
    "math.factorial(56)"
   ]
  },
  {
   "cell_type": "code",
   "execution_count": 9,
   "id": "586adbbc",
   "metadata": {},
   "outputs": [
    {
     "name": "stdout",
     "output_type": "stream",
     "text": [
      "['False', 'None', 'True', 'and', 'as', 'assert', 'async', 'await', 'break', 'class', 'continue', 'def', 'del', 'elif', 'else', 'except', 'finally', 'for', 'from', 'global', 'if', 'import', 'in', 'is', 'lambda', 'nonlocal', 'not', 'or', 'pass', 'raise', 'return', 'try', 'while', 'with', 'yield']\n"
     ]
    }
   ],
   "source": [
    "import keyword\n",
    "\n",
    "print(keyword.kwlist)"
   ]
  },
  {
   "cell_type": "code",
   "execution_count": 5,
   "id": "344c2e17",
   "metadata": {},
   "outputs": [
    {
     "name": "stdout",
     "output_type": "stream",
     "text": [
      "61\n"
     ]
    }
   ],
   "source": [
    "import random\n",
    "\n",
    "print(random.randint(1, 100))"
   ]
  },
  {
   "cell_type": "code",
   "execution_count": 10,
   "id": "4393238b",
   "metadata": {},
   "outputs": [
    {
     "name": "stdout",
     "output_type": "stream",
     "text": [
      "2025-07-09 07:49:12.786312\n"
     ]
    }
   ],
   "source": [
    "import datetime\n",
    "\n",
    "print(datetime.datetime.now())"
   ]
  },
  {
   "cell_type": "markdown",
   "id": "dc73b394",
   "metadata": {},
   "source": [
    "#### External Module (pip)"
   ]
  },
  {
   "cell_type": "code",
   "execution_count": 12,
   "id": "b08cca43",
   "metadata": {},
   "outputs": [
    {
     "name": "stdout",
     "output_type": "stream",
     "text": [
      "Requirement already satisfied: flask in /Users/prashankulathunga/miniforge3/envs/tensorflow/lib/python3.11/site-packages (3.1.1)\n",
      "Requirement already satisfied: blinker>=1.9.0 in /Users/prashankulathunga/miniforge3/envs/tensorflow/lib/python3.11/site-packages (from flask) (1.9.0)\n",
      "Requirement already satisfied: click>=8.1.3 in /Users/prashankulathunga/miniforge3/envs/tensorflow/lib/python3.11/site-packages (from flask) (8.2.1)\n",
      "Requirement already satisfied: itsdangerous>=2.2.0 in /Users/prashankulathunga/miniforge3/envs/tensorflow/lib/python3.11/site-packages (from flask) (2.2.0)\n",
      "Requirement already satisfied: jinja2>=3.1.2 in /Users/prashankulathunga/miniforge3/envs/tensorflow/lib/python3.11/site-packages (from flask) (3.1.6)\n",
      "Requirement already satisfied: markupsafe>=2.1.1 in /Users/prashankulathunga/miniforge3/envs/tensorflow/lib/python3.11/site-packages (from flask) (3.0.2)\n",
      "Requirement already satisfied: werkzeug>=3.1.0 in /Users/prashankulathunga/miniforge3/envs/tensorflow/lib/python3.11/site-packages (from flask) (3.1.3)\n"
     ]
    }
   ],
   "source": [
    "!pip install flask"
   ]
  },
  {
   "cell_type": "markdown",
   "id": "7d1034df",
   "metadata": {},
   "source": [
    "### Loops"
   ]
  },
  {
   "cell_type": "markdown",
   "id": "ace1f018",
   "metadata": {},
   "source": [
    "- while Loop"
   ]
  },
  {
   "cell_type": "code",
   "execution_count": 2,
   "id": "03d178db",
   "metadata": {},
   "outputs": [
    {
     "name": "stdout",
     "output_type": "stream",
     "text": [
      "hello Python\n",
      "hello Python\n",
      "hello Python\n",
      "hello Python\n",
      "hello Python\n",
      "hello Python\n",
      "hello Python\n",
      "hello Python\n",
      "hello Python\n",
      "hello Python\n",
      "program executed\n"
     ]
    }
   ],
   "source": [
    "count = 0\n",
    "\n",
    "while count < 10:\n",
    "    print(\"hello Python\")\n",
    "    count+=1\n",
    "else:\n",
    "    print(\"program executed\")    "
   ]
  },
  {
   "cell_type": "markdown",
   "id": "a3456628",
   "metadata": {},
   "source": [
    "- for loop"
   ]
  },
  {
   "cell_type": "code",
   "execution_count": 3,
   "id": "d36f8237",
   "metadata": {},
   "outputs": [
    {
     "name": "stdout",
     "output_type": "stream",
     "text": [
      "hello python\n",
      "hello python\n",
      "hello python\n",
      "hello python\n",
      "hello python\n",
      "hello python\n",
      "hello python\n",
      "hello python\n",
      "hello python\n",
      "hello python\n"
     ]
    }
   ],
   "source": [
    "for i in range(0, 10):\n",
    "    print(\"hello python\")"
   ]
  },
  {
   "cell_type": "code",
   "execution_count": 5,
   "id": "46232b6d",
   "metadata": {},
   "outputs": [
    {
     "name": "stdout",
     "output_type": "stream",
     "text": [
      "1\n",
      "3\n",
      "5\n",
      "7\n",
      "9\n"
     ]
    }
   ],
   "source": [
    "for i in range(1,11,2):\n",
    "    print(i)"
   ]
  },
  {
   "cell_type": "markdown",
   "id": "8f9f9712",
   "metadata": {},
   "source": [
    "- Program : The current population of the town is 10000. The population of the town is increasing at the rate of 10% per year. You have to write a program find out of the population at the end of each of the last 10 years"
   ]
  },
  {
   "cell_type": "code",
   "execution_count": 27,
   "id": "80104b57",
   "metadata": {},
   "outputs": [
    {
     "name": "stdout",
     "output_type": "stream",
     "text": [
      "Current Population : 10000\n",
      "Current Population : 9090.90909090909\n",
      "Current Population : 8264.462809917353\n",
      "Current Population : 7513.148009015775\n",
      "Current Population : 6830.134553650703\n",
      "Current Population : 6209.213230591548\n",
      "Current Population : 5644.739300537771\n",
      "Current Population : 5131.5811823070635\n",
      "Current Population : 4665.07380209733\n",
      "Current Population : 4240.976183724845\n"
     ]
    }
   ],
   "source": [
    "current_population = 10000\n",
    "\n",
    "for i in range(10, 0, -1):  # if we go to reverse therefore, our range is range(10, 0, -1)\n",
    "    print(f\"Current Population : {current_population}\")\n",
    "\n",
    "    # current_population(future) = current_population(present) + current_population(present) * 0.1   \n",
    "    # current_population(future) = current_population(present) (1 + 0.1)\n",
    "    # current_population(future) = current_population(present) * 1.1\n",
    "    # we have future population therefore we need to divide current_population(future) to 1.1\n",
    "\n",
    "    current_population = current_population / 1.1"
   ]
  },
  {
   "cell_type": "code",
   "execution_count": 29,
   "id": "cf008f9c",
   "metadata": {},
   "outputs": [
    {
     "name": "stdout",
     "output_type": "stream",
     "text": [
      "1 1\n",
      "1 2\n",
      "1 3\n",
      "1 4\n",
      "2 1\n",
      "2 2\n",
      "2 3\n",
      "2 4\n",
      "3 1\n",
      "3 2\n",
      "3 3\n",
      "3 4\n",
      "4 1\n",
      "4 2\n",
      "4 3\n",
      "4 4\n",
      "program executed\n"
     ]
    }
   ],
   "source": [
    "for i in range(1,5):\n",
    "    for j in range(1, 5):\n",
    "        print(i, j)\n",
    "print(\"program executed\")        "
   ]
  },
  {
   "cell_type": "markdown",
   "id": "d70f2416",
   "metadata": {},
   "source": [
    "### Exercise"
   ]
  },
  {
   "cell_type": "code",
   "execution_count": 42,
   "id": "d922a7b7",
   "metadata": {},
   "outputs": [
    {
     "name": "stdout",
     "output_type": "stream",
     "text": [
      "*\n",
      "**\n",
      "***\n",
      "****\n",
      "*****\n",
      "******\n"
     ]
    }
   ],
   "source": [
    "row = int(input('Enter Row Number: '))\n",
    "\n",
    "sum = 0\n",
    "for i in range(1,row+1):\n",
    "    for j in range(0, i):\n",
    "        sum += 1\n",
    "    print(\"*\"*sum)\n",
    "    sum = 0"
   ]
  },
  {
   "cell_type": "code",
   "execution_count": 46,
   "id": "19b564d9",
   "metadata": {},
   "outputs": [
    {
     "name": "stdout",
     "output_type": "stream",
     "text": [
      "*\n",
      "**\n",
      "***\n",
      "****\n",
      "*****\n",
      "******\n",
      "*******\n",
      "********\n"
     ]
    }
   ],
   "source": [
    "row = int(input('Enter Row Number: '))\n",
    "\n",
    "sum = 0\n",
    "for i in range(1,row+1):\n",
    "    for j in range(1, i+1):\n",
    "        print(\"*\", end=\"\")\n",
    "    print(\"\")        "
   ]
  },
  {
   "cell_type": "markdown",
   "id": "2c0f8818",
   "metadata": {},
   "source": [
    "### Loop control statement"
   ]
  },
  {
   "cell_type": "code",
   "execution_count": 48,
   "id": "669f180f",
   "metadata": {},
   "outputs": [
    {
     "name": "stdout",
     "output_type": "stream",
     "text": [
      "1\n",
      "2\n",
      "3\n",
      "4\n"
     ]
    }
   ],
   "source": [
    "# Break\n",
    "\n",
    "for i in range(1, 11):\n",
    "    if i == 5:\n",
    "        break\n",
    "    print(i)"
   ]
  },
  {
   "cell_type": "code",
   "execution_count": 49,
   "id": "2a60c31d",
   "metadata": {},
   "outputs": [
    {
     "name": "stdout",
     "output_type": "stream",
     "text": [
      "1 1\n",
      "1 2\n",
      "2 1\n",
      "2 2\n",
      "3 1\n",
      "3 2\n",
      "4 1\n",
      "4 2\n",
      "5 1\n",
      "5 2\n"
     ]
    }
   ],
   "source": [
    "for i in range (1, 6):\n",
    "    for j in range(1, 6):\n",
    "        if j == 3:\n",
    "            break\n",
    "        print(i, j)"
   ]
  },
  {
   "cell_type": "code",
   "execution_count": 57,
   "id": "7ebc9ecc",
   "metadata": {},
   "outputs": [
    {
     "name": "stdout",
     "output_type": "stream",
     "text": [
      "5\n",
      "7\n",
      "11\n",
      "13\n",
      "17\n",
      "19\n",
      "23\n"
     ]
    }
   ],
   "source": [
    "lower = int(input(\"Enter Lower Range: \"))\n",
    "upper = int(input(\"Enter Upper Range: \"))\n",
    "\n",
    "for i in range(lower, upper+1):\n",
    "    for j in range(2, i):\n",
    "        # its need to divide by past numbers its module result != 0\n",
    "        if i%j == 0:\n",
    "            break\n",
    "    else:\n",
    "        print(i)    "
   ]
  },
  {
   "cell_type": "code",
   "execution_count": 60,
   "id": "b0ca146f",
   "metadata": {},
   "outputs": [
    {
     "name": "stdout",
     "output_type": "stream",
     "text": [
      "1\n",
      "2\n",
      "3\n",
      "4\n",
      "6\n",
      "7\n",
      "8\n",
      "9\n"
     ]
    }
   ],
   "source": [
    "# continue\n",
    "\n",
    "for i in range(1, 10):\n",
    "    if i == 5:\n",
    "        continue\n",
    "    print(i)"
   ]
  },
  {
   "cell_type": "code",
   "execution_count": 61,
   "id": "e97a583c",
   "metadata": {},
   "outputs": [],
   "source": [
    "# pass \n",
    "\n",
    "for i in range(1,10):\n",
    "    pass"
   ]
  },
  {
   "cell_type": "markdown",
   "id": "3c7e6868",
   "metadata": {},
   "source": [
    "## Strings are sequence of characters"
   ]
  },
  {
   "cell_type": "markdown",
   "id": "bb6e92f1",
   "metadata": {},
   "source": [
    "### In python specifically, strings are sequence of unicode characters "
   ]
  },
  {
   "cell_type": "markdown",
   "id": "16d4adf7",
   "metadata": {},
   "source": [
    "#### Topic to be discuss\n",
    "\n",
    "- Creating String \n",
    "- Accessing Strings\n",
    "- Adding Chars to Strings\n",
    "- Editing Strings \n",
    "- Deleting Strings\n",
    "- Operations on Strings\n",
    "- Strings Functions"
   ]
  },
  {
   "cell_type": "markdown",
   "id": "b601e674",
   "metadata": {},
   "source": [
    "### Creating Strings"
   ]
  },
  {
   "cell_type": "code",
   "execution_count": 62,
   "id": "8f72ef08",
   "metadata": {},
   "outputs": [
    {
     "name": "stdout",
     "output_type": "stream",
     "text": [
      "hello\n"
     ]
    }
   ],
   "source": [
    "s = \"hello\"\n",
    "s = 'hello'\n",
    "# multiline strings\n",
    "s = \"\"\"hello\"\"\"\n",
    "s = '''hello'''\n",
    "s = str('hello')\n",
    "print(s)"
   ]
  },
  {
   "cell_type": "code",
   "execution_count": 63,
   "id": "f355abfb",
   "metadata": {},
   "outputs": [
    {
     "data": {
      "text/plain": [
       "\"it's my car\""
      ]
     },
     "execution_count": 63,
     "metadata": {},
     "output_type": "execute_result"
    }
   ],
   "source": [
    "\"it's my car\""
   ]
  },
  {
   "cell_type": "markdown",
   "id": "026668e7",
   "metadata": {},
   "source": [
    "### Accessing Strings"
   ]
  },
  {
   "cell_type": "code",
   "execution_count": null,
   "id": "f0be1a83",
   "metadata": {},
   "outputs": [],
   "source": [
    "#positive accessing\n",
    "s = 'welcome to python'"
   ]
  },
  {
   "cell_type": "code",
   "execution_count": 68,
   "id": "6bea9f53",
   "metadata": {},
   "outputs": [
    {
     "name": "stdout",
     "output_type": "stream",
     "text": [
      "l\n",
      "elcome to\n",
      "17\n"
     ]
    }
   ],
   "source": [
    "print(s[2])\n",
    "print(s[1:10])\n",
    "print(len(s))"
   ]
  },
  {
   "cell_type": "code",
   "execution_count": 69,
   "id": "4493dfeb",
   "metadata": {},
   "outputs": [],
   "source": [
    "# Negative accessing\n",
    "s = \"welcome to python\""
   ]
  },
  {
   "cell_type": "code",
   "execution_count": 72,
   "id": "486e4b01",
   "metadata": {},
   "outputs": [
    {
     "name": "stdout",
     "output_type": "stream",
     "text": [
      "n\n",
      "n\n"
     ]
    }
   ],
   "source": [
    "print(s[16])\n",
    "print(s[-1])"
   ]
  },
  {
   "cell_type": "code",
   "execution_count": 75,
   "id": "46157c8a",
   "metadata": {},
   "outputs": [
    {
     "name": "stdout",
     "output_type": "stream",
     "text": [
      "welcom\n"
     ]
    }
   ],
   "source": [
    "print(s[0:6])\n",
    "# its extract not get 6 index char therefor we need to welcome print(s[0:7])"
   ]
  },
  {
   "cell_type": "code",
   "execution_count": 79,
   "id": "837ab4de",
   "metadata": {},
   "outputs": [
    {
     "name": "stdout",
     "output_type": "stream",
     "text": [
      "welcome to python\n",
      "welcome to p\n",
      "welcome to python\n"
     ]
    }
   ],
   "source": [
    "print(s[0:])\n",
    "print(s[:12])\n",
    "print(s[:])"
   ]
  },
  {
   "cell_type": "code",
   "execution_count": 77,
   "id": "e47fe1f7",
   "metadata": {},
   "outputs": [
    {
     "name": "stdout",
     "output_type": "stream",
     "text": [
      "nohtyp ot emoclew\n"
     ]
    }
   ],
   "source": [
    "print(s[::-1])"
   ]
  },
  {
   "cell_type": "code",
   "execution_count": 80,
   "id": "73358720",
   "metadata": {},
   "outputs": [
    {
     "name": "stdout",
     "output_type": "stream",
     "text": [
      "nohtyp ot emo\n"
     ]
    }
   ],
   "source": [
    "print(s[:3:-1])"
   ]
  },
  {
   "cell_type": "code",
   "execution_count": 83,
   "id": "93c2e947",
   "metadata": {},
   "outputs": [
    {
     "name": "stdout",
     "output_type": "stream",
     "text": [
      "loet \n"
     ]
    }
   ],
   "source": [
    "print(s[2:12:2])\n",
    "# jump parameters is jump 2 wise 2"
   ]
  },
  {
   "cell_type": "code",
   "execution_count": 85,
   "id": "a9cc62a3",
   "metadata": {},
   "outputs": [
    {
     "name": "stdout",
     "output_type": "stream",
     "text": [
      "nohtyp ot emoclew\n",
      "nhy teolw\n"
     ]
    }
   ],
   "source": [
    "print(s[::-1])\n",
    "print(s[::-2])"
   ]
  },
  {
   "cell_type": "code",
   "execution_count": 86,
   "id": "7ce86238",
   "metadata": {},
   "outputs": [
    {
     "name": "stdout",
     "output_type": "stream",
     "text": [
      "pytho\n"
     ]
    }
   ],
   "source": [
    "print(s[-6:-1])"
   ]
  },
  {
   "cell_type": "code",
   "execution_count": 88,
   "id": "447e0837",
   "metadata": {},
   "outputs": [
    {
     "name": "stdout",
     "output_type": "stream",
     "text": [
      "python\n"
     ]
    }
   ],
   "source": [
    "print(s[-6:])"
   ]
  },
  {
   "cell_type": "code",
   "execution_count": 93,
   "id": "b954d193",
   "metadata": {},
   "outputs": [
    {
     "name": "stdout",
     "output_type": "stream",
     "text": [
      "welcome to python\n",
      "nohtyp\n"
     ]
    }
   ],
   "source": [
    "print(s[:])\n",
    "print(s[-1:-7:-1])"
   ]
  },
  {
   "cell_type": "markdown",
   "id": "7c86829f",
   "metadata": {},
   "source": [
    "### Adding Chars to Strings"
   ]
  },
  {
   "cell_type": "code",
   "execution_count": 94,
   "id": "2d4bb9ea",
   "metadata": {},
   "outputs": [],
   "source": [
    "s = \"welcome to python\""
   ]
  },
  {
   "cell_type": "code",
   "execution_count": 95,
   "id": "19c8196c",
   "metadata": {},
   "outputs": [],
   "source": [
    "# Strings are immutable (can not edit)"
   ]
  },
  {
   "cell_type": "markdown",
   "id": "76c57aff",
   "metadata": {},
   "source": [
    "### Delete Strings"
   ]
  },
  {
   "cell_type": "code",
   "execution_count": 99,
   "id": "47574fdd",
   "metadata": {},
   "outputs": [],
   "source": [
    "s = \"welcome to python\"\n",
    "del s\n",
    "# we can not delete characters but we can delete entire string"
   ]
  },
  {
   "cell_type": "code",
   "execution_count": 98,
   "id": "7d72012c",
   "metadata": {},
   "outputs": [
    {
     "ename": "NameError",
     "evalue": "name 's' is not defined",
     "output_type": "error",
     "traceback": [
      "\u001b[31m---------------------------------------------------------------------------\u001b[39m",
      "\u001b[31mNameError\u001b[39m                                 Traceback (most recent call last)",
      "\u001b[36mCell\u001b[39m\u001b[36m \u001b[39m\u001b[32mIn[98]\u001b[39m\u001b[32m, line 1\u001b[39m\n\u001b[32m----> \u001b[39m\u001b[32m1\u001b[39m \u001b[38;5;28mprint\u001b[39m(\u001b[43ms\u001b[49m)\n",
      "\u001b[31mNameError\u001b[39m: name 's' is not defined"
     ]
    }
   ],
   "source": [
    "print(s)"
   ]
  },
  {
   "cell_type": "markdown",
   "id": "c2606dae",
   "metadata": {},
   "source": [
    "### Operations on Strings"
   ]
  },
  {
   "cell_type": "markdown",
   "id": "d67d72cf",
   "metadata": {},
   "source": [
    "- Arithmetic operations \n",
    "- Relational operations \n",
    "- Logical operations\n",
    "- Loops on strings\n",
    "- Membership operations"
   ]
  },
  {
   "cell_type": "markdown",
   "id": "fd7be711",
   "metadata": {},
   "source": [
    "### Arithmetic operations"
   ]
  },
  {
   "cell_type": "code",
   "execution_count": 101,
   "id": "b409c3ac",
   "metadata": {},
   "outputs": [
    {
     "name": "stdout",
     "output_type": "stream",
     "text": [
      "HiEveryone\n",
      "Hi Everyone\n"
     ]
    }
   ],
   "source": [
    "print(\"Hi\" + \"Everyone\")\n",
    "print(\"Hi\" + \" \" + \"Everyone\")"
   ]
  },
  {
   "cell_type": "code",
   "execution_count": 102,
   "id": "51ddcb2b",
   "metadata": {},
   "outputs": [
    {
     "name": "stdout",
     "output_type": "stream",
     "text": [
      "HiHiHiHiHi\n"
     ]
    }
   ],
   "source": [
    "print(\"Hi\" * 5)"
   ]
  },
  {
   "cell_type": "code",
   "execution_count": 103,
   "id": "407e4f96",
   "metadata": {},
   "outputs": [
    {
     "name": "stdout",
     "output_type": "stream",
     "text": [
      "****************************************************************************************************\n"
     ]
    }
   ],
   "source": [
    "print(\"*\" * 100)"
   ]
  },
  {
   "cell_type": "markdown",
   "id": "b87d676c",
   "metadata": {},
   "source": [
    "### Relational operations"
   ]
  },
  {
   "cell_type": "code",
   "execution_count": 104,
   "id": "f09e45a2",
   "metadata": {},
   "outputs": [
    {
     "name": "stdout",
     "output_type": "stream",
     "text": [
      "True\n",
      "True\n",
      "False\n",
      "False\n",
      "True\n"
     ]
    }
   ],
   "source": [
    "print(\"hello\" == \"hello\")\n",
    "print(\"hello\" != \"world\")\n",
    "print(\"hello\" > \"hi\")\n",
    "print(\"hello\" > \"world\")\n",
    "print(\"hello\" >= \"hello\")"
   ]
  },
  {
   "cell_type": "markdown",
   "id": "d698c3dd",
   "metadata": {},
   "source": [
    "### Logical operations"
   ]
  },
  {
   "cell_type": "markdown",
   "id": "b42a946b",
   "metadata": {},
   "source": [
    "- \" \" => empty strings always False \n",
    "- \"hello\" => always True"
   ]
  },
  {
   "cell_type": "code",
   "execution_count": 3,
   "id": "449abf89",
   "metadata": {},
   "outputs": [
    {
     "data": {
      "text/plain": [
       "'world'"
      ]
     },
     "execution_count": 3,
     "metadata": {},
     "output_type": "execute_result"
    }
   ],
   "source": [
    "\"hello\" and \"world\" # always get second one its if true"
   ]
  },
  {
   "cell_type": "code",
   "execution_count": 4,
   "id": "d2f47491",
   "metadata": {},
   "outputs": [
    {
     "data": {
      "text/plain": [
       "'hello'"
      ]
     },
     "execution_count": 4,
     "metadata": {},
     "output_type": "execute_result"
    }
   ],
   "source": [
    "\"hello\" or \"wold\"   # always get first one if its true"
   ]
  },
  {
   "cell_type": "code",
   "execution_count": null,
   "id": "5168ed7b",
   "metadata": {},
   "outputs": [
    {
     "data": {
      "text/plain": [
       "True"
      ]
     },
     "execution_count": 6,
     "metadata": {},
     "output_type": "execute_result"
    }
   ],
   "source": [
    "not \"hello\""
   ]
  },
  {
   "cell_type": "code",
   "execution_count": 7,
   "id": "31da6eb8",
   "metadata": {},
   "outputs": [
    {
     "data": {
      "text/plain": [
       "True"
      ]
     },
     "execution_count": 7,
     "metadata": {},
     "output_type": "execute_result"
    }
   ],
   "source": [
    "not \"\""
   ]
  },
  {
   "cell_type": "markdown",
   "id": "9c969aa7",
   "metadata": {},
   "source": [
    "### Loops operations"
   ]
  },
  {
   "cell_type": "code",
   "execution_count": 1,
   "id": "f8a2f240",
   "metadata": {},
   "outputs": [
    {
     "name": "stdout",
     "output_type": "stream",
     "text": [
      "p\n",
      "y\n",
      "t\n",
      "h\n",
      "o\n",
      "n\n"
     ]
    }
   ],
   "source": [
    "for i in \"python\":\n",
    "    print(i)"
   ]
  },
  {
   "cell_type": "code",
   "execution_count": 2,
   "id": "7fdc23e8",
   "metadata": {},
   "outputs": [
    {
     "name": "stdout",
     "output_type": "stream",
     "text": [
      "Hello\n",
      "Hello\n",
      "Hello\n",
      "Hello\n",
      "Hello\n",
      "Hello\n"
     ]
    }
   ],
   "source": [
    "for i in \"python\":\n",
    "    print(\"Hello\")"
   ]
  },
  {
   "cell_type": "markdown",
   "id": "9b27b20b",
   "metadata": {},
   "source": [
    "### Membership operations"
   ]
  },
  {
   "cell_type": "code",
   "execution_count": 3,
   "id": "28406526",
   "metadata": {},
   "outputs": [
    {
     "data": {
      "text/plain": [
       "True"
      ]
     },
     "execution_count": 3,
     "metadata": {},
     "output_type": "execute_result"
    }
   ],
   "source": [
    "\"p\" in \"python\""
   ]
  },
  {
   "cell_type": "code",
   "execution_count": 4,
   "id": "3d24ac1b",
   "metadata": {},
   "outputs": [
    {
     "data": {
      "text/plain": [
       "False"
      ]
     },
     "execution_count": 4,
     "metadata": {},
     "output_type": "execute_result"
    }
   ],
   "source": [
    "\"p\" not in \"python\""
   ]
  },
  {
   "cell_type": "markdown",
   "id": "54cbeffe",
   "metadata": {},
   "source": [
    "### Strings Functions / Methods"
   ]
  },
  {
   "cell_type": "markdown",
   "id": "01c08c21",
   "metadata": {},
   "source": [
    "- len\n",
    "- min\n",
    "- max\n",
    "- sorted"
   ]
  },
  {
   "cell_type": "code",
   "execution_count": 5,
   "id": "f9c19ffe",
   "metadata": {},
   "outputs": [],
   "source": [
    "s = \"welcome to python\""
   ]
  },
  {
   "cell_type": "code",
   "execution_count": 6,
   "id": "2694163e",
   "metadata": {},
   "outputs": [
    {
     "name": "stdout",
     "output_type": "stream",
     "text": [
      "17\n"
     ]
    }
   ],
   "source": [
    "print(len(s))"
   ]
  },
  {
   "cell_type": "code",
   "execution_count": 7,
   "id": "09569bcb",
   "metadata": {},
   "outputs": [
    {
     "name": "stdout",
     "output_type": "stream",
     "text": [
      "y\n"
     ]
    }
   ],
   "source": [
    "print(max(s))"
   ]
  },
  {
   "cell_type": "code",
   "execution_count": 8,
   "id": "c3a80822",
   "metadata": {},
   "outputs": [
    {
     "name": "stdout",
     "output_type": "stream",
     "text": [
      " \n"
     ]
    }
   ],
   "source": [
    "print(min(s))"
   ]
  },
  {
   "cell_type": "code",
   "execution_count": null,
   "id": "bfc54e7a",
   "metadata": {},
   "outputs": [
    {
     "name": "stdout",
     "output_type": "stream",
     "text": [
      "[' ', ' ', 'c', 'e', 'e', 'h', 'l', 'm', 'n', 'o', 'o', 'o', 'p', 't', 't', 'w', 'y']\n"
     ]
    }
   ],
   "source": [
    "print(sorted(s))"
   ]
  },
  {
   "cell_type": "code",
   "execution_count": 10,
   "id": "32b911e5",
   "metadata": {},
   "outputs": [
    {
     "name": "stdout",
     "output_type": "stream",
     "text": [
      "['y', 'w', 't', 't', 'p', 'o', 'o', 'o', 'n', 'm', 'l', 'h', 'e', 'e', 'c', ' ', ' ']\n"
     ]
    }
   ],
   "source": [
    "print(sorted(s, reverse=True))"
   ]
  },
  {
   "cell_type": "markdown",
   "id": "85630bee",
   "metadata": {},
   "source": [
    "- capitalize\n",
    "- Title\n",
    "- Upper \n",
    "- Lower\n",
    "- Swapcase"
   ]
  },
  {
   "cell_type": "code",
   "execution_count": 11,
   "id": "bf83080e",
   "metadata": {},
   "outputs": [],
   "source": [
    "s = \"welcome to python\""
   ]
  },
  {
   "cell_type": "code",
   "execution_count": 13,
   "id": "5de7fc5a",
   "metadata": {},
   "outputs": [
    {
     "data": {
      "text/plain": [
       "'Welcome to python'"
      ]
     },
     "execution_count": 13,
     "metadata": {},
     "output_type": "execute_result"
    }
   ],
   "source": [
    "s.capitalize()  # its not a original one edit its edit copy of the string"
   ]
  },
  {
   "cell_type": "code",
   "execution_count": 14,
   "id": "1469406f",
   "metadata": {},
   "outputs": [
    {
     "data": {
      "text/plain": [
       "'Welcome To Python'"
      ]
     },
     "execution_count": 14,
     "metadata": {},
     "output_type": "execute_result"
    }
   ],
   "source": [
    "s.title()"
   ]
  },
  {
   "cell_type": "code",
   "execution_count": 15,
   "id": "8f189f40",
   "metadata": {},
   "outputs": [
    {
     "data": {
      "text/plain": [
       "'WELCOME TO PYTHON'"
      ]
     },
     "execution_count": 15,
     "metadata": {},
     "output_type": "execute_result"
    }
   ],
   "source": [
    "s.upper()"
   ]
  },
  {
   "cell_type": "code",
   "execution_count": 16,
   "id": "71bffe4c",
   "metadata": {},
   "outputs": [
    {
     "data": {
      "text/plain": [
       "'welcome to python'"
      ]
     },
     "execution_count": 16,
     "metadata": {},
     "output_type": "execute_result"
    }
   ],
   "source": [
    "s.lower()"
   ]
  },
  {
   "cell_type": "code",
   "execution_count": 18,
   "id": "a465de1f",
   "metadata": {},
   "outputs": [
    {
     "data": {
      "text/plain": [
       "'WElCmE TO PyTHON'"
      ]
     },
     "execution_count": 18,
     "metadata": {},
     "output_type": "execute_result"
    }
   ],
   "source": [
    "x = \"weLcMe to pYthon\"\n",
    "x.swapcase()"
   ]
  },
  {
   "cell_type": "markdown",
   "id": "fe8804d1",
   "metadata": {},
   "source": [
    "- count\n",
    "- find\n",
    "- index"
   ]
  },
  {
   "cell_type": "code",
   "execution_count": 19,
   "id": "98b3da62",
   "metadata": {},
   "outputs": [
    {
     "data": {
      "text/plain": [
       "1"
      ]
     },
     "execution_count": 19,
     "metadata": {},
     "output_type": "execute_result"
    }
   ],
   "source": [
    "s.count(\"p\")"
   ]
  },
  {
   "cell_type": "code",
   "execution_count": null,
   "id": "24776bc9",
   "metadata": {},
   "outputs": [
    {
     "data": {
      "text/plain": [
       "11"
      ]
     },
     "execution_count": 21,
     "metadata": {},
     "output_type": "execute_result"
    }
   ],
   "source": [
    "s.find(\"p\") # give index number"
   ]
  },
  {
   "cell_type": "code",
   "execution_count": 22,
   "id": "c34adc9f",
   "metadata": {},
   "outputs": [
    {
     "ename": "ValueError",
     "evalue": "substring not found",
     "output_type": "error",
     "traceback": [
      "\u001b[31m---------------------------------------------------------------------------\u001b[39m",
      "\u001b[31mValueError\u001b[39m                                Traceback (most recent call last)",
      "\u001b[36mCell\u001b[39m\u001b[36m \u001b[39m\u001b[32mIn[22]\u001b[39m\u001b[32m, line 1\u001b[39m\n\u001b[32m----> \u001b[39m\u001b[32m1\u001b[39m \u001b[43ms\u001b[49m\u001b[43m.\u001b[49m\u001b[43mindex\u001b[49m\u001b[43m(\u001b[49m\u001b[33;43m'\u001b[39;49m\u001b[33;43ms\u001b[39;49m\u001b[33;43m'\u001b[39;49m\u001b[43m)\u001b[49m\n",
      "\u001b[31mValueError\u001b[39m: substring not found"
     ]
    }
   ],
   "source": [
    "s.index('s')"
   ]
  },
  {
   "cell_type": "code",
   "execution_count": 25,
   "id": "8c1fecf8",
   "metadata": {},
   "outputs": [
    {
     "data": {
      "text/plain": [
       "11"
      ]
     },
     "execution_count": 25,
     "metadata": {},
     "output_type": "execute_result"
    }
   ],
   "source": [
    "s.index('p')"
   ]
  },
  {
   "cell_type": "code",
   "execution_count": 26,
   "id": "21318479",
   "metadata": {},
   "outputs": [
    {
     "data": {
      "text/plain": [
       "-1"
      ]
     },
     "execution_count": 26,
     "metadata": {},
     "output_type": "execute_result"
    }
   ],
   "source": [
    "s.find(\"a\")"
   ]
  },
  {
   "cell_type": "markdown",
   "id": "e059bff2",
   "metadata": {},
   "source": [
    "- find is return -1 is have'nt this element in sentence but index is throw error"
   ]
  },
  {
   "cell_type": "code",
   "execution_count": 27,
   "id": "37339afe",
   "metadata": {},
   "outputs": [
    {
     "data": {
      "text/plain": [
       "False"
      ]
     },
     "execution_count": 27,
     "metadata": {},
     "output_type": "execute_result"
    }
   ],
   "source": [
    "s.endswith(\"py\")"
   ]
  },
  {
   "cell_type": "code",
   "execution_count": 28,
   "id": "beb9071d",
   "metadata": {},
   "outputs": [
    {
     "data": {
      "text/plain": [
       "True"
      ]
     },
     "execution_count": 28,
     "metadata": {},
     "output_type": "execute_result"
    }
   ],
   "source": [
    "s.endswith(\"on\")"
   ]
  },
  {
   "cell_type": "code",
   "execution_count": 29,
   "id": "965a4cac",
   "metadata": {},
   "outputs": [
    {
     "data": {
      "text/plain": [
       "True"
      ]
     },
     "execution_count": 29,
     "metadata": {},
     "output_type": "execute_result"
    }
   ],
   "source": [
    "s.startswith(\"we\")"
   ]
  },
  {
   "cell_type": "code",
   "execution_count": 30,
   "id": "94eb348b",
   "metadata": {},
   "outputs": [],
   "source": [
    "name = \"John\"\n",
    "gender = \"Male\"\n",
    "\n",
    "s = \"My name is {}, and I am a {}\""
   ]
  },
  {
   "cell_type": "code",
   "execution_count": 31,
   "id": "e005adea",
   "metadata": {},
   "outputs": [
    {
     "data": {
      "text/plain": [
       "'My name is John, and I am a Male'"
      ]
     },
     "execution_count": 31,
     "metadata": {},
     "output_type": "execute_result"
    }
   ],
   "source": [
    "s.format(name, gender)"
   ]
  },
  {
   "cell_type": "code",
   "execution_count": 32,
   "id": "ef664538",
   "metadata": {},
   "outputs": [
    {
     "name": "stdout",
     "output_type": "stream",
     "text": [
      "Hello Prashan Kulathunga,  Welcome to Facebook\n"
     ]
    }
   ],
   "source": [
    "name = str(input(\"Enter Your Name: \"))\n",
    "greeting = \"Hello {},  Welcome to Facebook\"\n",
    "\n",
    "print(greeting.format(name))"
   ]
  },
  {
   "cell_type": "code",
   "execution_count": 33,
   "id": "c1100b0d",
   "metadata": {},
   "outputs": [
    {
     "name": "stdout",
     "output_type": "stream",
     "text": [
      "My name is Male, I am a John\n"
     ]
    }
   ],
   "source": [
    "name = \"John\"\n",
    "gender = \"Male\"\n",
    "\n",
    "s = \"My name is {}, I am a {}\"\n",
    "\n",
    "print(s.format(gender, name))"
   ]
  },
  {
   "cell_type": "code",
   "execution_count": 34,
   "id": "a13a4069",
   "metadata": {},
   "outputs": [
    {
     "name": "stdout",
     "output_type": "stream",
     "text": [
      "My name is John, I am a Male\n"
     ]
    }
   ],
   "source": [
    "name = \"John\"\n",
    "gender = \"Male\"\n",
    "\n",
    "s = \"My name is {1}, I am a {0}\"\n",
    "\n",
    "print(s.format(gender, name))   # then gender is 0 th index and name is 1 th index"
   ]
  },
  {
   "cell_type": "markdown",
   "id": "909a7a32",
   "metadata": {},
   "source": [
    "- isalnum\n",
    "- isalpha\n",
    "- isdigit\n",
    "- isidentifier"
   ]
  },
  {
   "cell_type": "code",
   "execution_count": 39,
   "id": "9677b486",
   "metadata": {},
   "outputs": [],
   "source": [
    "s = \"python123\""
   ]
  },
  {
   "cell_type": "code",
   "execution_count": 40,
   "id": "7f2953ab",
   "metadata": {},
   "outputs": [
    {
     "data": {
      "text/plain": [
       "True"
      ]
     },
     "execution_count": 40,
     "metadata": {},
     "output_type": "execute_result"
    }
   ],
   "source": [
    "s.isalnum()"
   ]
  },
  {
   "cell_type": "code",
   "execution_count": 45,
   "id": "a568ba41",
   "metadata": {},
   "outputs": [],
   "source": [
    "s = \"john\""
   ]
  },
  {
   "cell_type": "code",
   "execution_count": 46,
   "id": "0a0e34fa",
   "metadata": {},
   "outputs": [
    {
     "data": {
      "text/plain": [
       "True"
      ]
     },
     "execution_count": 46,
     "metadata": {},
     "output_type": "execute_result"
    }
   ],
   "source": [
    "s.isalpha()"
   ]
  },
  {
   "cell_type": "code",
   "execution_count": 49,
   "id": "90e76fdd",
   "metadata": {},
   "outputs": [],
   "source": [
    "s = \"1234\""
   ]
  },
  {
   "cell_type": "code",
   "execution_count": 50,
   "id": "98b9bbed",
   "metadata": {},
   "outputs": [
    {
     "data": {
      "text/plain": [
       "True"
      ]
     },
     "execution_count": 50,
     "metadata": {},
     "output_type": "execute_result"
    }
   ],
   "source": [
    "s.isdigit()"
   ]
  },
  {
   "cell_type": "code",
   "execution_count": 51,
   "id": "95b46142",
   "metadata": {},
   "outputs": [
    {
     "data": {
      "text/plain": [
       "True"
      ]
     },
     "execution_count": 51,
     "metadata": {},
     "output_type": "execute_result"
    }
   ],
   "source": [
    "s = \"name_age\"\n",
    "s.isidentifier()"
   ]
  },
  {
   "cell_type": "markdown",
   "id": "702e71a9",
   "metadata": {},
   "source": [
    "- split\n",
    "- join"
   ]
  },
  {
   "cell_type": "code",
   "execution_count": 55,
   "id": "56ebce45",
   "metadata": {},
   "outputs": [],
   "source": [
    "s = \"My name is John\""
   ]
  },
  {
   "cell_type": "code",
   "execution_count": 57,
   "id": "bf00a7a1",
   "metadata": {},
   "outputs": [
    {
     "data": {
      "text/plain": [
       "['My', 'name', 'is', 'John']"
      ]
     },
     "execution_count": 57,
     "metadata": {},
     "output_type": "execute_result"
    }
   ],
   "source": [
    "s.split()"
   ]
  },
  {
   "cell_type": "code",
   "execution_count": 59,
   "id": "d3930eea",
   "metadata": {},
   "outputs": [
    {
     "data": {
      "text/plain": [
       "'MynameisJohn'"
      ]
     },
     "execution_count": 59,
     "metadata": {},
     "output_type": "execute_result"
    }
   ],
   "source": [
    "word = ['My', 'name', 'is', 'John']\n",
    "s = \"\"\n",
    "s.join(word)"
   ]
  },
  {
   "cell_type": "code",
   "execution_count": 60,
   "id": "caf53593",
   "metadata": {},
   "outputs": [
    {
     "data": {
      "text/plain": [
       "'My name is John'"
      ]
     },
     "execution_count": 60,
     "metadata": {},
     "output_type": "execute_result"
    }
   ],
   "source": [
    "word = ['My', 'name', 'is', 'John']\n",
    "s = \" \"\n",
    "s.join(word)"
   ]
  },
  {
   "cell_type": "markdown",
   "id": "dabd7128",
   "metadata": {},
   "source": [
    "- replace\n",
    "- strip"
   ]
  },
  {
   "cell_type": "code",
   "execution_count": 66,
   "id": "fed722f7",
   "metadata": {},
   "outputs": [
    {
     "data": {
      "text/plain": [
       "'my name is Alex    '"
      ]
     },
     "execution_count": 66,
     "metadata": {},
     "output_type": "execute_result"
    }
   ],
   "source": [
    "s = \"my name is john    \"\n",
    "s.replace(\"john\", \"Alex\")"
   ]
  },
  {
   "cell_type": "code",
   "execution_count": 67,
   "id": "82017a70",
   "metadata": {},
   "outputs": [
    {
     "data": {
      "text/plain": [
       "19"
      ]
     },
     "execution_count": 67,
     "metadata": {},
     "output_type": "execute_result"
    }
   ],
   "source": [
    "len(s)"
   ]
  },
  {
   "cell_type": "code",
   "execution_count": null,
   "id": "adce4074",
   "metadata": {},
   "outputs": [],
   "source": [
    "s = s.strip()   # remove additional spaces"
   ]
  },
  {
   "cell_type": "code",
   "execution_count": 71,
   "id": "1d8e010f",
   "metadata": {},
   "outputs": [
    {
     "data": {
      "text/plain": [
       "15"
      ]
     },
     "execution_count": 71,
     "metadata": {},
     "output_type": "execute_result"
    }
   ],
   "source": [
    "len(s)"
   ]
  },
  {
   "cell_type": "markdown",
   "id": "4761e4e7",
   "metadata": {},
   "source": [
    "### f-String"
   ]
  },
  {
   "cell_type": "code",
   "execution_count": 72,
   "id": "125e6933",
   "metadata": {},
   "outputs": [
    {
     "name": "stdout",
     "output_type": "stream",
     "text": [
      "Hello I am John, I am a Male\n"
     ]
    }
   ],
   "source": [
    "name = \"John\"\n",
    "gender = \"Male\"\n",
    "\n",
    "print(f\"Hello I am {name}, I am a {gender}\")"
   ]
  },
  {
   "cell_type": "markdown",
   "id": "1479d7fa",
   "metadata": {},
   "source": [
    "1. Find a length of a given string without len function\n",
    "2. Extract username from the given Email address\n",
    "\n",
    "- Ex:\n",
    "    if the email is john@gmail.com then username should be john\n",
    "\n",
    "3. write a program that can check whether the given string is palindrome or not\n",
    "- abba\n",
    "- malayalam\n",
    "- mama    "
   ]
  },
  {
   "cell_type": "code",
   "execution_count": 73,
   "id": "bd2c84b0",
   "metadata": {},
   "outputs": [
    {
     "name": "stdout",
     "output_type": "stream",
     "text": [
      "length of the string:  30\n"
     ]
    }
   ],
   "source": [
    "count = 0\n",
    "given_st = str(input(\"Enter a string\"))\n",
    "\n",
    "for i in given_st:\n",
    "    count += 1\n",
    "print(\"length of the string: \", count)    "
   ]
  },
  {
   "cell_type": "code",
   "execution_count": 76,
   "id": "04e66891",
   "metadata": {},
   "outputs": [
    {
     "name": "stdout",
     "output_type": "stream",
     "text": [
      "prashan\n"
     ]
    }
   ],
   "source": [
    "email = input(\"Enter Your Email Address: \")\n",
    "\n",
    "username = email.split(\"@\")\n",
    "username = username[0]\n",
    "print(username)"
   ]
  },
  {
   "cell_type": "code",
   "execution_count": 104,
   "id": "5cd1969b",
   "metadata": {},
   "outputs": [
    {
     "name": "stdout",
     "output_type": "stream",
     "text": [
      "This Word is Palindrome\n"
     ]
    }
   ],
   "source": [
    "word = input(\"Enter a word check for palindrome: \")\n",
    "rv_word = word[::-1]\n",
    "\n",
    "if word == rv_word:\n",
    "    print(\"This Word is Palindrome\")\n",
    "else:\n",
    "    print(\"This Word not Palindrome\")    "
   ]
  },
  {
   "cell_type": "code",
   "execution_count": 103,
   "id": "65c157d5",
   "metadata": {},
   "outputs": [
    {
     "name": "stdout",
     "output_type": "stream",
     "text": [
      "Palindrome\n"
     ]
    }
   ],
   "source": [
    "word = input(\"Enter a string word: \")\n",
    "flag = True\n",
    "\n",
    "for i in range(0, len(word)//2):\n",
    "    if word[i] != word[len(word) - i -1]:\n",
    "        flag = False\n",
    "        print(\"Not a Palindrome\")\n",
    "        break\n",
    "if flag:\n",
    "    print(\"Palindrome\")   "
   ]
  },
  {
   "cell_type": "code",
   "execution_count": 107,
   "id": "047d416b",
   "metadata": {},
   "outputs": [
    {
     "data": {
      "text/plain": [
       "2"
      ]
     },
     "execution_count": 107,
     "metadata": {},
     "output_type": "execute_result"
    }
   ],
   "source": [
    "s = \"abba\"\n",
    "len(s) // 2"
   ]
  },
  {
   "cell_type": "code",
   "execution_count": null,
   "id": "a240c5a8",
   "metadata": {},
   "outputs": [
    {
     "data": {
      "text/plain": [
       "'o'"
      ]
     },
     "execution_count": 115,
     "metadata": {},
     "output_type": "execute_result"
    }
   ],
   "source": [
    "test = \"hello python\"\n",
    "test[len(test) -0 -1]   # we get last character"
   ]
  },
  {
   "cell_type": "markdown",
   "id": "82707fc3",
   "metadata": {},
   "source": [
    "### List in Python"
   ]
  },
  {
   "cell_type": "markdown",
   "id": "f8d011fd",
   "metadata": {},
   "source": [
    "- What are Lists?\n",
    "- Lists vs Array\n",
    "- Characteristic of Lists\n",
    "- How to crate Lists\n",
    "- Access items from the Lists\n",
    "- Editing items in a Lists\n",
    "- Deleting item from the Lists\n",
    "- Operations on Lists\n",
    "- Functions on Lists\n",
    "- List comprehension"
   ]
  },
  {
   "cell_type": "markdown",
   "id": "11772458",
   "metadata": {},
   "source": [
    "1. Array\n",
    "    - Fixed size\n",
    "    - Homogeneous (data type)\n",
    "    - speed of execution fast\n",
    "    - Less memory"
   ]
  },
  {
   "cell_type": "markdown",
   "id": "f959fa86",
   "metadata": {},
   "source": [
    "2. List\n",
    "    - Dynamic size\n",
    "    - Hetnogeneous\n",
    "    - speed of execution slow\n",
    "    - More memory"
   ]
  },
  {
   "cell_type": "code",
   "execution_count": 118,
   "id": "f57867f2",
   "metadata": {},
   "outputs": [
    {
     "name": "stdout",
     "output_type": "stream",
     "text": [
      "4839350464\n",
      "4368252560\n",
      "4368252592\n",
      "4368252624\n"
     ]
    }
   ],
   "source": [
    "L = [1,2,3]\n",
    "\n",
    "print(id(L))\n",
    "print(id(L[0]))\n",
    "print(id(L[1]))\n",
    "print(id(L[2]))"
   ]
  },
  {
   "cell_type": "code",
   "execution_count": 121,
   "id": "4b3d8d85",
   "metadata": {},
   "outputs": [
    {
     "name": "stdout",
     "output_type": "stream",
     "text": [
      "True\n",
      "True\n",
      "True\n"
     ]
    }
   ],
   "source": [
    "print(id(L[0]) == id(1))\n",
    "print(id(L[1]) == id(2))\n",
    "print(id(L[2]) == id(3))"
   ]
  },
  {
   "cell_type": "markdown",
   "id": "6cb197e4",
   "metadata": {},
   "source": [
    "### Characterstics of a List"
   ]
  },
  {
   "cell_type": "markdown",
   "id": "763533ea",
   "metadata": {},
   "source": [
    "- Ordered \n",
    "- Changeble / Mutable\n",
    "- Hetrogeneous\n",
    "- can have duplicates\n",
    "- are dynamic\n",
    "- can be nested\n",
    "- items can be accessed\n",
    "- can contain any kind of objects in python"
   ]
  },
  {
   "cell_type": "code",
   "execution_count": 122,
   "id": "46ebf2d9",
   "metadata": {},
   "outputs": [
    {
     "name": "stdout",
     "output_type": "stream",
     "text": [
      "False\n"
     ]
    }
   ],
   "source": [
    "L1 = [1,2,3,4]\n",
    "L2 = [4,3,2,1]\n",
    "\n",
    "print(L1 == L2)"
   ]
  },
  {
   "cell_type": "code",
   "execution_count": 123,
   "id": "0f57c200",
   "metadata": {},
   "outputs": [],
   "source": [
    "L1 = [1,2,4,6]"
   ]
  },
  {
   "cell_type": "code",
   "execution_count": 125,
   "id": "560acb3f",
   "metadata": {},
   "outputs": [
    {
     "name": "stdout",
     "output_type": "stream",
     "text": [
      "[1, 2, 4, 6]\n",
      "1\n"
     ]
    }
   ],
   "source": [
    "print(L1)\n",
    "print(L1[0])"
   ]
  },
  {
   "cell_type": "markdown",
   "id": "c8b14659",
   "metadata": {},
   "source": [
    "### Creating a List"
   ]
  },
  {
   "cell_type": "code",
   "execution_count": 126,
   "id": "2c4cd543",
   "metadata": {},
   "outputs": [
    {
     "name": "stdout",
     "output_type": "stream",
     "text": [
      "[]\n",
      "[1, 2, 3, 4, 5]\n",
      "[1, 2, 3, [4, 5]]\n",
      "[[[1, 2], [3, 4]], [[5, 6], [7, 8]]]\n",
      "[1, True, 5.6, (4+5j), 'hello']\n",
      "['h', 'e', 'l', 'l', 'o']\n"
     ]
    }
   ],
   "source": [
    "# Empty\n",
    "print([])\n",
    "# 1D\n",
    "print([1,2,3,4,5])\n",
    "# 2D\n",
    "print([1,2,3, [4,5]])\n",
    "# 3D\n",
    "print([[[1,2], [3,4]], [[5,6], [7,8]]])\n",
    "# Hetrogenous\n",
    "print([1, True, 5.6, 4+5j, \"hello\"])\n",
    "# using type conversions\n",
    "print(list(\"hello\"))"
   ]
  },
  {
   "cell_type": "markdown",
   "id": "806461b7",
   "metadata": {},
   "source": [
    "### Accessing Items from List"
   ]
  },
  {
   "cell_type": "markdown",
   "id": "dbeff62a",
   "metadata": {},
   "source": [
    "- indexing\n",
    "- slicing"
   ]
  },
  {
   "cell_type": "code",
   "execution_count": 127,
   "id": "c8d09589",
   "metadata": {},
   "outputs": [],
   "source": [
    "l = [1,2,3,4,5]"
   ]
  },
  {
   "cell_type": "code",
   "execution_count": 129,
   "id": "38c4c098",
   "metadata": {},
   "outputs": [
    {
     "name": "stdout",
     "output_type": "stream",
     "text": [
      "1\n",
      "5\n"
     ]
    }
   ],
   "source": [
    "print(l[0])\n",
    "print(l[-1])"
   ]
  },
  {
   "cell_type": "code",
   "execution_count": 130,
   "id": "943d22b8",
   "metadata": {},
   "outputs": [],
   "source": [
    "l2 = [1,2,3, [4,5]]"
   ]
  },
  {
   "cell_type": "code",
   "execution_count": 131,
   "id": "867df0b0",
   "metadata": {},
   "outputs": [
    {
     "data": {
      "text/plain": [
       "[4, 5]"
      ]
     },
     "execution_count": 131,
     "metadata": {},
     "output_type": "execute_result"
    }
   ],
   "source": [
    "l2[3]"
   ]
  },
  {
   "cell_type": "code",
   "execution_count": 133,
   "id": "ab2516f9",
   "metadata": {},
   "outputs": [
    {
     "data": {
      "text/plain": [
       "5"
      ]
     },
     "execution_count": 133,
     "metadata": {},
     "output_type": "execute_result"
    }
   ],
   "source": [
    "l2[3][1]"
   ]
  },
  {
   "cell_type": "code",
   "execution_count": 134,
   "id": "fa7e8f6e",
   "metadata": {},
   "outputs": [],
   "source": [
    "l3 = [[[1,2], [3,4]], [[5,6], [7,8]]]"
   ]
  },
  {
   "cell_type": "code",
   "execution_count": 136,
   "id": "29f260d5",
   "metadata": {},
   "outputs": [
    {
     "data": {
      "text/plain": [
       "2"
      ]
     },
     "execution_count": 136,
     "metadata": {},
     "output_type": "execute_result"
    }
   ],
   "source": [
    "len(l3) # how many list in the 3d list"
   ]
  },
  {
   "cell_type": "code",
   "execution_count": 137,
   "id": "5d358f42",
   "metadata": {},
   "outputs": [
    {
     "data": {
      "text/plain": [
       "[[1, 2], [3, 4]]"
      ]
     },
     "execution_count": 137,
     "metadata": {},
     "output_type": "execute_result"
    }
   ],
   "source": [
    "l3[0]"
   ]
  },
  {
   "cell_type": "code",
   "execution_count": 138,
   "id": "47154bd4",
   "metadata": {},
   "outputs": [
    {
     "data": {
      "text/plain": [
       "4"
      ]
     },
     "execution_count": 138,
     "metadata": {},
     "output_type": "execute_result"
    }
   ],
   "source": [
    "l3[0][1][1]"
   ]
  },
  {
   "cell_type": "code",
   "execution_count": 139,
   "id": "7104ff2a",
   "metadata": {},
   "outputs": [],
   "source": [
    "l = [1,2,3,4,5]"
   ]
  },
  {
   "cell_type": "code",
   "execution_count": 140,
   "id": "0551ecf9",
   "metadata": {},
   "outputs": [
    {
     "data": {
      "text/plain": [
       "[2, 3, 4]"
      ]
     },
     "execution_count": 140,
     "metadata": {},
     "output_type": "execute_result"
    }
   ],
   "source": [
    "l[1:4]"
   ]
  },
  {
   "cell_type": "code",
   "execution_count": 141,
   "id": "1e33a424",
   "metadata": {},
   "outputs": [
    {
     "data": {
      "text/plain": [
       "[5, 4, 3, 2, 1]"
      ]
     },
     "execution_count": 141,
     "metadata": {},
     "output_type": "execute_result"
    }
   ],
   "source": [
    "l[::-1]"
   ]
  },
  {
   "cell_type": "code",
   "execution_count": 142,
   "id": "1c8f2a41",
   "metadata": {},
   "outputs": [
    {
     "data": {
      "text/plain": [
       "[1, 3]"
      ]
     },
     "execution_count": 142,
     "metadata": {},
     "output_type": "execute_result"
    }
   ],
   "source": [
    "l[:3:2]"
   ]
  },
  {
   "cell_type": "markdown",
   "id": "085a7f0b",
   "metadata": {},
   "source": [
    "### Lists Methods/Functions in Python"
   ]
  },
  {
   "cell_type": "markdown",
   "id": "5745af7e",
   "metadata": {},
   "source": [
    "- append - Last position of the list append"
   ]
  },
  {
   "cell_type": "code",
   "execution_count": 143,
   "id": "f206b92b",
   "metadata": {},
   "outputs": [
    {
     "name": "stdout",
     "output_type": "stream",
     "text": [
      "[1, 2, 3, 4]\n"
     ]
    }
   ],
   "source": [
    "L = [1,2,3,4]\n",
    "print(L)"
   ]
  },
  {
   "cell_type": "code",
   "execution_count": 146,
   "id": "9243913a",
   "metadata": {},
   "outputs": [],
   "source": [
    "L.append(5)"
   ]
  },
  {
   "cell_type": "code",
   "execution_count": 147,
   "id": "f7b2aa6d",
   "metadata": {},
   "outputs": [
    {
     "name": "stdout",
     "output_type": "stream",
     "text": [
      "[1, 2, 3, 4, 5, 5, 5]\n"
     ]
    }
   ],
   "source": [
    "print(L)"
   ]
  },
  {
   "cell_type": "code",
   "execution_count": 148,
   "id": "2a7bee74",
   "metadata": {},
   "outputs": [],
   "source": [
    "L[4], L[5], L[6] = 5, 6, 7"
   ]
  },
  {
   "cell_type": "code",
   "execution_count": 149,
   "id": "b5e96586",
   "metadata": {},
   "outputs": [
    {
     "name": "stdout",
     "output_type": "stream",
     "text": [
      "[1, 2, 3, 4, 5, 6, 7]\n"
     ]
    }
   ],
   "source": [
    "print(L)"
   ]
  },
  {
   "cell_type": "markdown",
   "id": "f044f629",
   "metadata": {},
   "source": [
    "- Editing with slicing"
   ]
  },
  {
   "cell_type": "code",
   "execution_count": 150,
   "id": "621772d2",
   "metadata": {},
   "outputs": [
    {
     "name": "stdout",
     "output_type": "stream",
     "text": [
      "[1, 200, 300, 400]\n"
     ]
    }
   ],
   "source": [
    "L = [1,2,3,4]\n",
    "L[1:4] = [200,300,400]\n",
    "print(L)"
   ]
  },
  {
   "cell_type": "code",
   "execution_count": 151,
   "id": "47aae501",
   "metadata": {},
   "outputs": [],
   "source": [
    "L = [1,2,3,4]"
   ]
  },
  {
   "cell_type": "code",
   "execution_count": 152,
   "id": "ee6cecb2",
   "metadata": {},
   "outputs": [],
   "source": [
    "L.append([5,6,7])"
   ]
  },
  {
   "cell_type": "code",
   "execution_count": 153,
   "id": "266350cc",
   "metadata": {},
   "outputs": [
    {
     "name": "stdout",
     "output_type": "stream",
     "text": [
      "[1, 2, 3, 4, [5, 6, 7]]\n"
     ]
    }
   ],
   "source": [
    "print(L)"
   ]
  },
  {
   "cell_type": "code",
   "execution_count": 154,
   "id": "bedb7ee6",
   "metadata": {},
   "outputs": [],
   "source": [
    "L.append(True)"
   ]
  },
  {
   "cell_type": "code",
   "execution_count": 155,
   "id": "c4a46e4b",
   "metadata": {},
   "outputs": [
    {
     "name": "stdout",
     "output_type": "stream",
     "text": [
      "[1, 2, 3, 4, [5, 6, 7], True]\n"
     ]
    }
   ],
   "source": [
    "print(L)"
   ]
  },
  {
   "cell_type": "markdown",
   "id": "c92f36f6",
   "metadata": {},
   "source": [
    "- extend - one specific item add last positions"
   ]
  },
  {
   "cell_type": "code",
   "execution_count": 156,
   "id": "c757fa3a",
   "metadata": {},
   "outputs": [],
   "source": [
    "L = [1,2,3,4]\n",
    "a = [11,12,13]\n",
    "\n",
    "L.extend(a)"
   ]
  },
  {
   "cell_type": "code",
   "execution_count": 157,
   "id": "99852fdf",
   "metadata": {},
   "outputs": [
    {
     "name": "stdout",
     "output_type": "stream",
     "text": [
      "[1, 2, 3, 4, 11, 12, 13]\n"
     ]
    }
   ],
   "source": [
    "print(L)"
   ]
  },
  {
   "cell_type": "code",
   "execution_count": 158,
   "id": "78b1d109",
   "metadata": {},
   "outputs": [],
   "source": [
    "L.extend(\"Hello\")"
   ]
  },
  {
   "cell_type": "code",
   "execution_count": 159,
   "id": "b84426a1",
   "metadata": {},
   "outputs": [
    {
     "name": "stdout",
     "output_type": "stream",
     "text": [
      "[1, 2, 3, 4, 11, 12, 13, 'H', 'e', 'l', 'l', 'o']\n"
     ]
    }
   ],
   "source": [
    "print(L)"
   ]
  },
  {
   "cell_type": "markdown",
   "id": "dd095dca",
   "metadata": {},
   "source": [
    "- insert - add specific index number add"
   ]
  },
  {
   "cell_type": "code",
   "execution_count": 160,
   "id": "570fa632",
   "metadata": {},
   "outputs": [
    {
     "name": "stdout",
     "output_type": "stream",
     "text": [
      "[1, 200, 2, 3, 4]\n"
     ]
    }
   ],
   "source": [
    "L = [1,2,3,4]\n",
    "L.insert(1, 200)\n",
    "print(L)"
   ]
  },
  {
   "cell_type": "markdown",
   "id": "aba162b8",
   "metadata": {},
   "source": [
    "- Deleting Items from Lists"
   ]
  },
  {
   "cell_type": "code",
   "execution_count": 161,
   "id": "09c0ef70",
   "metadata": {},
   "outputs": [
    {
     "name": "stdout",
     "output_type": "stream",
     "text": [
      "[2, 3, 4]\n"
     ]
    }
   ],
   "source": [
    "L = [1,2,3,4]\n",
    "\n",
    "del L[0]\n",
    "print(L)"
   ]
  },
  {
   "cell_type": "code",
   "execution_count": 162,
   "id": "4e30eed3",
   "metadata": {},
   "outputs": [],
   "source": [
    "del L[1:3]"
   ]
  },
  {
   "cell_type": "code",
   "execution_count": 163,
   "id": "7a987a2a",
   "metadata": {},
   "outputs": [
    {
     "name": "stdout",
     "output_type": "stream",
     "text": [
      "[2]\n"
     ]
    }
   ],
   "source": [
    "print(L)"
   ]
  },
  {
   "cell_type": "markdown",
   "id": "57c53fa9",
   "metadata": {},
   "source": [
    "- remove - give to the value"
   ]
  },
  {
   "cell_type": "code",
   "execution_count": 164,
   "id": "b1ea16b5",
   "metadata": {},
   "outputs": [
    {
     "name": "stdout",
     "output_type": "stream",
     "text": [
      "[1, 2, 3, 5]\n"
     ]
    }
   ],
   "source": [
    "L = [1,2,3,4,5]\n",
    "\n",
    "L.remove(4)\n",
    "print(L)"
   ]
  },
  {
   "cell_type": "markdown",
   "id": "5106d01a",
   "metadata": {},
   "source": [
    "- pop - remove last positions item"
   ]
  },
  {
   "cell_type": "code",
   "execution_count": 165,
   "id": "48ef1a3f",
   "metadata": {},
   "outputs": [
    {
     "name": "stdout",
     "output_type": "stream",
     "text": [
      "[1, 2, 3, 4]\n"
     ]
    }
   ],
   "source": [
    "L = [1,2,3,4,5]\n",
    "\n",
    "L.pop()\n",
    "print(L)"
   ]
  },
  {
   "cell_type": "markdown",
   "id": "11d39532",
   "metadata": {},
   "source": [
    "- clear - clear list values"
   ]
  },
  {
   "cell_type": "code",
   "execution_count": 166,
   "id": "66bd99c9",
   "metadata": {},
   "outputs": [
    {
     "name": "stdout",
     "output_type": "stream",
     "text": [
      "[]\n"
     ]
    }
   ],
   "source": [
    "L = [1,2,3,4,5]\n",
    "L.clear()\n",
    "print(L)"
   ]
  },
  {
   "cell_type": "markdown",
   "id": "bc9d8ce4",
   "metadata": {},
   "source": [
    "- len\n",
    "- min\n",
    "- max \n",
    "- sorted"
   ]
  },
  {
   "cell_type": "code",
   "execution_count": 167,
   "id": "3ef323ed",
   "metadata": {},
   "outputs": [
    {
     "name": "stdout",
     "output_type": "stream",
     "text": [
      "5\n",
      "1\n",
      "5\n",
      "[5, 4, 3, 2, 1]\n"
     ]
    }
   ],
   "source": [
    "L = [1,2,3,4,5]\n",
    "\n",
    "print(len(L))\n",
    "print(min(L))\n",
    "print(max(L))\n",
    "print(sorted(L, reverse=True))"
   ]
  },
  {
   "cell_type": "markdown",
   "id": "84c6bc99",
   "metadata": {},
   "source": [
    "- count - How many times is coming up this value"
   ]
  },
  {
   "cell_type": "code",
   "execution_count": 168,
   "id": "ed601e77",
   "metadata": {},
   "outputs": [
    {
     "name": "stdout",
     "output_type": "stream",
     "text": [
      "3\n"
     ]
    }
   ],
   "source": [
    "L = [1,2,3,4,5,5,5,6]\n",
    "\n",
    "print(L.count(5))"
   ]
  },
  {
   "cell_type": "markdown",
   "id": "12003f4b",
   "metadata": {},
   "source": [
    "- index"
   ]
  },
  {
   "cell_type": "code",
   "execution_count": 169,
   "id": "1e299168",
   "metadata": {},
   "outputs": [
    {
     "data": {
      "text/plain": [
       "1"
      ]
     },
     "execution_count": 169,
     "metadata": {},
     "output_type": "execute_result"
    }
   ],
   "source": [
    "L = [1,2,3,4,4,4,5,5]\n",
    "\n",
    "L.index(2)"
   ]
  },
  {
   "cell_type": "code",
   "execution_count": 172,
   "id": "dee9026b",
   "metadata": {},
   "outputs": [
    {
     "data": {
      "text/plain": [
       "1"
      ]
     },
     "execution_count": 172,
     "metadata": {},
     "output_type": "execute_result"
    }
   ],
   "source": [
    "L.index(2)"
   ]
  },
  {
   "cell_type": "markdown",
   "id": "053403c0",
   "metadata": {},
   "source": [
    "- reverse"
   ]
  },
  {
   "cell_type": "code",
   "execution_count": 173,
   "id": "3416d70f",
   "metadata": {},
   "outputs": [
    {
     "name": "stdout",
     "output_type": "stream",
     "text": [
      "[5, 4, 3, 2, 1]\n"
     ]
    }
   ],
   "source": [
    "L = [1,2,3,4,5]\n",
    "\n",
    "L.reverse()\n",
    "print(L)"
   ]
  },
  {
   "cell_type": "markdown",
   "id": "0cbf7ae8",
   "metadata": {},
   "source": [
    "- sort"
   ]
  },
  {
   "cell_type": "code",
   "execution_count": 174,
   "id": "1bfeefd5",
   "metadata": {},
   "outputs": [
    {
     "name": "stdout",
     "output_type": "stream",
     "text": [
      "[1, 2, 13, 23, 65]\n"
     ]
    }
   ],
   "source": [
    "L = [1,2,65,23,13]\n",
    "\n",
    "L.sort()\n",
    "print(L)"
   ]
  },
  {
   "cell_type": "markdown",
   "id": "6e130f12",
   "metadata": {},
   "source": [
    "- copy"
   ]
  },
  {
   "cell_type": "code",
   "execution_count": 175,
   "id": "f9c36432",
   "metadata": {},
   "outputs": [
    {
     "name": "stdout",
     "output_type": "stream",
     "text": [
      "[1, 2, 3, 4, 5]\n"
     ]
    }
   ],
   "source": [
    "L = [1,2,3,4,5]\n",
    "\n",
    "L1 = L.copy()\n",
    "\n",
    "print(L1)"
   ]
  },
  {
   "cell_type": "code",
   "execution_count": 176,
   "id": "17683c14",
   "metadata": {},
   "outputs": [],
   "source": [
    "L.append(5)"
   ]
  },
  {
   "cell_type": "code",
   "execution_count": 177,
   "id": "2f1fefa4",
   "metadata": {},
   "outputs": [
    {
     "name": "stdout",
     "output_type": "stream",
     "text": [
      "[1, 2, 3, 4, 5, 5]\n",
      "[1, 2, 3, 4, 5]\n"
     ]
    }
   ],
   "source": [
    "print(L)\n",
    "print(L1)"
   ]
  },
  {
   "cell_type": "code",
   "execution_count": null,
   "id": "38507f5f",
   "metadata": {},
   "outputs": [],
   "source": []
  }
 ],
 "metadata": {
  "kernelspec": {
   "display_name": "tensorflow",
   "language": "python",
   "name": "python3"
  },
  "language_info": {
   "codemirror_mode": {
    "name": "ipython",
    "version": 3
   },
   "file_extension": ".py",
   "mimetype": "text/x-python",
   "name": "python",
   "nbconvert_exporter": "python",
   "pygments_lexer": "ipython3",
   "version": "3.11.13"
  }
 },
 "nbformat": 4,
 "nbformat_minor": 5
}
