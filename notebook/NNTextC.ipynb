{
 "cells": [
  {
   "cell_type": "markdown",
   "id": "a5916b99",
   "metadata": {},
   "source": [
    "#### Python course for AI/ML"
   ]
  },
  {
   "cell_type": "code",
   "execution_count": 1,
   "id": "0f21c64a",
   "metadata": {},
   "outputs": [],
   "source": [
    "# type conversion\n",
    "# implicit => Internally happen in python\n",
    "# explicit => By the programmers"
   ]
  },
  {
   "cell_type": "code",
   "execution_count": 2,
   "id": "1e0372f5",
   "metadata": {},
   "outputs": [
    {
     "name": "stdout",
     "output_type": "stream",
     "text": [
      "<class 'int'>\n"
     ]
    }
   ],
   "source": [
    "# implicit type conversions\n",
    "print(type(5))"
   ]
  },
  {
   "cell_type": "code",
   "execution_count": 3,
   "id": "3debd552",
   "metadata": {},
   "outputs": [
    {
     "name": "stdout",
     "output_type": "stream",
     "text": [
      "<class 'float'>\n"
     ]
    }
   ],
   "source": [
    "print(type(5.5))"
   ]
  },
  {
   "cell_type": "code",
   "execution_count": 4,
   "id": "ada1d785",
   "metadata": {},
   "outputs": [
    {
     "name": "stdout",
     "output_type": "stream",
     "text": [
      "9\n"
     ]
    }
   ],
   "source": [
    "print(5+ int('4')) # explicit type conversions"
   ]
  },
  {
   "cell_type": "code",
   "execution_count": 5,
   "id": "1c8df37b",
   "metadata": {},
   "outputs": [
    {
     "name": "stdout",
     "output_type": "stream",
     "text": [
      "<class 'float'>\n",
      "32.0\n"
     ]
    }
   ],
   "source": [
    "number = \"32\"\n",
    "number = float(number)\n",
    "\n",
    "print(type(number))\n",
    "print(number)"
   ]
  },
  {
   "cell_type": "code",
   "execution_count": 6,
   "id": "72ac14f3",
   "metadata": {},
   "outputs": [
    {
     "name": "stdout",
     "output_type": "stream",
     "text": [
      "10\n"
     ]
    }
   ],
   "source": [
    "a = 0b1010  # literals this is #Binary_Literals\n",
    "print(a)"
   ]
  },
  {
   "cell_type": "code",
   "execution_count": 7,
   "id": "b8d7ceba",
   "metadata": {},
   "outputs": [
    {
     "name": "stdout",
     "output_type": "stream",
     "text": [
      "float_1:  1.5\n",
      "float_2:  150.0\n",
      "float_3:  0.0015\n"
     ]
    }
   ],
   "source": [
    "float_1 = 1.5\n",
    "float_2 = 1.5e2     # its mean 1.5 * 10^2   => Answer : 150\n",
    "float_3 = 1.5e-3\n",
    "\n",
    "print('float_1: ', float_1)\n",
    "print('float_2: ', float_2)\n",
    "print('float_3: ', float_3)"
   ]
  },
  {
   "cell_type": "code",
   "execution_count": 8,
   "id": "67d550cb",
   "metadata": {},
   "outputs": [
    {
     "name": "stdout",
     "output_type": "stream",
     "text": [
      "<class 'complex'>\n"
     ]
    }
   ],
   "source": [
    "# complex literals\n",
    "\n",
    "x = 5+10j\n",
    "\n",
    "print(type(x))"
   ]
  },
  {
   "cell_type": "code",
   "execution_count": 9,
   "id": "c7e95241",
   "metadata": {},
   "outputs": [
    {
     "name": "stdout",
     "output_type": "stream",
     "text": [
      "5.0\n",
      "10.0\n",
      "<class 'float'>\n",
      "<class 'float'>\n",
      "15.0\n"
     ]
    }
   ],
   "source": [
    "print(x.real)\n",
    "print(x.imag)\n",
    "\n",
    "print(type(x.real))\n",
    "print(type(x.imag))\n",
    "\n",
    "print(x.real + x.imag)"
   ]
  },
  {
   "cell_type": "code",
   "execution_count": 10,
   "id": "48539628",
   "metadata": {},
   "outputs": [],
   "source": [
    "string = 'This is a python string'\n",
    "strings = \"This is a python string\"\n",
    "multiline_str = \"\"\"\n",
    "I am Programmer\n",
    "I love to learning new things\n",
    "\"\"\"\n",
    "char = 'c'\n",
    "unicode = u\"\\U0001f600\\U0001F606\\U0001F923\"\n",
    "raw_string = r\"raw \\n string\"   # raw line it will have type \\ character"
   ]
  },
  {
   "cell_type": "code",
   "execution_count": 11,
   "id": "2070bdab",
   "metadata": {},
   "outputs": [
    {
     "name": "stdout",
     "output_type": "stream",
     "text": [
      "😀😆🤣\n",
      "This is a python string\n",
      "This is a python string\n",
      "\n",
      "I am Programmer\n",
      "I love to learning new things\n",
      "\n",
      "c\n",
      "raw \\n string\n"
     ]
    }
   ],
   "source": [
    "print(unicode)\n",
    "print(string)\n",
    "print(strings)\n",
    "print(multiline_str)\n",
    "print(char)\n",
    "print(raw_string)"
   ]
  },
  {
   "cell_type": "code",
   "execution_count": 12,
   "id": "4b950598",
   "metadata": {},
   "outputs": [
    {
     "name": "stdout",
     "output_type": "stream",
     "text": [
      "a:  5\n",
      "b:  10\n"
     ]
    }
   ],
   "source": [
    "# True => 1\n",
    "# False => 0\n",
    "\n",
    "a = True + 4\n",
    "b = False + 10\n",
    "\n",
    "print('a: ', a)\n",
    "print('b: ', b)"
   ]
  },
  {
   "cell_type": "code",
   "execution_count": 13,
   "id": "277a0e46",
   "metadata": {},
   "outputs": [
    {
     "name": "stdout",
     "output_type": "stream",
     "text": [
      "None\n"
     ]
    }
   ],
   "source": [
    "x = None\n",
    "print(x)    # we need to create variable starter of the program use this"
   ]
  },
  {
   "cell_type": "markdown",
   "id": "b9994fcb",
   "metadata": {},
   "source": [
    "### #Arithmetic operator"
   ]
  },
  {
   "cell_type": "code",
   "execution_count": 14,
   "id": "732b7e5f",
   "metadata": {},
   "outputs": [
    {
     "name": "stdout",
     "output_type": "stream",
     "text": [
      "9\n",
      "4\n",
      "3.0\n",
      "3\n",
      "0\n",
      "25\n"
     ]
    }
   ],
   "source": [
    "print(4+5)\n",
    "print(6-2)\n",
    "print(6/2)\n",
    "print(7//2)\n",
    "print(6%2)\n",
    "print(5**2)"
   ]
  },
  {
   "cell_type": "markdown",
   "id": "60256106",
   "metadata": {},
   "source": [
    "### #Relational Operator"
   ]
  },
  {
   "cell_type": "code",
   "execution_count": 15,
   "id": "47948d49",
   "metadata": {},
   "outputs": [
    {
     "name": "stdout",
     "output_type": "stream",
     "text": [
      "True\n",
      "False\n",
      "True\n"
     ]
    }
   ],
   "source": [
    "print(4>2)\n",
    "print(5==2)\n",
    "print(3!=5)"
   ]
  },
  {
   "cell_type": "markdown",
   "id": "2b241e04",
   "metadata": {},
   "source": [
    "### #Logical Operator"
   ]
  },
  {
   "cell_type": "code",
   "execution_count": 16,
   "id": "0ee109e9",
   "metadata": {},
   "outputs": [
    {
     "name": "stdout",
     "output_type": "stream",
     "text": [
      "1\n",
      "0\n",
      "0\n"
     ]
    }
   ],
   "source": [
    "print(1 and 1)\n",
    "print(0 and 1)\n",
    "print(0 and 0)"
   ]
  },
  {
   "cell_type": "code",
   "execution_count": 17,
   "id": "fe56a61f",
   "metadata": {},
   "outputs": [
    {
     "name": "stdout",
     "output_type": "stream",
     "text": [
      "1\n",
      "0\n"
     ]
    }
   ],
   "source": [
    "print(1 or 0)\n",
    "print(0 or 0)"
   ]
  },
  {
   "cell_type": "code",
   "execution_count": 18,
   "id": "a5c1c085",
   "metadata": {},
   "outputs": [
    {
     "name": "stdout",
     "output_type": "stream",
     "text": [
      "False\n",
      "True\n"
     ]
    }
   ],
   "source": [
    "print(not 1)\n",
    "print(not 0)"
   ]
  },
  {
   "cell_type": "markdown",
   "id": "09c26044",
   "metadata": {},
   "source": [
    "### #Bitwise Operator"
   ]
  },
  {
   "cell_type": "code",
   "execution_count": 19,
   "id": "39280ead",
   "metadata": {},
   "outputs": [
    {
     "name": "stdout",
     "output_type": "stream",
     "text": [
      "2\n",
      "6\n",
      "1\n",
      "-6\n",
      "1\n",
      "20\n"
     ]
    }
   ],
   "source": [
    "#Bitwise and\n",
    "print(3 & 6)    #firstly its convert binary number and solve this operator\n",
    "\n",
    "#Bitwise or\n",
    "print(4 | 2)\n",
    "\n",
    "#Bitwise Xor\n",
    "print(3 ^ 2)\n",
    "\n",
    "#Bitwise not\n",
    "print(~5)\n",
    "\n",
    "#Bitwise right shift\n",
    "print(4 >> 2)\n",
    "\n",
    "#Bitwise left shift\n",
    "print(5 << 2)"
   ]
  },
  {
   "cell_type": "markdown",
   "id": "f33f459e",
   "metadata": {},
   "source": [
    "### #Assignment operator"
   ]
  },
  {
   "cell_type": "code",
   "execution_count": 20,
   "id": "7f2101b1",
   "metadata": {},
   "outputs": [
    {
     "name": "stdout",
     "output_type": "stream",
     "text": [
      "6\n"
     ]
    }
   ],
   "source": [
    "a = 2\n",
    "\n",
    "a += 4  #like this all of the operators we can code\n",
    "print(a)"
   ]
  },
  {
   "cell_type": "markdown",
   "id": "21ffd0db",
   "metadata": {},
   "source": [
    "- a++ (Its increase the number of 1) \n",
    "- ++a (Its firstly increase the number and execute)"
   ]
  },
  {
   "cell_type": "markdown",
   "id": "9fb44a83",
   "metadata": {},
   "source": [
    "### #Membership operator"
   ]
  },
  {
   "cell_type": "code",
   "execution_count": 21,
   "id": "0378af52",
   "metadata": {},
   "outputs": [
    {
     "name": "stdout",
     "output_type": "stream",
     "text": [
      "False\n",
      "True\n",
      "True\n",
      "False\n",
      "True\n"
     ]
    }
   ],
   "source": [
    "# in / not in\n",
    "print('M' in \"Colombo\")\n",
    "print('C' in \"Colombo\")\n",
    "\n",
    "print('M' not in \"Colombo\")\n",
    "print('C' not in \"Colombo\")\n",
    "\n",
    "print(1 in [1, 2, 3, 4, 5, 6])"
   ]
  },
  {
   "cell_type": "markdown",
   "id": "1f42cb6b",
   "metadata": {},
   "source": [
    "### Exercise\n",
    "\n",
    "- Find the sum of 3 digit number entered by the user"
   ]
  },
  {
   "cell_type": "code",
   "execution_count": 22,
   "id": "379f8225",
   "metadata": {},
   "outputs": [
    {
     "ename": "ValueError",
     "evalue": "could not convert string to float: ''",
     "output_type": "error",
     "traceback": [
      "\u001b[31m---------------------------------------------------------------------------\u001b[39m",
      "\u001b[31mValueError\u001b[39m                                Traceback (most recent call last)",
      "\u001b[36mCell\u001b[39m\u001b[36m \u001b[39m\u001b[32mIn[22]\u001b[39m\u001b[32m, line 1\u001b[39m\n\u001b[32m----> \u001b[39m\u001b[32m1\u001b[39m n1 = \u001b[38;5;28;43mfloat\u001b[39;49m\u001b[43m(\u001b[49m\u001b[38;5;28;43minput\u001b[39;49m\u001b[43m(\u001b[49m\u001b[33;43m'\u001b[39;49m\u001b[33;43mInsert a number-1\u001b[39;49m\u001b[38;5;130;43;01m\\t\u001b[39;49;00m\u001b[33;43m: \u001b[39;49m\u001b[33;43m'\u001b[39;49m\u001b[43m)\u001b[49m\u001b[43m)\u001b[49m\n\u001b[32m      2\u001b[39m n2 = \u001b[38;5;28mfloat\u001b[39m(\u001b[38;5;28minput\u001b[39m(\u001b[33m'\u001b[39m\u001b[33mInsert a number-2\u001b[39m\u001b[38;5;130;01m\\t\u001b[39;00m\u001b[33m: \u001b[39m\u001b[33m'\u001b[39m))\n\u001b[32m      3\u001b[39m n3 = \u001b[38;5;28mfloat\u001b[39m(\u001b[38;5;28minput\u001b[39m(\u001b[33m'\u001b[39m\u001b[33mInsert a number-3\u001b[39m\u001b[38;5;130;01m\\t\u001b[39;00m\u001b[33m: \u001b[39m\u001b[33m'\u001b[39m))\n",
      "\u001b[31mValueError\u001b[39m: could not convert string to float: ''"
     ]
    }
   ],
   "source": [
    "n1 = float(input('Insert a number-1\\t: '))\n",
    "n2 = float(input('Insert a number-2\\t: '))\n",
    "n3 = float(input('Insert a number-3\\t: '))\n",
    "\n",
    "sum = n1+n2+n3\n",
    "print(f'Summation of the Numbers {n1, n2, n3}: ', sum)"
   ]
  },
  {
   "cell_type": "code",
   "execution_count": 23,
   "id": "95fe3160",
   "metadata": {},
   "outputs": [
    {
     "name": "stdout",
     "output_type": "stream",
     "text": [
      "2\n",
      "Summation of the Numbers (0, 0, 2):  2\n"
     ]
    }
   ],
   "source": [
    "number = int(input('Insert a 3 digit numbers\\t: '))\n",
    "\n",
    "# 345%10 => 5\n",
    "a = number%10\n",
    "print(a)\n",
    "\n",
    "number = number//10 # 345 // 10 => 34\n",
    "b = number%10\n",
    "\n",
    "number = number//10 # 34 // 10 => 3\n",
    "c = number%10\n",
    "\n",
    "result = a + b + c\n",
    "print(f'Summation of the Numbers {c, b, a}: ', result)"
   ]
  },
  {
   "cell_type": "markdown",
   "id": "3d16c4b5",
   "metadata": {},
   "source": [
    "### Conditional Statement"
   ]
  },
  {
   "cell_type": "code",
   "execution_count": null,
   "id": "ca2a59c7",
   "metadata": {},
   "outputs": [
    {
     "name": "stdout",
     "output_type": "stream",
     "text": [
      "You are login successfully!\n"
     ]
    }
   ],
   "source": [
    "# Login function demo using if else\n",
    "act_email = \"test@gmail.com\"\n",
    "act_password = 'test123'\n",
    "\n",
    "insert_email = input('Enter Email Address: ')\n",
    "insert_password = input(\"Enter Password: \")\n",
    "\n",
    "if insert_email == act_email and insert_password == act_password:\n",
    "    print('You are login successfully!')\n",
    "else:\n",
    "    print('Email or password is incorrect')"
   ]
  },
  {
   "cell_type": "code",
   "execution_count": null,
   "id": "40e04a95",
   "metadata": {},
   "outputs": [
    {
     "name": "stdout",
     "output_type": "stream",
     "text": [
      "You are login successfully!\n"
     ]
    }
   ],
   "source": [
    "# Login function demo using if elif else\n",
    "act_email = \"test@gmail.com\"\n",
    "act_password = 'test123'\n",
    "\n",
    "insert_email = input('Enter Email Address: ')\n",
    "insert_password = input(\"Enter Password: \")\n",
    "\n",
    "if insert_email == act_email and insert_password == act_password:\n",
    "    print('You are login successfully!')\n",
    "elif insert_email != act_email and insert_password == act_password:\n",
    "    print('Your Email is Invalid!')\n",
    "elif insert_password != act_password and insert_email == act_email:\n",
    "    print('Your Password is Invalid')\n",
    "else:\n",
    "    print('Your Email and Password Invalid!')"
   ]
  },
  {
   "cell_type": "code",
   "execution_count": null,
   "id": "1d881e39",
   "metadata": {},
   "outputs": [
    {
     "name": "stdout",
     "output_type": "stream",
     "text": [
      "You are login successfully!\n"
     ]
    }
   ],
   "source": [
    "# Login function demo using if elif else and nested if else\n",
    "act_email = \"test@gmail.com\"\n",
    "act_password = 'test123'\n",
    "\n",
    "insert_email = input('Enter Email Address: ')\n",
    "insert_password = input(\"Enter Password: \")\n",
    "\n",
    "if insert_email and insert_password:\n",
    "    if insert_email != act_email or insert_password != act_password:\n",
    "        print('Invalid Credentials')\n",
    "    else:\n",
    "        print('You are login successfully!')\n",
    "else:\n",
    "    print('Email and Password required')"
   ]
  },
  {
   "cell_type": "markdown",
   "id": "cd29b382",
   "metadata": {},
   "source": [
    "### Modules"
   ]
  },
  {
   "cell_type": "markdown",
   "id": "9aa99378",
   "metadata": {},
   "source": [
    "- Builtin Module / Package => Inside python packages\n",
    "- External Module / Package => we need to install and use packages"
   ]
  },
  {
   "cell_type": "markdown",
   "id": "1e7bfec3",
   "metadata": {},
   "source": [
    "#### Builtin Module"
   ]
  },
  {
   "cell_type": "markdown",
   "id": "94a37974",
   "metadata": {},
   "source": [
    "- math\n",
    "- keyword\n",
    "- random\n",
    "- datetime"
   ]
  },
  {
   "cell_type": "code",
   "execution_count": null,
   "id": "e1bfcd99",
   "metadata": {},
   "outputs": [
    {
     "data": {
      "text/plain": [
       "4.898979485566356"
      ]
     },
     "execution_count": 2,
     "metadata": {},
     "output_type": "execute_result"
    }
   ],
   "source": [
    "import math\n",
    "\n",
    "math.sqrt(24)"
   ]
  },
  {
   "cell_type": "code",
   "execution_count": null,
   "id": "242f195a",
   "metadata": {},
   "outputs": [
    {
     "data": {
      "text/plain": [
       "710998587804863451854045647463724949736497978881168458687447040000000000000"
      ]
     },
     "execution_count": 3,
     "metadata": {},
     "output_type": "execute_result"
    }
   ],
   "source": [
    "math.factorial(56)"
   ]
  },
  {
   "cell_type": "code",
   "execution_count": null,
   "id": "586adbbc",
   "metadata": {},
   "outputs": [
    {
     "name": "stdout",
     "output_type": "stream",
     "text": [
      "['False', 'None', 'True', 'and', 'as', 'assert', 'async', 'await', 'break', 'class', 'continue', 'def', 'del', 'elif', 'else', 'except', 'finally', 'for', 'from', 'global', 'if', 'import', 'in', 'is', 'lambda', 'nonlocal', 'not', 'or', 'pass', 'raise', 'return', 'try', 'while', 'with', 'yield']\n"
     ]
    }
   ],
   "source": [
    "import keyword\n",
    "\n",
    "print(keyword.kwlist)"
   ]
  },
  {
   "cell_type": "code",
   "execution_count": null,
   "id": "344c2e17",
   "metadata": {},
   "outputs": [
    {
     "name": "stdout",
     "output_type": "stream",
     "text": [
      "61\n"
     ]
    }
   ],
   "source": [
    "import random\n",
    "\n",
    "print(random.randint(1, 100))"
   ]
  },
  {
   "cell_type": "code",
   "execution_count": null,
   "id": "4393238b",
   "metadata": {},
   "outputs": [
    {
     "name": "stdout",
     "output_type": "stream",
     "text": [
      "2025-07-09 07:49:12.786312\n"
     ]
    }
   ],
   "source": [
    "import datetime\n",
    "\n",
    "print(datetime.datetime.now())"
   ]
  },
  {
   "cell_type": "markdown",
   "id": "dc73b394",
   "metadata": {},
   "source": [
    "#### External Module (pip)"
   ]
  },
  {
   "cell_type": "code",
   "execution_count": null,
   "id": "b08cca43",
   "metadata": {},
   "outputs": [
    {
     "name": "stdout",
     "output_type": "stream",
     "text": [
      "Requirement already satisfied: flask in /Users/prashankulathunga/miniforge3/envs/tensorflow/lib/python3.11/site-packages (3.1.1)\n",
      "Requirement already satisfied: blinker>=1.9.0 in /Users/prashankulathunga/miniforge3/envs/tensorflow/lib/python3.11/site-packages (from flask) (1.9.0)\n",
      "Requirement already satisfied: click>=8.1.3 in /Users/prashankulathunga/miniforge3/envs/tensorflow/lib/python3.11/site-packages (from flask) (8.2.1)\n",
      "Requirement already satisfied: itsdangerous>=2.2.0 in /Users/prashankulathunga/miniforge3/envs/tensorflow/lib/python3.11/site-packages (from flask) (2.2.0)\n",
      "Requirement already satisfied: jinja2>=3.1.2 in /Users/prashankulathunga/miniforge3/envs/tensorflow/lib/python3.11/site-packages (from flask) (3.1.6)\n",
      "Requirement already satisfied: markupsafe>=2.1.1 in /Users/prashankulathunga/miniforge3/envs/tensorflow/lib/python3.11/site-packages (from flask) (3.0.2)\n",
      "Requirement already satisfied: werkzeug>=3.1.0 in /Users/prashankulathunga/miniforge3/envs/tensorflow/lib/python3.11/site-packages (from flask) (3.1.3)\n"
     ]
    }
   ],
   "source": [
    "!pip install flask"
   ]
  },
  {
   "cell_type": "markdown",
   "id": "7d1034df",
   "metadata": {},
   "source": [
    "### Loops"
   ]
  },
  {
   "cell_type": "markdown",
   "id": "ace1f018",
   "metadata": {},
   "source": [
    "- while Loop"
   ]
  },
  {
   "cell_type": "code",
   "execution_count": null,
   "id": "03d178db",
   "metadata": {},
   "outputs": [
    {
     "name": "stdout",
     "output_type": "stream",
     "text": [
      "hello Python\n",
      "hello Python\n",
      "hello Python\n",
      "hello Python\n",
      "hello Python\n",
      "hello Python\n",
      "hello Python\n",
      "hello Python\n",
      "hello Python\n",
      "hello Python\n",
      "program executed\n"
     ]
    }
   ],
   "source": [
    "count = 0\n",
    "\n",
    "while count < 10:\n",
    "    print(\"hello Python\")\n",
    "    count+=1\n",
    "else:\n",
    "    print(\"program executed\")"
   ]
  },
  {
   "cell_type": "markdown",
   "id": "a3456628",
   "metadata": {},
   "source": [
    "- for loop"
   ]
  },
  {
   "cell_type": "code",
   "execution_count": null,
   "id": "d36f8237",
   "metadata": {},
   "outputs": [
    {
     "name": "stdout",
     "output_type": "stream",
     "text": [
      "hello python\n",
      "hello python\n",
      "hello python\n",
      "hello python\n",
      "hello python\n",
      "hello python\n",
      "hello python\n",
      "hello python\n",
      "hello python\n",
      "hello python\n"
     ]
    }
   ],
   "source": [
    "for i in range(0, 10):\n",
    "    print(\"hello python\")"
   ]
  },
  {
   "cell_type": "code",
   "execution_count": null,
   "id": "46232b6d",
   "metadata": {},
   "outputs": [
    {
     "name": "stdout",
     "output_type": "stream",
     "text": [
      "1\n",
      "3\n",
      "5\n",
      "7\n",
      "9\n"
     ]
    }
   ],
   "source": [
    "for i in range(1,11,2):\n",
    "    print(i)"
   ]
  },
  {
   "cell_type": "markdown",
   "id": "8f9f9712",
   "metadata": {},
   "source": [
    "- Program : The current population of the town is 10000. The population of the town is increasing at the rate of 10% per year. You have to write a program find out of the population at the end of each of the last 10 years"
   ]
  },
  {
   "cell_type": "code",
   "execution_count": null,
   "id": "80104b57",
   "metadata": {},
   "outputs": [
    {
     "name": "stdout",
     "output_type": "stream",
     "text": [
      "Current Population : 10000\n",
      "Current Population : 9090.90909090909\n",
      "Current Population : 8264.462809917353\n",
      "Current Population : 7513.148009015775\n",
      "Current Population : 6830.134553650703\n",
      "Current Population : 6209.213230591548\n",
      "Current Population : 5644.739300537771\n",
      "Current Population : 5131.5811823070635\n",
      "Current Population : 4665.07380209733\n",
      "Current Population : 4240.976183724845\n"
     ]
    }
   ],
   "source": [
    "current_population = 10000\n",
    "\n",
    "for i in range(10, 0, -1):  # if we go to reverse therefore, our range is range(10, 0, -1)\n",
    "    print(f\"Current Population : {current_population}\")\n",
    "\n",
    "    # current_population(future) = current_population(present) + current_population(present) * 0.1\n",
    "    # current_population(future) = current_population(present) (1 + 0.1)\n",
    "    # current_population(future) = current_population(present) * 1.1\n",
    "    # we have future population therefore we need to divide current_population(future) to 1.1\n",
    "\n",
    "    current_population = current_population / 1.1"
   ]
  },
  {
   "cell_type": "code",
   "execution_count": null,
   "id": "cf008f9c",
   "metadata": {},
   "outputs": [
    {
     "name": "stdout",
     "output_type": "stream",
     "text": [
      "1 1\n",
      "1 2\n",
      "1 3\n",
      "1 4\n",
      "2 1\n",
      "2 2\n",
      "2 3\n",
      "2 4\n",
      "3 1\n",
      "3 2\n",
      "3 3\n",
      "3 4\n",
      "4 1\n",
      "4 2\n",
      "4 3\n",
      "4 4\n",
      "program executed\n"
     ]
    }
   ],
   "source": [
    "for i in range(1,5):\n",
    "    for j in range(1, 5):\n",
    "        print(i, j)\n",
    "print(\"program executed\")"
   ]
  },
  {
   "cell_type": "markdown",
   "id": "d70f2416",
   "metadata": {},
   "source": [
    "### Exercise"
   ]
  },
  {
   "cell_type": "code",
   "execution_count": null,
   "id": "d922a7b7",
   "metadata": {},
   "outputs": [
    {
     "name": "stdout",
     "output_type": "stream",
     "text": [
      "*\n",
      "**\n",
      "***\n",
      "****\n",
      "*****\n",
      "******\n"
     ]
    }
   ],
   "source": [
    "row = int(input('Enter Row Number: '))\n",
    "\n",
    "sum = 0\n",
    "for i in range(1,row+1):\n",
    "    for j in range(0, i):\n",
    "        sum += 1\n",
    "    print(\"*\"*sum)\n",
    "    sum = 0"
   ]
  },
  {
   "cell_type": "code",
   "execution_count": null,
   "id": "19b564d9",
   "metadata": {},
   "outputs": [
    {
     "name": "stdout",
     "output_type": "stream",
     "text": [
      "*\n",
      "**\n",
      "***\n",
      "****\n",
      "*****\n",
      "******\n",
      "*******\n",
      "********\n"
     ]
    }
   ],
   "source": [
    "row = int(input('Enter Row Number: '))\n",
    "\n",
    "sum = 0\n",
    "for i in range(1,row+1):\n",
    "    for j in range(1, i+1):\n",
    "        print(\"*\", end=\"\")\n",
    "    print(\"\")"
   ]
  },
  {
   "cell_type": "markdown",
   "id": "2c0f8818",
   "metadata": {},
   "source": [
    "### Loop control statement"
   ]
  },
  {
   "cell_type": "code",
   "execution_count": null,
   "id": "669f180f",
   "metadata": {},
   "outputs": [
    {
     "name": "stdout",
     "output_type": "stream",
     "text": [
      "1\n",
      "2\n",
      "3\n",
      "4\n"
     ]
    }
   ],
   "source": [
    "# Break\n",
    "\n",
    "for i in range(1, 11):\n",
    "    if i == 5:\n",
    "        break\n",
    "    print(i)"
   ]
  },
  {
   "cell_type": "code",
   "execution_count": null,
   "id": "2a60c31d",
   "metadata": {},
   "outputs": [
    {
     "name": "stdout",
     "output_type": "stream",
     "text": [
      "1 1\n",
      "1 2\n",
      "2 1\n",
      "2 2\n",
      "3 1\n",
      "3 2\n",
      "4 1\n",
      "4 2\n",
      "5 1\n",
      "5 2\n"
     ]
    }
   ],
   "source": [
    "for i in range (1, 6):\n",
    "    for j in range(1, 6):\n",
    "        if j == 3:\n",
    "            break\n",
    "        print(i, j)"
   ]
  },
  {
   "cell_type": "code",
   "execution_count": null,
   "id": "7ebc9ecc",
   "metadata": {},
   "outputs": [
    {
     "name": "stdout",
     "output_type": "stream",
     "text": [
      "5\n",
      "7\n",
      "11\n",
      "13\n",
      "17\n",
      "19\n",
      "23\n"
     ]
    }
   ],
   "source": [
    "lower = int(input(\"Enter Lower Range: \"))\n",
    "upper = int(input(\"Enter Upper Range: \"))\n",
    "\n",
    "for i in range(lower, upper+1):\n",
    "    for j in range(2, i):\n",
    "        # its need to divide by past numbers its module result != 0\n",
    "        if i%j == 0:\n",
    "            break\n",
    "    else:\n",
    "        print(i)"
   ]
  },
  {
   "cell_type": "code",
   "execution_count": null,
   "id": "b0ca146f",
   "metadata": {},
   "outputs": [
    {
     "name": "stdout",
     "output_type": "stream",
     "text": [
      "1\n",
      "2\n",
      "3\n",
      "4\n",
      "6\n",
      "7\n",
      "8\n",
      "9\n"
     ]
    }
   ],
   "source": [
    "# continue\n",
    "\n",
    "for i in range(1, 10):\n",
    "    if i == 5:\n",
    "        continue\n",
    "    print(i)"
   ]
  },
  {
   "cell_type": "code",
   "execution_count": null,
   "id": "e97a583c",
   "metadata": {},
   "outputs": [],
   "source": [
    "# pass\n",
    "\n",
    "for i in range(1,10):\n",
    "    pass"
   ]
  },
  {
   "cell_type": "markdown",
   "id": "3c7e6868",
   "metadata": {},
   "source": [
    "## Strings are sequence of characters"
   ]
  },
  {
   "cell_type": "markdown",
   "id": "bb6e92f1",
   "metadata": {},
   "source": [
    "### In python specifically, strings are sequence of unicode characters "
   ]
  },
  {
   "cell_type": "markdown",
   "id": "16d4adf7",
   "metadata": {},
   "source": [
    "#### Topic to be discuss\n",
    "\n",
    "- Creating String \n",
    "- Accessing Strings\n",
    "- Adding Chars to Strings\n",
    "- Editing Strings \n",
    "- Deleting Strings\n",
    "- Operations on Strings\n",
    "- Strings Functions"
   ]
  },
  {
   "cell_type": "markdown",
   "id": "b601e674",
   "metadata": {},
   "source": [
    "### Creating Strings"
   ]
  },
  {
   "cell_type": "code",
   "execution_count": null,
   "id": "8f72ef08",
   "metadata": {},
   "outputs": [
    {
     "name": "stdout",
     "output_type": "stream",
     "text": [
      "hello\n"
     ]
    }
   ],
   "source": [
    "s = \"hello\"\n",
    "s = 'hello'\n",
    "# multiline strings\n",
    "s = \"\"\"hello\"\"\"\n",
    "s = '''hello'''\n",
    "s = str('hello')\n",
    "print(s)"
   ]
  },
  {
   "cell_type": "code",
   "execution_count": null,
   "id": "f355abfb",
   "metadata": {},
   "outputs": [
    {
     "data": {
      "text/plain": [
       "\"it's my car\""
      ]
     },
     "execution_count": 63,
     "metadata": {},
     "output_type": "execute_result"
    }
   ],
   "source": [
    "\"it's my car\""
   ]
  },
  {
   "cell_type": "markdown",
   "id": "026668e7",
   "metadata": {},
   "source": [
    "### Accessing Strings"
   ]
  },
  {
   "cell_type": "code",
   "execution_count": null,
   "id": "f0be1a83",
   "metadata": {},
   "outputs": [],
   "source": [
    "#positive accessing\n",
    "s = 'welcome to python'"
   ]
  },
  {
   "cell_type": "code",
   "execution_count": null,
   "id": "6bea9f53",
   "metadata": {},
   "outputs": [
    {
     "name": "stdout",
     "output_type": "stream",
     "text": [
      "l\n",
      "elcome to\n",
      "17\n"
     ]
    }
   ],
   "source": [
    "print(s[2])\n",
    "print(s[1:10])\n",
    "print(len(s))"
   ]
  },
  {
   "cell_type": "code",
   "execution_count": null,
   "id": "4493dfeb",
   "metadata": {},
   "outputs": [],
   "source": [
    "# Negative accessing\n",
    "s = \"welcome to python\""
   ]
  },
  {
   "cell_type": "code",
   "execution_count": null,
   "id": "486e4b01",
   "metadata": {},
   "outputs": [
    {
     "name": "stdout",
     "output_type": "stream",
     "text": [
      "n\n",
      "n\n"
     ]
    }
   ],
   "source": [
    "print(s[16])\n",
    "print(s[-1])"
   ]
  },
  {
   "cell_type": "code",
   "execution_count": null,
   "id": "46157c8a",
   "metadata": {},
   "outputs": [
    {
     "name": "stdout",
     "output_type": "stream",
     "text": [
      "welcom\n"
     ]
    }
   ],
   "source": [
    "print(s[0:6])\n",
    "# its extract not get 6 index char therefor we need to welcome print(s[0:7])"
   ]
  },
  {
   "cell_type": "code",
   "execution_count": null,
   "id": "837ab4de",
   "metadata": {},
   "outputs": [
    {
     "name": "stdout",
     "output_type": "stream",
     "text": [
      "welcome to python\n",
      "welcome to p\n",
      "welcome to python\n"
     ]
    }
   ],
   "source": [
    "print(s[0:])\n",
    "print(s[:12])\n",
    "print(s[:])"
   ]
  },
  {
   "cell_type": "code",
   "execution_count": null,
   "id": "e47fe1f7",
   "metadata": {},
   "outputs": [
    {
     "name": "stdout",
     "output_type": "stream",
     "text": [
      "nohtyp ot emoclew\n"
     ]
    }
   ],
   "source": [
    "print(s[::-1])"
   ]
  },
  {
   "cell_type": "code",
   "execution_count": null,
   "id": "73358720",
   "metadata": {},
   "outputs": [
    {
     "name": "stdout",
     "output_type": "stream",
     "text": [
      "nohtyp ot emo\n"
     ]
    }
   ],
   "source": [
    "print(s[:3:-1])"
   ]
  },
  {
   "cell_type": "code",
   "execution_count": null,
   "id": "93c2e947",
   "metadata": {},
   "outputs": [
    {
     "name": "stdout",
     "output_type": "stream",
     "text": [
      "loet \n"
     ]
    }
   ],
   "source": [
    "print(s[2:12:2])\n",
    "# jump parameters is jump 2 wise 2"
   ]
  },
  {
   "cell_type": "code",
   "execution_count": null,
   "id": "a9cc62a3",
   "metadata": {},
   "outputs": [
    {
     "name": "stdout",
     "output_type": "stream",
     "text": [
      "nohtyp ot emoclew\n",
      "nhy teolw\n"
     ]
    }
   ],
   "source": [
    "print(s[::-1])\n",
    "print(s[::-2])"
   ]
  },
  {
   "cell_type": "code",
   "execution_count": null,
   "id": "7ce86238",
   "metadata": {},
   "outputs": [
    {
     "name": "stdout",
     "output_type": "stream",
     "text": [
      "pytho\n"
     ]
    }
   ],
   "source": [
    "print(s[-6:-1])"
   ]
  },
  {
   "cell_type": "code",
   "execution_count": null,
   "id": "447e0837",
   "metadata": {},
   "outputs": [
    {
     "name": "stdout",
     "output_type": "stream",
     "text": [
      "python\n"
     ]
    }
   ],
   "source": [
    "print(s[-6:])"
   ]
  },
  {
   "cell_type": "code",
   "execution_count": null,
   "id": "b954d193",
   "metadata": {},
   "outputs": [
    {
     "name": "stdout",
     "output_type": "stream",
     "text": [
      "welcome to python\n",
      "nohtyp\n"
     ]
    }
   ],
   "source": [
    "print(s[:])\n",
    "print(s[-1:-7:-1])"
   ]
  },
  {
   "cell_type": "markdown",
   "id": "7c86829f",
   "metadata": {},
   "source": [
    "### Adding Chars to Strings"
   ]
  },
  {
   "cell_type": "code",
   "execution_count": null,
   "id": "2d4bb9ea",
   "metadata": {},
   "outputs": [],
   "source": [
    "s = \"welcome to python\""
   ]
  },
  {
   "cell_type": "code",
   "execution_count": null,
   "id": "19c8196c",
   "metadata": {},
   "outputs": [],
   "source": [
    "# Strings are immutable (can not edit)"
   ]
  },
  {
   "cell_type": "markdown",
   "id": "76c57aff",
   "metadata": {},
   "source": [
    "### Delete Strings"
   ]
  },
  {
   "cell_type": "code",
   "execution_count": null,
   "id": "47574fdd",
   "metadata": {},
   "outputs": [],
   "source": [
    "s = \"welcome to python\"\n",
    "del s\n",
    "# we can not delete characters but we can delete entire string"
   ]
  },
  {
   "cell_type": "code",
   "execution_count": null,
   "id": "7d72012c",
   "metadata": {},
   "outputs": [
    {
     "ename": "NameError",
     "evalue": "name 's' is not defined",
     "output_type": "error",
     "traceback": [
      "\u001b[31m---------------------------------------------------------------------------\u001b[39m",
      "\u001b[31mNameError\u001b[39m                                 Traceback (most recent call last)",
      "\u001b[36mCell\u001b[39m\u001b[36m \u001b[39m\u001b[32mIn[98]\u001b[39m\u001b[32m, line 1\u001b[39m\n\u001b[32m----> \u001b[39m\u001b[32m1\u001b[39m \u001b[38;5;28mprint\u001b[39m(\u001b[43ms\u001b[49m)\n",
      "\u001b[31mNameError\u001b[39m: name 's' is not defined"
     ]
    }
   ],
   "source": [
    "print(s)"
   ]
  },
  {
   "cell_type": "markdown",
   "id": "c2606dae",
   "metadata": {},
   "source": [
    "### Operations on Strings"
   ]
  },
  {
   "cell_type": "markdown",
   "id": "d67d72cf",
   "metadata": {},
   "source": [
    "- Arithmetic operations \n",
    "- Relational operations \n",
    "- Logical operations\n",
    "- Loops on strings\n",
    "- Membership operations"
   ]
  },
  {
   "cell_type": "markdown",
   "id": "fd7be711",
   "metadata": {},
   "source": [
    "### Arithmetic operations"
   ]
  },
  {
   "cell_type": "code",
   "execution_count": null,
   "id": "b409c3ac",
   "metadata": {},
   "outputs": [
    {
     "name": "stdout",
     "output_type": "stream",
     "text": [
      "HiEveryone\n",
      "Hi Everyone\n"
     ]
    }
   ],
   "source": [
    "print(\"Hi\" + \"Everyone\")\n",
    "print(\"Hi\" + \" \" + \"Everyone\")"
   ]
  },
  {
   "cell_type": "code",
   "execution_count": null,
   "id": "51ddcb2b",
   "metadata": {},
   "outputs": [
    {
     "name": "stdout",
     "output_type": "stream",
     "text": [
      "HiHiHiHiHi\n"
     ]
    }
   ],
   "source": [
    "print(\"Hi\" * 5)"
   ]
  },
  {
   "cell_type": "code",
   "execution_count": null,
   "id": "407e4f96",
   "metadata": {},
   "outputs": [
    {
     "name": "stdout",
     "output_type": "stream",
     "text": [
      "****************************************************************************************************\n"
     ]
    }
   ],
   "source": [
    "print(\"*\" * 100)"
   ]
  },
  {
   "cell_type": "markdown",
   "id": "b87d676c",
   "metadata": {},
   "source": [
    "### Relational operations"
   ]
  },
  {
   "cell_type": "code",
   "execution_count": null,
   "id": "f09e45a2",
   "metadata": {},
   "outputs": [
    {
     "name": "stdout",
     "output_type": "stream",
     "text": [
      "True\n",
      "True\n",
      "False\n",
      "False\n",
      "True\n"
     ]
    }
   ],
   "source": [
    "print(\"hello\" == \"hello\")\n",
    "print(\"hello\" != \"world\")\n",
    "print(\"hello\" > \"hi\")\n",
    "print(\"hello\" > \"world\")\n",
    "print(\"hello\" >= \"hello\")"
   ]
  },
  {
   "cell_type": "markdown",
   "id": "d698c3dd",
   "metadata": {},
   "source": [
    "### Logical operations"
   ]
  },
  {
   "cell_type": "markdown",
   "id": "b42a946b",
   "metadata": {},
   "source": [
    "- \" \" => empty strings always False \n",
    "- \"hello\" => always True"
   ]
  },
  {
   "cell_type": "code",
   "execution_count": null,
   "id": "449abf89",
   "metadata": {},
   "outputs": [
    {
     "data": {
      "text/plain": [
       "'world'"
      ]
     },
     "execution_count": 3,
     "metadata": {},
     "output_type": "execute_result"
    }
   ],
   "source": [
    "\"hello\" and \"world\" # always get second one its if true"
   ]
  },
  {
   "cell_type": "code",
   "execution_count": null,
   "id": "d2f47491",
   "metadata": {},
   "outputs": [
    {
     "data": {
      "text/plain": [
       "'hello'"
      ]
     },
     "execution_count": 4,
     "metadata": {},
     "output_type": "execute_result"
    }
   ],
   "source": [
    "\"hello\" or \"wold\"   # always get first one if its true"
   ]
  },
  {
   "cell_type": "code",
   "execution_count": null,
   "id": "5168ed7b",
   "metadata": {},
   "outputs": [
    {
     "data": {
      "text/plain": [
       "True"
      ]
     },
     "execution_count": 6,
     "metadata": {},
     "output_type": "execute_result"
    }
   ],
   "source": [
    "not \"hello\""
   ]
  },
  {
   "cell_type": "code",
   "execution_count": null,
   "id": "31da6eb8",
   "metadata": {},
   "outputs": [
    {
     "data": {
      "text/plain": [
       "True"
      ]
     },
     "execution_count": 7,
     "metadata": {},
     "output_type": "execute_result"
    }
   ],
   "source": [
    "not \"\""
   ]
  },
  {
   "cell_type": "markdown",
   "id": "9c969aa7",
   "metadata": {},
   "source": [
    "### Loops operations"
   ]
  },
  {
   "cell_type": "code",
   "execution_count": null,
   "id": "f8a2f240",
   "metadata": {},
   "outputs": [
    {
     "name": "stdout",
     "output_type": "stream",
     "text": [
      "p\n",
      "y\n",
      "t\n",
      "h\n",
      "o\n",
      "n\n"
     ]
    }
   ],
   "source": [
    "for i in \"python\":\n",
    "    print(i)"
   ]
  },
  {
   "cell_type": "code",
   "execution_count": null,
   "id": "7fdc23e8",
   "metadata": {},
   "outputs": [
    {
     "name": "stdout",
     "output_type": "stream",
     "text": [
      "Hello\n",
      "Hello\n",
      "Hello\n",
      "Hello\n",
      "Hello\n",
      "Hello\n"
     ]
    }
   ],
   "source": [
    "for i in \"python\":\n",
    "    print(\"Hello\")"
   ]
  },
  {
   "cell_type": "markdown",
   "id": "9b27b20b",
   "metadata": {},
   "source": [
    "### Membership operations"
   ]
  },
  {
   "cell_type": "code",
   "execution_count": null,
   "id": "28406526",
   "metadata": {},
   "outputs": [
    {
     "data": {
      "text/plain": [
       "True"
      ]
     },
     "execution_count": 3,
     "metadata": {},
     "output_type": "execute_result"
    }
   ],
   "source": [
    "\"p\" in \"python\""
   ]
  },
  {
   "cell_type": "code",
   "execution_count": null,
   "id": "3d24ac1b",
   "metadata": {},
   "outputs": [
    {
     "data": {
      "text/plain": [
       "False"
      ]
     },
     "execution_count": 4,
     "metadata": {},
     "output_type": "execute_result"
    }
   ],
   "source": [
    "\"p\" not in \"python\""
   ]
  },
  {
   "cell_type": "markdown",
   "id": "54cbeffe",
   "metadata": {},
   "source": [
    "### Strings Functions / Methods"
   ]
  },
  {
   "cell_type": "markdown",
   "id": "01c08c21",
   "metadata": {},
   "source": [
    "- len\n",
    "- min\n",
    "- max\n",
    "- sorted"
   ]
  },
  {
   "cell_type": "code",
   "execution_count": null,
   "id": "f9c19ffe",
   "metadata": {},
   "outputs": [],
   "source": [
    "s = \"welcome to python\""
   ]
  },
  {
   "cell_type": "code",
   "execution_count": null,
   "id": "2694163e",
   "metadata": {},
   "outputs": [
    {
     "name": "stdout",
     "output_type": "stream",
     "text": [
      "17\n"
     ]
    }
   ],
   "source": [
    "print(len(s))"
   ]
  },
  {
   "cell_type": "code",
   "execution_count": null,
   "id": "09569bcb",
   "metadata": {},
   "outputs": [
    {
     "name": "stdout",
     "output_type": "stream",
     "text": [
      "y\n"
     ]
    }
   ],
   "source": [
    "print(max(s))"
   ]
  },
  {
   "cell_type": "code",
   "execution_count": null,
   "id": "c3a80822",
   "metadata": {},
   "outputs": [
    {
     "name": "stdout",
     "output_type": "stream",
     "text": [
      " \n"
     ]
    }
   ],
   "source": [
    "print(min(s))"
   ]
  },
  {
   "cell_type": "code",
   "execution_count": null,
   "id": "bfc54e7a",
   "metadata": {},
   "outputs": [
    {
     "name": "stdout",
     "output_type": "stream",
     "text": [
      "[' ', ' ', 'c', 'e', 'e', 'h', 'l', 'm', 'n', 'o', 'o', 'o', 'p', 't', 't', 'w', 'y']\n"
     ]
    }
   ],
   "source": [
    "print(sorted(s))"
   ]
  },
  {
   "cell_type": "code",
   "execution_count": null,
   "id": "32b911e5",
   "metadata": {},
   "outputs": [
    {
     "name": "stdout",
     "output_type": "stream",
     "text": [
      "['y', 'w', 't', 't', 'p', 'o', 'o', 'o', 'n', 'm', 'l', 'h', 'e', 'e', 'c', ' ', ' ']\n"
     ]
    }
   ],
   "source": [
    "print(sorted(s, reverse=True))"
   ]
  },
  {
   "cell_type": "markdown",
   "id": "85630bee",
   "metadata": {},
   "source": [
    "- capitalize\n",
    "- Title\n",
    "- Upper \n",
    "- Lower\n",
    "- Swapcase"
   ]
  },
  {
   "cell_type": "code",
   "execution_count": null,
   "id": "bf83080e",
   "metadata": {},
   "outputs": [],
   "source": [
    "s = \"welcome to python\""
   ]
  },
  {
   "cell_type": "code",
   "execution_count": null,
   "id": "5de7fc5a",
   "metadata": {},
   "outputs": [
    {
     "data": {
      "text/plain": [
       "'Welcome to python'"
      ]
     },
     "execution_count": 13,
     "metadata": {},
     "output_type": "execute_result"
    }
   ],
   "source": [
    "s.capitalize()  # its not a original one edit its edit copy of the string"
   ]
  },
  {
   "cell_type": "code",
   "execution_count": null,
   "id": "1469406f",
   "metadata": {},
   "outputs": [
    {
     "data": {
      "text/plain": [
       "'Welcome To Python'"
      ]
     },
     "execution_count": 14,
     "metadata": {},
     "output_type": "execute_result"
    }
   ],
   "source": [
    "s.title()"
   ]
  },
  {
   "cell_type": "code",
   "execution_count": null,
   "id": "8f189f40",
   "metadata": {},
   "outputs": [
    {
     "data": {
      "text/plain": [
       "'WELCOME TO PYTHON'"
      ]
     },
     "execution_count": 15,
     "metadata": {},
     "output_type": "execute_result"
    }
   ],
   "source": [
    "s.upper()"
   ]
  },
  {
   "cell_type": "code",
   "execution_count": null,
   "id": "71bffe4c",
   "metadata": {},
   "outputs": [
    {
     "data": {
      "text/plain": [
       "'welcome to python'"
      ]
     },
     "execution_count": 16,
     "metadata": {},
     "output_type": "execute_result"
    }
   ],
   "source": [
    "s.lower()"
   ]
  },
  {
   "cell_type": "code",
   "execution_count": null,
   "id": "a465de1f",
   "metadata": {},
   "outputs": [
    {
     "data": {
      "text/plain": [
       "'WElCmE TO PyTHON'"
      ]
     },
     "execution_count": 18,
     "metadata": {},
     "output_type": "execute_result"
    }
   ],
   "source": [
    "x = \"weLcMe to pYthon\"\n",
    "x.swapcase()"
   ]
  },
  {
   "cell_type": "markdown",
   "id": "fe8804d1",
   "metadata": {},
   "source": [
    "- count\n",
    "- find\n",
    "- index"
   ]
  },
  {
   "cell_type": "code",
   "execution_count": null,
   "id": "98b3da62",
   "metadata": {},
   "outputs": [
    {
     "data": {
      "text/plain": [
       "1"
      ]
     },
     "execution_count": 19,
     "metadata": {},
     "output_type": "execute_result"
    }
   ],
   "source": [
    "s.count(\"p\")"
   ]
  },
  {
   "cell_type": "code",
   "execution_count": null,
   "id": "24776bc9",
   "metadata": {},
   "outputs": [
    {
     "data": {
      "text/plain": [
       "11"
      ]
     },
     "execution_count": 21,
     "metadata": {},
     "output_type": "execute_result"
    }
   ],
   "source": [
    "s.find(\"p\") # give index number"
   ]
  },
  {
   "cell_type": "code",
   "execution_count": null,
   "id": "c34adc9f",
   "metadata": {},
   "outputs": [
    {
     "ename": "ValueError",
     "evalue": "substring not found",
     "output_type": "error",
     "traceback": [
      "\u001b[31m---------------------------------------------------------------------------\u001b[39m",
      "\u001b[31mValueError\u001b[39m                                Traceback (most recent call last)",
      "\u001b[36mCell\u001b[39m\u001b[36m \u001b[39m\u001b[32mIn[22]\u001b[39m\u001b[32m, line 1\u001b[39m\n\u001b[32m----> \u001b[39m\u001b[32m1\u001b[39m \u001b[43ms\u001b[49m\u001b[43m.\u001b[49m\u001b[43mindex\u001b[49m\u001b[43m(\u001b[49m\u001b[33;43m'\u001b[39;49m\u001b[33;43ms\u001b[39;49m\u001b[33;43m'\u001b[39;49m\u001b[43m)\u001b[49m\n",
      "\u001b[31mValueError\u001b[39m: substring not found"
     ]
    }
   ],
   "source": [
    "s.index('s')"
   ]
  },
  {
   "cell_type": "code",
   "execution_count": null,
   "id": "8c1fecf8",
   "metadata": {},
   "outputs": [
    {
     "data": {
      "text/plain": [
       "11"
      ]
     },
     "execution_count": 25,
     "metadata": {},
     "output_type": "execute_result"
    }
   ],
   "source": [
    "s.index('p')"
   ]
  },
  {
   "cell_type": "code",
   "execution_count": null,
   "id": "21318479",
   "metadata": {},
   "outputs": [
    {
     "data": {
      "text/plain": [
       "-1"
      ]
     },
     "execution_count": 26,
     "metadata": {},
     "output_type": "execute_result"
    }
   ],
   "source": [
    "s.find(\"a\")"
   ]
  },
  {
   "cell_type": "markdown",
   "id": "e059bff2",
   "metadata": {},
   "source": [
    "- find is return -1 is have'nt this element in sentence but index is throw error"
   ]
  },
  {
   "cell_type": "code",
   "execution_count": null,
   "id": "37339afe",
   "metadata": {},
   "outputs": [
    {
     "data": {
      "text/plain": [
       "False"
      ]
     },
     "execution_count": 27,
     "metadata": {},
     "output_type": "execute_result"
    }
   ],
   "source": [
    "s.endswith(\"py\")"
   ]
  },
  {
   "cell_type": "code",
   "execution_count": null,
   "id": "beb9071d",
   "metadata": {},
   "outputs": [
    {
     "data": {
      "text/plain": [
       "True"
      ]
     },
     "execution_count": 28,
     "metadata": {},
     "output_type": "execute_result"
    }
   ],
   "source": [
    "s.endswith(\"on\")"
   ]
  },
  {
   "cell_type": "code",
   "execution_count": null,
   "id": "965a4cac",
   "metadata": {},
   "outputs": [
    {
     "data": {
      "text/plain": [
       "True"
      ]
     },
     "execution_count": 29,
     "metadata": {},
     "output_type": "execute_result"
    }
   ],
   "source": [
    "s.startswith(\"we\")"
   ]
  },
  {
   "cell_type": "code",
   "execution_count": null,
   "id": "94eb348b",
   "metadata": {},
   "outputs": [],
   "source": [
    "name = \"John\"\n",
    "gender = \"Male\"\n",
    "\n",
    "s = \"My name is {}, and I am a {}\""
   ]
  },
  {
   "cell_type": "code",
   "execution_count": null,
   "id": "e005adea",
   "metadata": {},
   "outputs": [
    {
     "data": {
      "text/plain": [
       "'My name is John, and I am a Male'"
      ]
     },
     "execution_count": 31,
     "metadata": {},
     "output_type": "execute_result"
    }
   ],
   "source": [
    "s.format(name, gender)"
   ]
  },
  {
   "cell_type": "code",
   "execution_count": null,
   "id": "ef664538",
   "metadata": {},
   "outputs": [
    {
     "name": "stdout",
     "output_type": "stream",
     "text": [
      "Hello Prashan Kulathunga,  Welcome to Facebook\n"
     ]
    }
   ],
   "source": [
    "name = str(input(\"Enter Your Name: \"))\n",
    "greeting = \"Hello {},  Welcome to Facebook\"\n",
    "\n",
    "print(greeting.format(name))"
   ]
  },
  {
   "cell_type": "code",
   "execution_count": null,
   "id": "c1100b0d",
   "metadata": {},
   "outputs": [
    {
     "name": "stdout",
     "output_type": "stream",
     "text": [
      "My name is Male, I am a John\n"
     ]
    }
   ],
   "source": [
    "name = \"John\"\n",
    "gender = \"Male\"\n",
    "\n",
    "s = \"My name is {}, I am a {}\"\n",
    "\n",
    "print(s.format(gender, name))"
   ]
  },
  {
   "cell_type": "code",
   "execution_count": null,
   "id": "a13a4069",
   "metadata": {},
   "outputs": [
    {
     "name": "stdout",
     "output_type": "stream",
     "text": [
      "My name is John, I am a Male\n"
     ]
    }
   ],
   "source": [
    "name = \"John\"\n",
    "gender = \"Male\"\n",
    "\n",
    "s = \"My name is {1}, I am a {0}\"\n",
    "\n",
    "print(s.format(gender, name))   # then gender is 0 th index and name is 1 th index"
   ]
  },
  {
   "cell_type": "markdown",
   "id": "909a7a32",
   "metadata": {},
   "source": [
    "- isalnum\n",
    "- isalpha\n",
    "- isdigit\n",
    "- isidentifier"
   ]
  },
  {
   "cell_type": "code",
   "execution_count": null,
   "id": "9677b486",
   "metadata": {},
   "outputs": [],
   "source": [
    "s = \"python123\""
   ]
  },
  {
   "cell_type": "code",
   "execution_count": null,
   "id": "7f2953ab",
   "metadata": {},
   "outputs": [
    {
     "data": {
      "text/plain": [
       "True"
      ]
     },
     "execution_count": 40,
     "metadata": {},
     "output_type": "execute_result"
    }
   ],
   "source": [
    "s.isalnum()"
   ]
  },
  {
   "cell_type": "code",
   "execution_count": null,
   "id": "a568ba41",
   "metadata": {},
   "outputs": [],
   "source": [
    "s = \"john\""
   ]
  },
  {
   "cell_type": "code",
   "execution_count": null,
   "id": "0a0e34fa",
   "metadata": {},
   "outputs": [
    {
     "data": {
      "text/plain": [
       "True"
      ]
     },
     "execution_count": 46,
     "metadata": {},
     "output_type": "execute_result"
    }
   ],
   "source": [
    "s.isalpha()"
   ]
  },
  {
   "cell_type": "code",
   "execution_count": null,
   "id": "90e76fdd",
   "metadata": {},
   "outputs": [],
   "source": [
    "s = \"1234\""
   ]
  },
  {
   "cell_type": "code",
   "execution_count": null,
   "id": "98b9bbed",
   "metadata": {},
   "outputs": [
    {
     "data": {
      "text/plain": [
       "True"
      ]
     },
     "execution_count": 50,
     "metadata": {},
     "output_type": "execute_result"
    }
   ],
   "source": [
    "s.isdigit()"
   ]
  },
  {
   "cell_type": "code",
   "execution_count": null,
   "id": "95b46142",
   "metadata": {},
   "outputs": [
    {
     "data": {
      "text/plain": [
       "True"
      ]
     },
     "execution_count": 51,
     "metadata": {},
     "output_type": "execute_result"
    }
   ],
   "source": [
    "s = \"name_age\"\n",
    "s.isidentifier()"
   ]
  },
  {
   "cell_type": "markdown",
   "id": "702e71a9",
   "metadata": {},
   "source": [
    "- split\n",
    "- join"
   ]
  },
  {
   "cell_type": "code",
   "execution_count": null,
   "id": "56ebce45",
   "metadata": {},
   "outputs": [],
   "source": [
    "s = \"My name is John\""
   ]
  },
  {
   "cell_type": "code",
   "execution_count": null,
   "id": "bf00a7a1",
   "metadata": {},
   "outputs": [
    {
     "data": {
      "text/plain": [
       "['My', 'name', 'is', 'John']"
      ]
     },
     "execution_count": 57,
     "metadata": {},
     "output_type": "execute_result"
    }
   ],
   "source": [
    "s.split()"
   ]
  },
  {
   "cell_type": "code",
   "execution_count": null,
   "id": "d3930eea",
   "metadata": {},
   "outputs": [
    {
     "data": {
      "text/plain": [
       "'MynameisJohn'"
      ]
     },
     "execution_count": 59,
     "metadata": {},
     "output_type": "execute_result"
    }
   ],
   "source": [
    "word = ['My', 'name', 'is', 'John']\n",
    "s = \"\"\n",
    "s.join(word)"
   ]
  },
  {
   "cell_type": "code",
   "execution_count": null,
   "id": "caf53593",
   "metadata": {},
   "outputs": [
    {
     "data": {
      "text/plain": [
       "'My name is John'"
      ]
     },
     "execution_count": 60,
     "metadata": {},
     "output_type": "execute_result"
    }
   ],
   "source": [
    "word = ['My', 'name', 'is', 'John']\n",
    "s = \" \"\n",
    "s.join(word)"
   ]
  },
  {
   "cell_type": "markdown",
   "id": "dabd7128",
   "metadata": {},
   "source": [
    "- replace\n",
    "- strip"
   ]
  },
  {
   "cell_type": "code",
   "execution_count": null,
   "id": "fed722f7",
   "metadata": {},
   "outputs": [
    {
     "data": {
      "text/plain": [
       "'my name is Alex    '"
      ]
     },
     "execution_count": 66,
     "metadata": {},
     "output_type": "execute_result"
    }
   ],
   "source": [
    "s = \"my name is john    \"\n",
    "s.replace(\"john\", \"Alex\")"
   ]
  },
  {
   "cell_type": "code",
   "execution_count": null,
   "id": "82017a70",
   "metadata": {},
   "outputs": [
    {
     "data": {
      "text/plain": [
       "19"
      ]
     },
     "execution_count": 67,
     "metadata": {},
     "output_type": "execute_result"
    }
   ],
   "source": [
    "len(s)"
   ]
  },
  {
   "cell_type": "code",
   "execution_count": null,
   "id": "adce4074",
   "metadata": {},
   "outputs": [],
   "source": [
    "s = s.strip()   # remove additional spaces"
   ]
  },
  {
   "cell_type": "code",
   "execution_count": null,
   "id": "1d8e010f",
   "metadata": {},
   "outputs": [
    {
     "data": {
      "text/plain": [
       "15"
      ]
     },
     "execution_count": 71,
     "metadata": {},
     "output_type": "execute_result"
    }
   ],
   "source": [
    "len(s)"
   ]
  },
  {
   "cell_type": "markdown",
   "id": "4761e4e7",
   "metadata": {},
   "source": [
    "### f-String"
   ]
  },
  {
   "cell_type": "code",
   "execution_count": null,
   "id": "125e6933",
   "metadata": {},
   "outputs": [
    {
     "name": "stdout",
     "output_type": "stream",
     "text": [
      "Hello I am John, I am a Male\n"
     ]
    }
   ],
   "source": [
    "name = \"John\"\n",
    "gender = \"Male\"\n",
    "\n",
    "print(f\"Hello I am {name}, I am a {gender}\")"
   ]
  },
  {
   "cell_type": "markdown",
   "id": "1479d7fa",
   "metadata": {},
   "source": [
    "1. Find a length of a given string without len function\n",
    "2. Extract username from the given Email address\n",
    "\n",
    "- Ex:\n",
    "    if the email is john@gmail.com then username should be john\n",
    "\n",
    "3. write a program that can check whether the given string is palindrome or not\n",
    "- abba\n",
    "- malayalam\n",
    "- mama    "
   ]
  },
  {
   "cell_type": "code",
   "execution_count": null,
   "id": "bd2c84b0",
   "metadata": {},
   "outputs": [
    {
     "name": "stdout",
     "output_type": "stream",
     "text": [
      "length of the string:  30\n"
     ]
    }
   ],
   "source": [
    "count = 0\n",
    "given_st = str(input(\"Enter a string\"))\n",
    "\n",
    "for i in given_st:\n",
    "    count += 1\n",
    "print(\"length of the string: \", count)"
   ]
  },
  {
   "cell_type": "code",
   "execution_count": null,
   "id": "04e66891",
   "metadata": {},
   "outputs": [
    {
     "name": "stdout",
     "output_type": "stream",
     "text": [
      "prashan\n"
     ]
    }
   ],
   "source": [
    "email = input(\"Enter Your Email Address: \")\n",
    "\n",
    "username = email.split(\"@\")\n",
    "username = username[0]\n",
    "print(username)"
   ]
  },
  {
   "cell_type": "code",
   "execution_count": null,
   "id": "5cd1969b",
   "metadata": {},
   "outputs": [
    {
     "name": "stdout",
     "output_type": "stream",
     "text": [
      "This Word is Palindrome\n"
     ]
    }
   ],
   "source": [
    "word = input(\"Enter a word check for palindrome: \")\n",
    "rv_word = word[::-1]\n",
    "\n",
    "if word == rv_word:\n",
    "    print(\"This Word is Palindrome\")\n",
    "else:\n",
    "    print(\"This Word not Palindrome\")"
   ]
  },
  {
   "cell_type": "code",
   "execution_count": null,
   "id": "65c157d5",
   "metadata": {},
   "outputs": [
    {
     "name": "stdout",
     "output_type": "stream",
     "text": [
      "Palindrome\n"
     ]
    }
   ],
   "source": [
    "word = input(\"Enter a string word: \")\n",
    "flag = True\n",
    "\n",
    "for i in range(0, len(word)//2):\n",
    "    if word[i] != word[len(word) - i -1]:\n",
    "        flag = False\n",
    "        print(\"Not a Palindrome\")\n",
    "        break\n",
    "if flag:\n",
    "    print(\"Palindrome\")"
   ]
  },
  {
   "cell_type": "code",
   "execution_count": null,
   "id": "047d416b",
   "metadata": {},
   "outputs": [
    {
     "data": {
      "text/plain": [
       "2"
      ]
     },
     "execution_count": 107,
     "metadata": {},
     "output_type": "execute_result"
    }
   ],
   "source": [
    "s = \"abba\"\n",
    "len(s) // 2"
   ]
  },
  {
   "cell_type": "code",
   "execution_count": null,
   "id": "a240c5a8",
   "metadata": {},
   "outputs": [
    {
     "data": {
      "text/plain": [
       "'o'"
      ]
     },
     "execution_count": 115,
     "metadata": {},
     "output_type": "execute_result"
    }
   ],
   "source": [
    "test = \"hello python\"\n",
    "test[len(test) -0 -1]   # we get last character"
   ]
  },
  {
   "cell_type": "markdown",
   "id": "82707fc3",
   "metadata": {},
   "source": [
    "### List in Python"
   ]
  },
  {
   "cell_type": "markdown",
   "id": "f8d011fd",
   "metadata": {},
   "source": [
    "- What are Lists?\n",
    "- Lists vs Array\n",
    "- Characteristic of Lists\n",
    "- How to crate Lists\n",
    "- Access items from the Lists\n",
    "- Editing items in a Lists\n",
    "- Deleting item from the Lists\n",
    "- Operations on Lists\n",
    "- Functions on Lists\n",
    "- List comprehension"
   ]
  },
  {
   "cell_type": "markdown",
   "id": "11772458",
   "metadata": {},
   "source": [
    "1. Array\n",
    "    - Fixed size\n",
    "    - Homogeneous (data type)\n",
    "    - speed of execution fast\n",
    "    - Less memory"
   ]
  },
  {
   "cell_type": "markdown",
   "id": "f959fa86",
   "metadata": {},
   "source": [
    "2. List\n",
    "    - Dynamic size\n",
    "    - Hetnogeneous\n",
    "    - speed of execution slow\n",
    "    - More memory"
   ]
  },
  {
   "cell_type": "code",
   "execution_count": null,
   "id": "f57867f2",
   "metadata": {},
   "outputs": [
    {
     "name": "stdout",
     "output_type": "stream",
     "text": [
      "4839350464\n",
      "4368252560\n",
      "4368252592\n",
      "4368252624\n"
     ]
    }
   ],
   "source": [
    "L = [1,2,3]\n",
    "\n",
    "print(id(L))\n",
    "print(id(L[0]))\n",
    "print(id(L[1]))\n",
    "print(id(L[2]))"
   ]
  },
  {
   "cell_type": "code",
   "execution_count": null,
   "id": "4b3d8d85",
   "metadata": {},
   "outputs": [
    {
     "name": "stdout",
     "output_type": "stream",
     "text": [
      "True\n",
      "True\n",
      "True\n"
     ]
    }
   ],
   "source": [
    "print(id(L[0]) == id(1))\n",
    "print(id(L[1]) == id(2))\n",
    "print(id(L[2]) == id(3))"
   ]
  },
  {
   "cell_type": "markdown",
   "id": "6cb197e4",
   "metadata": {},
   "source": [
    "### Characterstics of a List"
   ]
  },
  {
   "cell_type": "markdown",
   "id": "763533ea",
   "metadata": {},
   "source": [
    "- Ordered \n",
    "- Changeble / Mutable\n",
    "- Hetrogeneous\n",
    "- can have duplicates\n",
    "- are dynamic\n",
    "- can be nested\n",
    "- items can be accessed\n",
    "- can contain any kind of objects in python"
   ]
  },
  {
   "cell_type": "code",
   "execution_count": null,
   "id": "46ebf2d9",
   "metadata": {},
   "outputs": [
    {
     "name": "stdout",
     "output_type": "stream",
     "text": [
      "False\n"
     ]
    }
   ],
   "source": [
    "L1 = [1,2,3,4]\n",
    "L2 = [4,3,2,1]\n",
    "\n",
    "print(L1 == L2)"
   ]
  },
  {
   "cell_type": "code",
   "execution_count": null,
   "id": "0f57c200",
   "metadata": {},
   "outputs": [],
   "source": [
    "L1 = [1,2,4,6]"
   ]
  },
  {
   "cell_type": "code",
   "execution_count": null,
   "id": "560acb3f",
   "metadata": {},
   "outputs": [
    {
     "name": "stdout",
     "output_type": "stream",
     "text": [
      "[1, 2, 4, 6]\n",
      "1\n"
     ]
    }
   ],
   "source": [
    "print(L1)\n",
    "print(L1[0])"
   ]
  },
  {
   "cell_type": "markdown",
   "id": "c8b14659",
   "metadata": {},
   "source": [
    "### Creating a List"
   ]
  },
  {
   "cell_type": "code",
   "execution_count": null,
   "id": "2c4cd543",
   "metadata": {},
   "outputs": [
    {
     "name": "stdout",
     "output_type": "stream",
     "text": [
      "[]\n",
      "[1, 2, 3, 4, 5]\n",
      "[1, 2, 3, [4, 5]]\n",
      "[[[1, 2], [3, 4]], [[5, 6], [7, 8]]]\n",
      "[1, True, 5.6, (4+5j), 'hello']\n",
      "['h', 'e', 'l', 'l', 'o']\n"
     ]
    }
   ],
   "source": [
    "# Empty\n",
    "print([])\n",
    "# 1D\n",
    "print([1,2,3,4,5])\n",
    "# 2D\n",
    "print([1,2,3, [4,5]])\n",
    "# 3D\n",
    "print([[[1,2], [3,4]], [[5,6], [7,8]]])\n",
    "# Hetrogenous\n",
    "print([1, True, 5.6, 4+5j, \"hello\"])\n",
    "# using type conversions\n",
    "print(list(\"hello\"))"
   ]
  },
  {
   "cell_type": "markdown",
   "id": "806461b7",
   "metadata": {},
   "source": [
    "### Accessing Items from List"
   ]
  },
  {
   "cell_type": "markdown",
   "id": "dbeff62a",
   "metadata": {},
   "source": [
    "- indexing\n",
    "- slicing"
   ]
  },
  {
   "cell_type": "code",
   "execution_count": null,
   "id": "c8d09589",
   "metadata": {},
   "outputs": [],
   "source": [
    "l = [1,2,3,4,5]"
   ]
  },
  {
   "cell_type": "code",
   "execution_count": null,
   "id": "38c4c098",
   "metadata": {},
   "outputs": [
    {
     "name": "stdout",
     "output_type": "stream",
     "text": [
      "1\n",
      "5\n"
     ]
    }
   ],
   "source": [
    "print(l[0])\n",
    "print(l[-1])"
   ]
  },
  {
   "cell_type": "code",
   "execution_count": null,
   "id": "943d22b8",
   "metadata": {},
   "outputs": [],
   "source": [
    "l2 = [1,2,3, [4,5]]"
   ]
  },
  {
   "cell_type": "code",
   "execution_count": null,
   "id": "867df0b0",
   "metadata": {},
   "outputs": [
    {
     "data": {
      "text/plain": [
       "[4, 5]"
      ]
     },
     "execution_count": 131,
     "metadata": {},
     "output_type": "execute_result"
    }
   ],
   "source": [
    "l2[3]"
   ]
  },
  {
   "cell_type": "code",
   "execution_count": null,
   "id": "ab2516f9",
   "metadata": {},
   "outputs": [
    {
     "data": {
      "text/plain": [
       "5"
      ]
     },
     "execution_count": 133,
     "metadata": {},
     "output_type": "execute_result"
    }
   ],
   "source": [
    "l2[3][1]"
   ]
  },
  {
   "cell_type": "code",
   "execution_count": null,
   "id": "fa7e8f6e",
   "metadata": {},
   "outputs": [],
   "source": [
    "l3 = [[[1,2], [3,4]], [[5,6], [7,8]]]"
   ]
  },
  {
   "cell_type": "code",
   "execution_count": null,
   "id": "29f260d5",
   "metadata": {},
   "outputs": [
    {
     "data": {
      "text/plain": [
       "2"
      ]
     },
     "execution_count": 136,
     "metadata": {},
     "output_type": "execute_result"
    }
   ],
   "source": [
    "len(l3) # how many list in the 3d list"
   ]
  },
  {
   "cell_type": "code",
   "execution_count": null,
   "id": "5d358f42",
   "metadata": {},
   "outputs": [
    {
     "data": {
      "text/plain": [
       "[[1, 2], [3, 4]]"
      ]
     },
     "execution_count": 137,
     "metadata": {},
     "output_type": "execute_result"
    }
   ],
   "source": [
    "l3[0]"
   ]
  },
  {
   "cell_type": "code",
   "execution_count": null,
   "id": "47154bd4",
   "metadata": {},
   "outputs": [
    {
     "data": {
      "text/plain": [
       "4"
      ]
     },
     "execution_count": 138,
     "metadata": {},
     "output_type": "execute_result"
    }
   ],
   "source": [
    "l3[0][1][1]"
   ]
  },
  {
   "cell_type": "code",
   "execution_count": null,
   "id": "7104ff2a",
   "metadata": {},
   "outputs": [],
   "source": [
    "l = [1,2,3,4,5]"
   ]
  },
  {
   "cell_type": "code",
   "execution_count": null,
   "id": "0551ecf9",
   "metadata": {},
   "outputs": [
    {
     "data": {
      "text/plain": [
       "[2, 3, 4]"
      ]
     },
     "execution_count": 140,
     "metadata": {},
     "output_type": "execute_result"
    }
   ],
   "source": [
    "l[1:4]"
   ]
  },
  {
   "cell_type": "code",
   "execution_count": null,
   "id": "1e33a424",
   "metadata": {},
   "outputs": [
    {
     "data": {
      "text/plain": [
       "[5, 4, 3, 2, 1]"
      ]
     },
     "execution_count": 141,
     "metadata": {},
     "output_type": "execute_result"
    }
   ],
   "source": [
    "l[::-1]"
   ]
  },
  {
   "cell_type": "code",
   "execution_count": null,
   "id": "1c8f2a41",
   "metadata": {},
   "outputs": [
    {
     "data": {
      "text/plain": [
       "[1, 3]"
      ]
     },
     "execution_count": 142,
     "metadata": {},
     "output_type": "execute_result"
    }
   ],
   "source": [
    "l[:3:2]"
   ]
  },
  {
   "cell_type": "markdown",
   "id": "085a7f0b",
   "metadata": {},
   "source": [
    "### Lists Methods/Functions in Python"
   ]
  },
  {
   "cell_type": "markdown",
   "id": "5745af7e",
   "metadata": {},
   "source": [
    "- append - Last position of the list append"
   ]
  },
  {
   "cell_type": "code",
   "execution_count": null,
   "id": "f206b92b",
   "metadata": {},
   "outputs": [
    {
     "name": "stdout",
     "output_type": "stream",
     "text": [
      "[1, 2, 3, 4]\n"
     ]
    }
   ],
   "source": [
    "L = [1,2,3,4]\n",
    "print(L)"
   ]
  },
  {
   "cell_type": "code",
   "execution_count": null,
   "id": "9243913a",
   "metadata": {},
   "outputs": [],
   "source": [
    "L.append(5)"
   ]
  },
  {
   "cell_type": "code",
   "execution_count": null,
   "id": "f7b2aa6d",
   "metadata": {},
   "outputs": [
    {
     "name": "stdout",
     "output_type": "stream",
     "text": [
      "[1, 2, 3, 4, 5, 5, 5]\n"
     ]
    }
   ],
   "source": [
    "print(L)"
   ]
  },
  {
   "cell_type": "code",
   "execution_count": null,
   "id": "2a7bee74",
   "metadata": {},
   "outputs": [],
   "source": [
    "L[4], L[5], L[6] = 5, 6, 7"
   ]
  },
  {
   "cell_type": "code",
   "execution_count": null,
   "id": "b5e96586",
   "metadata": {},
   "outputs": [
    {
     "name": "stdout",
     "output_type": "stream",
     "text": [
      "[1, 2, 3, 4, 5, 6, 7]\n"
     ]
    }
   ],
   "source": [
    "print(L)"
   ]
  },
  {
   "cell_type": "markdown",
   "id": "f044f629",
   "metadata": {},
   "source": [
    "- Editing with slicing"
   ]
  },
  {
   "cell_type": "code",
   "execution_count": null,
   "id": "621772d2",
   "metadata": {},
   "outputs": [
    {
     "name": "stdout",
     "output_type": "stream",
     "text": [
      "[1, 200, 300, 400]\n"
     ]
    }
   ],
   "source": [
    "L = [1,2,3,4]\n",
    "L[1:4] = [200,300,400]\n",
    "print(L)"
   ]
  },
  {
   "cell_type": "code",
   "execution_count": null,
   "id": "47aae501",
   "metadata": {},
   "outputs": [],
   "source": [
    "L = [1,2,3,4]"
   ]
  },
  {
   "cell_type": "code",
   "execution_count": null,
   "id": "ee6cecb2",
   "metadata": {},
   "outputs": [],
   "source": [
    "L.append([5,6,7])"
   ]
  },
  {
   "cell_type": "code",
   "execution_count": null,
   "id": "266350cc",
   "metadata": {},
   "outputs": [
    {
     "name": "stdout",
     "output_type": "stream",
     "text": [
      "[1, 2, 3, 4, [5, 6, 7]]\n"
     ]
    }
   ],
   "source": [
    "print(L)"
   ]
  },
  {
   "cell_type": "code",
   "execution_count": null,
   "id": "bedb7ee6",
   "metadata": {},
   "outputs": [],
   "source": [
    "L.append(True)"
   ]
  },
  {
   "cell_type": "code",
   "execution_count": null,
   "id": "c4a46e4b",
   "metadata": {},
   "outputs": [
    {
     "name": "stdout",
     "output_type": "stream",
     "text": [
      "[1, 2, 3, 4, [5, 6, 7], True]\n"
     ]
    }
   ],
   "source": [
    "print(L)"
   ]
  },
  {
   "cell_type": "markdown",
   "id": "c92f36f6",
   "metadata": {},
   "source": [
    "- extend - one specific item add last positions"
   ]
  },
  {
   "cell_type": "code",
   "execution_count": null,
   "id": "c757fa3a",
   "metadata": {},
   "outputs": [],
   "source": [
    "L = [1,2,3,4]\n",
    "a = [11,12,13]\n",
    "\n",
    "L.extend(a)"
   ]
  },
  {
   "cell_type": "code",
   "execution_count": null,
   "id": "99852fdf",
   "metadata": {},
   "outputs": [
    {
     "name": "stdout",
     "output_type": "stream",
     "text": [
      "[1, 2, 3, 4, 11, 12, 13]\n"
     ]
    }
   ],
   "source": [
    "print(L)"
   ]
  },
  {
   "cell_type": "code",
   "execution_count": null,
   "id": "78b1d109",
   "metadata": {},
   "outputs": [],
   "source": [
    "L.extend(\"Hello\")"
   ]
  },
  {
   "cell_type": "code",
   "execution_count": null,
   "id": "b84426a1",
   "metadata": {},
   "outputs": [
    {
     "name": "stdout",
     "output_type": "stream",
     "text": [
      "[1, 2, 3, 4, 11, 12, 13, 'H', 'e', 'l', 'l', 'o']\n"
     ]
    }
   ],
   "source": [
    "print(L)"
   ]
  },
  {
   "cell_type": "markdown",
   "id": "dd095dca",
   "metadata": {},
   "source": [
    "- insert - add specific index number add"
   ]
  },
  {
   "cell_type": "code",
   "execution_count": null,
   "id": "570fa632",
   "metadata": {},
   "outputs": [
    {
     "name": "stdout",
     "output_type": "stream",
     "text": [
      "[1, 200, 2, 3, 4]\n"
     ]
    }
   ],
   "source": [
    "L = [1,2,3,4]\n",
    "L.insert(1, 200)\n",
    "print(L)"
   ]
  },
  {
   "cell_type": "markdown",
   "id": "aba162b8",
   "metadata": {},
   "source": [
    "- Deleting Items from Lists"
   ]
  },
  {
   "cell_type": "code",
   "execution_count": null,
   "id": "09c0ef70",
   "metadata": {},
   "outputs": [
    {
     "name": "stdout",
     "output_type": "stream",
     "text": [
      "[2, 3, 4]\n"
     ]
    }
   ],
   "source": [
    "L = [1,2,3,4]\n",
    "\n",
    "del L[0]\n",
    "print(L)"
   ]
  },
  {
   "cell_type": "code",
   "execution_count": null,
   "id": "4e30eed3",
   "metadata": {},
   "outputs": [],
   "source": [
    "del L[1:3]"
   ]
  },
  {
   "cell_type": "code",
   "execution_count": null,
   "id": "7a987a2a",
   "metadata": {},
   "outputs": [
    {
     "name": "stdout",
     "output_type": "stream",
     "text": [
      "[2]\n"
     ]
    }
   ],
   "source": [
    "print(L)"
   ]
  },
  {
   "cell_type": "markdown",
   "id": "57c53fa9",
   "metadata": {},
   "source": [
    "- remove - give to the value"
   ]
  },
  {
   "cell_type": "code",
   "execution_count": null,
   "id": "b1ea16b5",
   "metadata": {},
   "outputs": [
    {
     "name": "stdout",
     "output_type": "stream",
     "text": [
      "[1, 2, 3, 5]\n"
     ]
    }
   ],
   "source": [
    "L = [1,2,3,4,5]\n",
    "\n",
    "L.remove(4)\n",
    "print(L)"
   ]
  },
  {
   "cell_type": "markdown",
   "id": "5106d01a",
   "metadata": {},
   "source": [
    "- pop - remove last positions item"
   ]
  },
  {
   "cell_type": "code",
   "execution_count": null,
   "id": "48ef1a3f",
   "metadata": {},
   "outputs": [
    {
     "name": "stdout",
     "output_type": "stream",
     "text": [
      "[1, 2, 3, 4]\n"
     ]
    }
   ],
   "source": [
    "L = [1,2,3,4,5]\n",
    "\n",
    "L.pop()\n",
    "print(L)"
   ]
  },
  {
   "cell_type": "markdown",
   "id": "11d39532",
   "metadata": {},
   "source": [
    "- clear - clear list values"
   ]
  },
  {
   "cell_type": "code",
   "execution_count": null,
   "id": "66bd99c9",
   "metadata": {},
   "outputs": [
    {
     "name": "stdout",
     "output_type": "stream",
     "text": [
      "[]\n"
     ]
    }
   ],
   "source": [
    "L = [1,2,3,4,5]\n",
    "L.clear()\n",
    "print(L)"
   ]
  },
  {
   "cell_type": "markdown",
   "id": "bc9d8ce4",
   "metadata": {},
   "source": [
    "- len\n",
    "- min\n",
    "- max \n",
    "- sorted"
   ]
  },
  {
   "cell_type": "code",
   "execution_count": null,
   "id": "3ef323ed",
   "metadata": {},
   "outputs": [
    {
     "name": "stdout",
     "output_type": "stream",
     "text": [
      "5\n",
      "1\n",
      "5\n",
      "[5, 4, 3, 2, 1]\n"
     ]
    }
   ],
   "source": [
    "L = [1,2,3,4,5]\n",
    "\n",
    "print(len(L))\n",
    "print(min(L))\n",
    "print(max(L))\n",
    "print(sorted(L, reverse=True))"
   ]
  },
  {
   "cell_type": "markdown",
   "id": "84c6bc99",
   "metadata": {},
   "source": [
    "- count - How many times is coming up this value"
   ]
  },
  {
   "cell_type": "code",
   "execution_count": null,
   "id": "ed601e77",
   "metadata": {},
   "outputs": [
    {
     "name": "stdout",
     "output_type": "stream",
     "text": [
      "3\n"
     ]
    }
   ],
   "source": [
    "L = [1,2,3,4,5,5,5,6]\n",
    "\n",
    "print(L.count(5))"
   ]
  },
  {
   "cell_type": "markdown",
   "id": "12003f4b",
   "metadata": {},
   "source": [
    "- index"
   ]
  },
  {
   "cell_type": "code",
   "execution_count": null,
   "id": "1e299168",
   "metadata": {},
   "outputs": [
    {
     "data": {
      "text/plain": [
       "1"
      ]
     },
     "execution_count": 169,
     "metadata": {},
     "output_type": "execute_result"
    }
   ],
   "source": [
    "L = [1,2,3,4,4,4,5,5]\n",
    "\n",
    "L.index(2)"
   ]
  },
  {
   "cell_type": "code",
   "execution_count": null,
   "id": "dee9026b",
   "metadata": {},
   "outputs": [
    {
     "data": {
      "text/plain": [
       "1"
      ]
     },
     "execution_count": 172,
     "metadata": {},
     "output_type": "execute_result"
    }
   ],
   "source": [
    "L.index(2)"
   ]
  },
  {
   "cell_type": "markdown",
   "id": "053403c0",
   "metadata": {},
   "source": [
    "- reverse"
   ]
  },
  {
   "cell_type": "code",
   "execution_count": null,
   "id": "3416d70f",
   "metadata": {},
   "outputs": [
    {
     "name": "stdout",
     "output_type": "stream",
     "text": [
      "[5, 4, 3, 2, 1]\n"
     ]
    }
   ],
   "source": [
    "L = [1,2,3,4,5]\n",
    "\n",
    "L.reverse()\n",
    "print(L)"
   ]
  },
  {
   "cell_type": "markdown",
   "id": "0cbf7ae8",
   "metadata": {},
   "source": [
    "- sort"
   ]
  },
  {
   "cell_type": "code",
   "execution_count": null,
   "id": "1bfeefd5",
   "metadata": {},
   "outputs": [
    {
     "name": "stdout",
     "output_type": "stream",
     "text": [
      "[1, 2, 13, 23, 65]\n"
     ]
    }
   ],
   "source": [
    "L = [1,2,65,23,13]\n",
    "\n",
    "L.sort()\n",
    "print(L)"
   ]
  },
  {
   "cell_type": "markdown",
   "id": "6e130f12",
   "metadata": {},
   "source": [
    "- copy"
   ]
  },
  {
   "cell_type": "code",
   "execution_count": null,
   "id": "f9c36432",
   "metadata": {},
   "outputs": [
    {
     "name": "stdout",
     "output_type": "stream",
     "text": [
      "[1, 2, 3, 4, 5]\n"
     ]
    }
   ],
   "source": [
    "L = [1,2,3,4,5]\n",
    "\n",
    "L1 = L.copy()\n",
    "\n",
    "print(L1)"
   ]
  },
  {
   "cell_type": "code",
   "execution_count": null,
   "id": "17683c14",
   "metadata": {},
   "outputs": [],
   "source": [
    "L.append(5)"
   ]
  },
  {
   "cell_type": "code",
   "execution_count": null,
   "id": "2f1fefa4",
   "metadata": {},
   "outputs": [
    {
     "name": "stdout",
     "output_type": "stream",
     "text": [
      "[1, 2, 3, 4, 5, 5]\n",
      "[1, 2, 3, 4, 5]\n"
     ]
    }
   ],
   "source": [
    "print(L)\n",
    "print(L1)"
   ]
  },
  {
   "cell_type": "markdown",
   "id": "6e8853b3",
   "metadata": {},
   "source": [
    "### Lists Operations in Python"
   ]
  },
  {
   "cell_type": "markdown",
   "id": "2c32f6ce",
   "metadata": {},
   "source": [
    "- Arithmetic operations\n",
    "- Membership operations\n",
    "- Loop operations"
   ]
  },
  {
   "cell_type": "code",
   "execution_count": null,
   "id": "53178c9c",
   "metadata": {},
   "outputs": [],
   "source": [
    "L1 = [1,2,3,4,5]\n",
    "L2 = [5,6,7,8,9,10]"
   ]
  },
  {
   "cell_type": "code",
   "execution_count": null,
   "id": "589e4601",
   "metadata": {},
   "outputs": [
    {
     "data": {
      "text/plain": [
       "[1, 2, 3, 4, 5, 5, 6, 7, 8, 9, 10]"
      ]
     },
     "execution_count": 2,
     "metadata": {},
     "output_type": "execute_result"
    }
   ],
   "source": [
    "L1 + L2"
   ]
  },
  {
   "cell_type": "code",
   "execution_count": null,
   "id": "4b52837f",
   "metadata": {},
   "outputs": [
    {
     "data": {
      "text/plain": [
       "[1, 2, 3, 4, 5, 1, 2, 3, 4, 5, 1, 2, 3, 4, 5]"
      ]
     },
     "execution_count": 3,
     "metadata": {},
     "output_type": "execute_result"
    }
   ],
   "source": [
    "L1 *3"
   ]
  },
  {
   "cell_type": "code",
   "execution_count": null,
   "id": "95f1b0ec",
   "metadata": {},
   "outputs": [
    {
     "ename": "TypeError",
     "evalue": "can't multiply sequence by non-int of type 'list'",
     "output_type": "error",
     "traceback": [
      "\u001b[31m---------------------------------------------------------------------------\u001b[39m",
      "\u001b[31mTypeError\u001b[39m                                 Traceback (most recent call last)",
      "\u001b[36mCell\u001b[39m\u001b[36m \u001b[39m\u001b[32mIn[4]\u001b[39m\u001b[32m, line 1\u001b[39m\n\u001b[32m----> \u001b[39m\u001b[32m1\u001b[39m \u001b[43mL1\u001b[49m\u001b[43m \u001b[49m\u001b[43m*\u001b[49m\u001b[43m \u001b[49m\u001b[43mL2\u001b[49m\n",
      "\u001b[31mTypeError\u001b[39m: can't multiply sequence by non-int of type 'list'"
     ]
    }
   ],
   "source": [
    "L1 * L2"
   ]
  },
  {
   "cell_type": "code",
   "execution_count": null,
   "id": "78732548",
   "metadata": {},
   "outputs": [
    {
     "name": "stdout",
     "output_type": "stream",
     "text": [
      "False\n"
     ]
    }
   ],
   "source": [
    "print(40 in L1)"
   ]
  },
  {
   "cell_type": "code",
   "execution_count": null,
   "id": "6565cd81",
   "metadata": {},
   "outputs": [
    {
     "name": "stdout",
     "output_type": "stream",
     "text": [
      "True\n"
     ]
    }
   ],
   "source": [
    "print(40 not in L1)"
   ]
  },
  {
   "cell_type": "code",
   "execution_count": null,
   "id": "933ee910",
   "metadata": {},
   "outputs": [
    {
     "name": "stdout",
     "output_type": "stream",
     "text": [
      "1\n",
      "2\n",
      "3\n",
      "4\n",
      "5\n"
     ]
    }
   ],
   "source": [
    "for i in L1:\n",
    "    print(i)"
   ]
  },
  {
   "cell_type": "markdown",
   "id": "5aa4e1be",
   "metadata": {},
   "source": [
    "### Lists Comprehensions"
   ]
  },
  {
   "cell_type": "markdown",
   "id": "564cf38c",
   "metadata": {},
   "source": [
    "1. Lists Comprehensions provides a way of creating lists\n",
    "  \n",
    "    newlist = [expression for item in iterable if condition == True]\n",
    "\n",
    "2. Advantage of List Comprehension \n",
    "- More time efficient and  space efficient than loops\n",
    "- Require fewer lines of codes\n",
    "- Transform iterative statements in to a formula"
   ]
  },
  {
   "cell_type": "code",
   "execution_count": null,
   "id": "35ee7214",
   "metadata": {},
   "outputs": [
    {
     "name": "stdout",
     "output_type": "stream",
     "text": [
      "[1, 2, 3, 4, 5, 6, 7, 8, 9, 10]\n"
     ]
    }
   ],
   "source": [
    "# TODO: 1 to 10 numbers append the list\n",
    "\n",
    "L = []\n",
    "\n",
    "for i in range(1,11):\n",
    "    L.append(i)\n",
    "print(L)"
   ]
  },
  {
   "cell_type": "code",
   "execution_count": null,
   "id": "d8f014a7",
   "metadata": {},
   "outputs": [
    {
     "name": "stdout",
     "output_type": "stream",
     "text": [
      "[1, 2, 3, 4, 5, 6, 7, 8, 9, 10]\n"
     ]
    }
   ],
   "source": [
    "# Using List Comprehensive\n",
    "\n",
    "L = [i for i in range(1,11)]\n",
    "print(L)"
   ]
  },
  {
   "cell_type": "code",
   "execution_count": null,
   "id": "bc8eff2d",
   "metadata": {},
   "outputs": [
    {
     "name": "stdout",
     "output_type": "stream",
     "text": [
      "[-3, -6, -9]\n"
     ]
    }
   ],
   "source": [
    "# TODO: Scaler multiplication on a vector\n",
    "\n",
    "v = [1,2,3]\n",
    "s = -3\n",
    "L = []\n",
    "\n",
    "for i in v:\n",
    "    result = i * s\n",
    "    L.append(result)\n",
    "print(L)"
   ]
  },
  {
   "cell_type": "code",
   "execution_count": null,
   "id": "ea64a6b4",
   "metadata": {},
   "outputs": [
    {
     "name": "stdout",
     "output_type": "stream",
     "text": [
      "[-3, -6, -9]\n"
     ]
    }
   ],
   "source": [
    "L = [i*s for i in v]\n",
    "print(L)"
   ]
  },
  {
   "cell_type": "code",
   "execution_count": null,
   "id": "15d49fff",
   "metadata": {},
   "outputs": [
    {
     "name": "stdout",
     "output_type": "stream",
     "text": [
      "[1, 4, 9, 16]\n"
     ]
    }
   ],
   "source": [
    "# TODO: Add squares\n",
    "\n",
    "L = [1,2,3,4]\n",
    "\n",
    "LC = [i**2 for i in L]\n",
    "print(LC)"
   ]
  },
  {
   "cell_type": "code",
   "execution_count": null,
   "id": "0dd713c2",
   "metadata": {},
   "outputs": [
    {
     "name": "stdout",
     "output_type": "stream",
     "text": [
      "[5, 10, 15, 20, 25, 30, 35, 40, 45, 50]\n"
     ]
    }
   ],
   "source": [
    "# TODO: print all numbers divisible by 5 in the range of 1 to 50\n",
    "\n",
    "L = []\n",
    "\n",
    "for i in range(1, 51):\n",
    "    if i%5 == 0:\n",
    "     L.append(i)\n",
    "print(L)"
   ]
  },
  {
   "cell_type": "code",
   "execution_count": null,
   "id": "8f7b58d5",
   "metadata": {},
   "outputs": [
    {
     "name": "stdout",
     "output_type": "stream",
     "text": [
      "[5, 10, 15, 20, 25, 30, 35, 40, 45, 50]\n"
     ]
    }
   ],
   "source": [
    "L = [i for i in range(1,51) if i%5 == 0]\n",
    "print(L)"
   ]
  },
  {
   "cell_type": "code",
   "execution_count": null,
   "id": "b43150d5",
   "metadata": {},
   "outputs": [
    {
     "name": "stdout",
     "output_type": "stream",
     "text": [
      "['python', 'php']\n"
     ]
    }
   ],
   "source": [
    "# TODO: Find languages which start with letter p\n",
    "\n",
    "languages = ['java', 'python', 'php', 'c', 'javascript']\n",
    "\n",
    "L = [i for i in languages if i.startswith(\"p\")]\n",
    "print(L)"
   ]
  },
  {
   "cell_type": "markdown",
   "id": "d353f3ee",
   "metadata": {},
   "source": [
    "### Zip Functions\n",
    "\n",
    "The zip() function return a zip object, which is an iterator of tuple where the first item in each passed iterator is paired together, and then the second item in each pass iterator are paired together.\n",
    "\n",
    "if rhe passed iterators have different lengths, the iterator with the last items decide the length of the new iterator."
   ]
  },
  {
   "cell_type": "code",
   "execution_count": null,
   "id": "f7bd6b25",
   "metadata": {},
   "outputs": [],
   "source": [
    "L1 = [1,2,3,4]\n",
    "L2 = [5,6,7,8]"
   ]
  },
  {
   "cell_type": "code",
   "execution_count": null,
   "id": "94a93ba2",
   "metadata": {},
   "outputs": [
    {
     "data": {
      "text/plain": [
       "<zip at 0x108b2d9c0>"
      ]
     },
     "execution_count": 12,
     "metadata": {},
     "output_type": "execute_result"
    }
   ],
   "source": [
    "zip(L1, L2)"
   ]
  },
  {
   "cell_type": "code",
   "execution_count": null,
   "id": "0990d8ad",
   "metadata": {},
   "outputs": [
    {
     "data": {
      "text/plain": [
       "[(1, 5), (2, 6), (3, 7), (4, 8)]"
      ]
     },
     "execution_count": 13,
     "metadata": {},
     "output_type": "execute_result"
    }
   ],
   "source": [
    "# we need to convert it to list\n",
    "list(zip(L1, L2))"
   ]
  },
  {
   "cell_type": "code",
   "execution_count": null,
   "id": "9509bac9",
   "metadata": {},
   "outputs": [
    {
     "data": {
      "text/plain": [
       "[4, 4, 4, 4]"
      ]
     },
     "execution_count": 16,
     "metadata": {},
     "output_type": "execute_result"
    }
   ],
   "source": [
    "[j-i for i,j in zip(L1, L2)]"
   ]
  },
  {
   "cell_type": "code",
   "execution_count": null,
   "id": "3bea4475",
   "metadata": {},
   "outputs": [
    {
     "data": {
      "text/plain": [
       "[(1, 5, 11), (2, 6, 12), (3, 7, 13)]"
      ]
     },
     "execution_count": 19,
     "metadata": {},
     "output_type": "execute_result"
    }
   ],
   "source": [
    "L1 = [1,2,3,4]\n",
    "L2 = [5,6,7,8]\n",
    "L3 = [11,12,13]\n",
    "\n",
    "list(zip(L1, L2, L3))\n",
    "\n",
    "# NOTE: Its only get mach numbers only"
   ]
  },
  {
   "cell_type": "code",
   "execution_count": null,
   "id": "e9b34474",
   "metadata": {},
   "outputs": [
    {
     "name": "stdout",
     "output_type": "stream",
     "text": [
      "(1, 5)\n",
      "(2, 6)\n",
      "(3, 7)\n",
      "(4, 8)\n"
     ]
    }
   ],
   "source": [
    "# NOTE: This is a iterable object\n",
    "\n",
    "for i in zip(L1, L2):\n",
    "    print(i)"
   ]
  },
  {
   "cell_type": "markdown",
   "id": "f8e6a071",
   "metadata": {},
   "source": [
    "### Exercise:\n",
    "\n",
    "1. Update no of items available"
   ]
  },
  {
   "cell_type": "code",
   "execution_count": null,
   "id": "1355fe7c",
   "metadata": {},
   "outputs": [
    {
     "data": {
      "text/plain": [
       "[('Audi', 10), ('BMW', 20), ('TATA', 30), ('Volvo', 5)]"
      ]
     },
     "execution_count": 21,
     "metadata": {},
     "output_type": "execute_result"
    }
   ],
   "source": [
    "cars_name = ['Audi', 'BMW', 'TATA', 'Volvo']\n",
    "no_of_cars = [10, 20, 30, 5]\n",
    "\n",
    "list(zip(cars_name, no_of_cars))"
   ]
  },
  {
   "cell_type": "code",
   "execution_count": null,
   "id": "0582d7a9",
   "metadata": {},
   "outputs": [
    {
     "name": "stdout",
     "output_type": "stream",
     "text": [
      "Audi = 10 nb of cars\n",
      "BMW = 20 nb of cars\n",
      "TATA = 30 nb of cars\n",
      "Volvo = 5 nb of cars\n"
     ]
    }
   ],
   "source": [
    "for i,j in zip(cars_name, no_of_cars):\n",
    "    print('{} = {} nb of cars'.format(i,j))"
   ]
  },
  {
   "cell_type": "code",
   "execution_count": null,
   "id": "c9b9b08b",
   "metadata": {},
   "outputs": [
    {
     "name": "stdout",
     "output_type": "stream",
     "text": [
      "['Audi = 10', 'BMW = 20', 'TATA = 30', 'Volvo = 5']\n"
     ]
    }
   ],
   "source": [
    "L = [\"{} = {}\".format(i, j) for i, j in zip(cars_name, no_of_cars)]\n",
    "print(L)"
   ]
  },
  {
   "cell_type": "markdown",
   "id": "e419f7e0",
   "metadata": {},
   "source": [
    "2. You are given a list of integer. You are ask to make a list by running through elements of the list by adding all elements greater and itself."
   ]
  },
  {
   "cell_type": "code",
   "execution_count": null,
   "id": "79bdf687",
   "metadata": {},
   "outputs": [],
   "source": [
    "L = [2,4,6,10,1]"
   ]
  },
  {
   "cell_type": "code",
   "execution_count": null,
   "id": "83ec56b4",
   "metadata": {},
   "outputs": [
    {
     "name": "stdout",
     "output_type": "stream",
     "text": [
      "[22, 20, 16, 10, 23]\n"
     ]
    }
   ],
   "source": [
    "sum_lst = []\n",
    "\n",
    "for i in L:\n",
    "    sum = 0\n",
    "    for j in L:\n",
    "        if i <= j:\n",
    "            sum += j\n",
    "    sum_lst.append(sum)\n",
    "print(sum_lst)"
   ]
  },
  {
   "cell_type": "markdown",
   "id": "6f1c1b99",
   "metadata": {},
   "source": [
    "3. Find list of common unique items from two list and show in increasing order."
   ]
  },
  {
   "cell_type": "code",
   "execution_count": null,
   "id": "405c76e1",
   "metadata": {},
   "outputs": [
    {
     "name": "stdout",
     "output_type": "stream",
     "text": [
      "[23, 39, 45, 55, 56, 78]\n"
     ]
    }
   ],
   "source": [
    "num1 = [23,45,67,78,89,34,67]\n",
    "num2 = [34,89,55,56,39,67,67]\n",
    "\n",
    "# NOTE: need to find unique number and sort this list\n",
    "\n",
    "L = []\n",
    "\n",
    "num1.extend(num2)\n",
    "\n",
    "for i in num1:\n",
    "    count = 0\n",
    "    for j in num1:\n",
    "        if i == j:\n",
    "            count+=1\n",
    "    if count <= 1:\n",
    "        L.append(i)\n",
    "L.sort()\n",
    "print(L)"
   ]
  },
  {
   "cell_type": "code",
   "execution_count": null,
   "id": "6fa5a8ce",
   "metadata": {},
   "outputs": [
    {
     "name": "stdout",
     "output_type": "stream",
     "text": [
      "[34, 67, 89]\n"
     ]
    }
   ],
   "source": [
    "# NOTE: need to find common number and sort this list\n",
    "\n",
    "num1 = [23,45,67,78,89,34,67]\n",
    "num2 = [34,89,55,56,39,67,67]\n",
    "\n",
    "L = []\n",
    "\n",
    "for i in num1:\n",
    "    if i in num2:\n",
    "        if i not in L:\n",
    "            L.append(i)\n",
    "L.sort()\n",
    "print(L)"
   ]
  },
  {
   "cell_type": "markdown",
   "id": "1f2f4509",
   "metadata": {},
   "source": [
    "### Tuples in pythons "
   ]
  },
  {
   "cell_type": "markdown",
   "id": "d7a11181",
   "metadata": {},
   "source": [
    "A tuple in Python is similar to the list. The different between two is that we can not change the elements of a tuple ones it is assigned where as we can change the elements of a tuple\n",
    "\n",
    "In short, a tuple is an immutable list. A tuple can not be changed in anyway once it is created.\n",
    "\n",
    "Characterstics\n",
    "\n",
    "- Ordered\n",
    "- Unchangeble\n",
    "- Allows duplicate\n",
    "\n",
    "### Topics to be discussed\n",
    "\n",
    "- Creating a Tuple\n",
    "- Accessing Item\n",
    "- Editing Item\n",
    "- Adding Item\n",
    "- Deleting Item\n",
    "- Operations on Tuple\n",
    "- Tuple Function"
   ]
  },
  {
   "cell_type": "markdown",
   "id": "2a0b298a",
   "metadata": {},
   "source": [
    "1. Creating a Tuple"
   ]
  },
  {
   "cell_type": "code",
   "execution_count": null,
   "id": "d5f4f4ed",
   "metadata": {},
   "outputs": [
    {
     "name": "stdout",
     "output_type": "stream",
     "text": [
      "()\n",
      "<class 'tuple'>\n"
     ]
    }
   ],
   "source": [
    "# empty tuple\n",
    "t1 = ()\n",
    "\n",
    "print(t1)\n",
    "print(type(t1))"
   ]
  },
  {
   "cell_type": "markdown",
   "id": "bc79fdff",
   "metadata": {},
   "source": [
    "Creating tuple with a single item\n",
    "- When we creating a single item in tuple we need to put , end of the tuple then its data type will tuple But we not put , then tuple data type change we entered item data type"
   ]
  },
  {
   "cell_type": "code",
   "execution_count": null,
   "id": "8e809b2f",
   "metadata": {},
   "outputs": [
    {
     "name": "stdout",
     "output_type": "stream",
     "text": [
      "hello\n",
      "<class 'str'>\n"
     ]
    }
   ],
   "source": [
    "t2 = (\"hello\")\n",
    "print(t2)\n",
    "print(type(t2))"
   ]
  },
  {
   "cell_type": "code",
   "execution_count": null,
   "id": "529feadb",
   "metadata": {},
   "outputs": [
    {
     "name": "stdout",
     "output_type": "stream",
     "text": [
      "('hello',)\n",
      "<class 'tuple'>\n"
     ]
    }
   ],
   "source": [
    "t2 = (\"hello\",)\n",
    "print(t2)\n",
    "print(type(t2))"
   ]
  },
  {
   "cell_type": "code",
   "execution_count": null,
   "id": "bbf29b53",
   "metadata": {},
   "outputs": [
    {
     "name": "stdout",
     "output_type": "stream",
     "text": [
      "(1, 2, 3, 4, 5) \n",
      " (1, 2, 3, True, [4, 5, 6]) \n",
      " (1, 2, 3, 4, (6, 7, 8)) \n",
      " ('h', 'e', 'l', 'l', 'o')\n"
     ]
    }
   ],
   "source": [
    "# homo\n",
    "t3 = (1,2,3,4,5)\n",
    "\n",
    "# het\n",
    "t4 = (1,2,3, True, [4,5,6])\n",
    "\n",
    "# nested tuple\n",
    "t5 = (1,2,3,4, (6,7,8))\n",
    "\n",
    "# suing type conversion\n",
    "t6 = tuple(\"hello\")\n",
    "\n",
    "print(t3,'\\n', t4,'\\n', t5,'\\n', t6)"
   ]
  },
  {
   "cell_type": "markdown",
   "id": "63a214ca",
   "metadata": {},
   "source": [
    "2. Accessing Items"
   ]
  },
  {
   "cell_type": "code",
   "execution_count": null,
   "id": "d817498f",
   "metadata": {},
   "outputs": [],
   "source": [
    "t = (1,2,3,4)"
   ]
  },
  {
   "cell_type": "code",
   "execution_count": null,
   "id": "58b61247",
   "metadata": {},
   "outputs": [
    {
     "data": {
      "text/plain": [
       "1"
      ]
     },
     "execution_count": 37,
     "metadata": {},
     "output_type": "execute_result"
    }
   ],
   "source": [
    "t[0]"
   ]
  },
  {
   "cell_type": "code",
   "execution_count": null,
   "id": "0d7bdded",
   "metadata": {},
   "outputs": [
    {
     "data": {
      "text/plain": [
       "4"
      ]
     },
     "execution_count": 38,
     "metadata": {},
     "output_type": "execute_result"
    }
   ],
   "source": [
    "t[-1]"
   ]
  },
  {
   "cell_type": "code",
   "execution_count": null,
   "id": "e03a2722",
   "metadata": {},
   "outputs": [
    {
     "data": {
      "text/plain": [
       "(2, 3)"
      ]
     },
     "execution_count": 39,
     "metadata": {},
     "output_type": "execute_result"
    }
   ],
   "source": [
    "t[1:3]"
   ]
  },
  {
   "cell_type": "markdown",
   "id": "cfca066a",
   "metadata": {},
   "source": [
    "3. Editing Items and Deleting Items"
   ]
  },
  {
   "cell_type": "code",
   "execution_count": null,
   "id": "43aa6b0e",
   "metadata": {},
   "outputs": [],
   "source": [
    "# can not edit tuple"
   ]
  },
  {
   "cell_type": "markdown",
   "id": "c3ce7377",
   "metadata": {},
   "source": [
    "4. Type Casting"
   ]
  },
  {
   "cell_type": "code",
   "execution_count": null,
   "id": "4551bc08",
   "metadata": {},
   "outputs": [],
   "source": [
    "t = (1,2,3,4)\n",
    "t1 = list(t)"
   ]
  },
  {
   "cell_type": "code",
   "execution_count": null,
   "id": "40cfa6bf",
   "metadata": {},
   "outputs": [
    {
     "name": "stdout",
     "output_type": "stream",
     "text": [
      "[1, 2, 3, 4]\n",
      "<class 'list'>\n"
     ]
    }
   ],
   "source": [
    "print(t1)\n",
    "print(type(t1))"
   ]
  },
  {
   "cell_type": "code",
   "execution_count": null,
   "id": "ff4c25df",
   "metadata": {},
   "outputs": [
    {
     "name": "stdout",
     "output_type": "stream",
     "text": [
      "[1, 2, 3, 4, 200]\n"
     ]
    }
   ],
   "source": [
    "t1.append(200)\n",
    "print(t1)"
   ]
  },
  {
   "cell_type": "code",
   "execution_count": null,
   "id": "ae10fe68",
   "metadata": {},
   "outputs": [
    {
     "name": "stdout",
     "output_type": "stream",
     "text": [
      "(1, 2, 3, 4, 200)\n",
      "<class 'tuple'>\n"
     ]
    }
   ],
   "source": [
    "t2 = tuple(t1)\n",
    "print(t2)\n",
    "print(type(t2))"
   ]
  },
  {
   "cell_type": "markdown",
   "id": "3391c6d7",
   "metadata": {},
   "source": [
    "4. Tuple Operations\n",
    "- Arithmetic\n",
    "- Membership\n",
    "- Loop"
   ]
  },
  {
   "cell_type": "code",
   "execution_count": null,
   "id": "25442eb9",
   "metadata": {},
   "outputs": [
    {
     "name": "stdout",
     "output_type": "stream",
     "text": [
      "(1, 2, 3, 4, 5, 6, 7, 8)\n"
     ]
    }
   ],
   "source": [
    "# Arithmetic operation\n",
    "\n",
    "t1 = (1,2,3,4)\n",
    "t2 = (5,6,7,8)\n",
    "\n",
    "print(t1+t2)"
   ]
  },
  {
   "cell_type": "code",
   "execution_count": null,
   "id": "a6258125",
   "metadata": {},
   "outputs": [
    {
     "data": {
      "text/plain": [
       "(1, 2, 3, 4, 1, 2, 3, 4, 1, 2, 3, 4)"
      ]
     },
     "execution_count": 26,
     "metadata": {},
     "output_type": "execute_result"
    }
   ],
   "source": [
    "t1 * 3"
   ]
  },
  {
   "cell_type": "code",
   "execution_count": null,
   "id": "20c9c1f7",
   "metadata": {},
   "outputs": [
    {
     "data": {
      "text/plain": [
       "True"
      ]
     },
     "execution_count": 27,
     "metadata": {},
     "output_type": "execute_result"
    }
   ],
   "source": [
    "# Membership operation\n",
    "\n",
    "t = (1,2,3,6,7)\n",
    "\n",
    "1 in t"
   ]
  },
  {
   "cell_type": "code",
   "execution_count": null,
   "id": "4c9a2ab8",
   "metadata": {},
   "outputs": [
    {
     "data": {
      "text/plain": [
       "False"
      ]
     },
     "execution_count": 28,
     "metadata": {},
     "output_type": "execute_result"
    }
   ],
   "source": [
    "2 not in t"
   ]
  },
  {
   "cell_type": "code",
   "execution_count": null,
   "id": "cb79895e",
   "metadata": {},
   "outputs": [
    {
     "name": "stdout",
     "output_type": "stream",
     "text": [
      "1\n",
      "2\n",
      "3\n",
      "6\n",
      "7\n"
     ]
    }
   ],
   "source": [
    "# loop\n",
    "\n",
    "for i in t:\n",
    "    print(i)"
   ]
  },
  {
   "cell_type": "markdown",
   "id": "b463e4b3",
   "metadata": {},
   "source": [
    "5. Tuple method / function"
   ]
  },
  {
   "cell_type": "code",
   "execution_count": null,
   "id": "5f906120",
   "metadata": {},
   "outputs": [
    {
     "name": "stdout",
     "output_type": "stream",
     "text": [
      "6\n",
      "1\n",
      "6\n",
      "21\n",
      "[1, 2, 3, 4, 5, 6]\n"
     ]
    }
   ],
   "source": [
    "t = (1,2,3,4,5,6)\n",
    "\n",
    "print(len(t))\n",
    "print(min(t))\n",
    "print(max(t))\n",
    "print(sum(t))\n",
    "print(sorted(t))"
   ]
  },
  {
   "cell_type": "code",
   "execution_count": null,
   "id": "53e52e95",
   "metadata": {},
   "outputs": [
    {
     "data": {
      "text/plain": [
       "1"
      ]
     },
     "execution_count": 31,
     "metadata": {},
     "output_type": "execute_result"
    }
   ],
   "source": [
    "t.count(3)"
   ]
  },
  {
   "cell_type": "code",
   "execution_count": null,
   "id": "7cfb8540",
   "metadata": {},
   "outputs": [
    {
     "data": {
      "text/plain": [
       "1"
      ]
     },
     "execution_count": 32,
     "metadata": {},
     "output_type": "execute_result"
    }
   ],
   "source": [
    "t.index(2)"
   ]
  },
  {
   "cell_type": "markdown",
   "id": "7eff79b6",
   "metadata": {},
   "source": [
    "### Different between Lists and Tuples\n",
    "\n",
    "- Syntax\n",
    "- Mutability\n",
    "- Speed\n",
    "- Memory\n",
    "- Builtin Functionality\n",
    "- Error prone\n",
    "- Usability\n"
   ]
  },
  {
   "cell_type": "code",
   "execution_count": null,
   "id": "f2963721",
   "metadata": {},
   "outputs": [
    {
     "name": "stdout",
     "output_type": "stream",
     "text": [
      "List size 8056\n",
      "Tuple size 8040\n"
     ]
    }
   ],
   "source": [
    "import sys\n",
    "\n",
    "L = list(range(1000))\n",
    "T = tuple(range(1000))\n",
    "\n",
    "print('List size {}'.format(sys.getsizeof(L)))\n",
    "print('Tuple size {}'.format(sys.getsizeof(T)))"
   ]
  },
  {
   "cell_type": "code",
   "execution_count": null,
   "id": "8bbe3e34",
   "metadata": {},
   "outputs": [
    {
     "name": "stdout",
     "output_type": "stream",
     "text": [
      "[1, 2, 3, 4]\n",
      "[1, 2, 3, 4]\n"
     ]
    }
   ],
   "source": [
    "a = [1,2,3]\n",
    "b = a\n",
    "\n",
    "a.append(4)\n",
    "\n",
    "print(a)\n",
    "print(b)    # this change both map one memory location"
   ]
  },
  {
   "cell_type": "code",
   "execution_count": null,
   "id": "6df37956",
   "metadata": {},
   "outputs": [
    {
     "name": "stdout",
     "output_type": "stream",
     "text": [
      "(1, 2, 3, 4)\n",
      "(1, 2, 3)\n"
     ]
    }
   ],
   "source": [
    "a = (1,2,3)\n",
    "b = a\n",
    "\n",
    "a = a + (4,)\n",
    "\n",
    "print(a)\n",
    "print(b)    # Its make a copy"
   ]
  },
  {
   "cell_type": "code",
   "execution_count": null,
   "id": "329962a5",
   "metadata": {},
   "outputs": [],
   "source": [
    "# Usability depend in mutability"
   ]
  },
  {
   "cell_type": "markdown",
   "id": "d93d2c6d",
   "metadata": {},
   "source": [
    "### Tuple Unpacking"
   ]
  },
  {
   "cell_type": "code",
   "execution_count": null,
   "id": "4c894a62",
   "metadata": {},
   "outputs": [
    {
     "name": "stdout",
     "output_type": "stream",
     "text": [
      "1 2 3\n"
     ]
    }
   ],
   "source": [
    "a, b, c = (1, 2, 3)\n",
    "\n",
    "print(a, b, c)"
   ]
  },
  {
   "cell_type": "code",
   "execution_count": null,
   "id": "90aa19ab",
   "metadata": {},
   "outputs": [
    {
     "name": "stdout",
     "output_type": "stream",
     "text": [
      "1 2 3\n"
     ]
    }
   ],
   "source": [
    "a, b, c = [1, 2, 3]\n",
    "\n",
    "print(a, b, c)"
   ]
  },
  {
   "cell_type": "code",
   "execution_count": null,
   "id": "a3c6d357",
   "metadata": {},
   "outputs": [
    {
     "name": "stdout",
     "output_type": "stream",
     "text": [
      "1 2\n",
      "[3, 4, 5, 6]\n"
     ]
    }
   ],
   "source": [
    "a, b, *other = (1, 2, 3, 4, 5, 6)\n",
    "\n",
    "print(a, b)\n",
    "print(other)"
   ]
  },
  {
   "cell_type": "code",
   "execution_count": null,
   "id": "d8ac81b6",
   "metadata": {},
   "outputs": [
    {
     "data": {
      "text/plain": [
       "<zip at 0x105ecb500>"
      ]
     },
     "execution_count": 44,
     "metadata": {},
     "output_type": "execute_result"
    }
   ],
   "source": [
    "t1 = (1,2,3,4,5,6)\n",
    "t2 = (7,8,9,10,11,12)\n",
    "\n",
    "zip(t1, t2)"
   ]
  },
  {
   "cell_type": "code",
   "execution_count": null,
   "id": "9b92a4e2",
   "metadata": {},
   "outputs": [
    {
     "data": {
      "text/plain": [
       "((1, 7), (2, 8), (3, 9), (4, 10), (5, 11), (6, 12))"
      ]
     },
     "execution_count": 45,
     "metadata": {},
     "output_type": "execute_result"
    }
   ],
   "source": [
    "tuple(zip(t1, t2))"
   ]
  },
  {
   "cell_type": "code",
   "execution_count": null,
   "id": "c3c0fc42",
   "metadata": {},
   "outputs": [
    {
     "data": {
      "text/plain": [
       "[(1, 7), (2, 8), (3, 9), (4, 10), (5, 11), (6, 12)]"
      ]
     },
     "execution_count": 46,
     "metadata": {},
     "output_type": "execute_result"
    }
   ],
   "source": [
    "list(zip(t1, t2))"
   ]
  },
  {
   "cell_type": "markdown",
   "id": "669223a7",
   "metadata": {},
   "source": [
    "### Tuple Comprehension\n",
    "\n",
    "- You might have read about list comprehension in Python. However, there is no tuple comprehension in Python. But we will discuss how we can emulate tuple comprehension in Python."
   ]
  },
  {
   "cell_type": "code",
   "execution_count": null,
   "id": "fdba7988",
   "metadata": {},
   "outputs": [
    {
     "name": "stdout",
     "output_type": "stream",
     "text": [
      "[1, 2, 3, 4, 5, 6, 7, 8, 9, 10]\n"
     ]
    }
   ],
   "source": [
    "# Add to 1 to 10 numbers to the list\n",
    "\n",
    "L = []\n",
    "\n",
    "for i in range(1, 11):\n",
    "    L.append(i)\n",
    "print(L)"
   ]
  },
  {
   "cell_type": "code",
   "execution_count": null,
   "id": "3f5b353f",
   "metadata": {},
   "outputs": [
    {
     "name": "stdout",
     "output_type": "stream",
     "text": [
      "[1, 2, 3, 4, 5, 6, 7, 8, 9, 10]\n"
     ]
    }
   ],
   "source": [
    "L = [i for i in range(1, 11)]\n",
    "print(L)"
   ]
  },
  {
   "cell_type": "code",
   "execution_count": null,
   "id": "cad425e4",
   "metadata": {},
   "outputs": [
    {
     "name": "stdout",
     "output_type": "stream",
     "text": [
      "('python', 'php')\n"
     ]
    }
   ],
   "source": [
    "# find a language start with p\n",
    "\n",
    "languages = ['java', 'python', 'php', 'c', 'javascript']\n",
    "\n",
    "TC = tuple((i for i in languages if i.startswith('p')))\n",
    "print(TC)"
   ]
  },
  {
   "cell_type": "code",
   "execution_count": null,
   "id": "afa1e3f1",
   "metadata": {},
   "outputs": [
    {
     "data": {
      "text/plain": [
       "<generator object <genexpr> at 0x105ee20a0>"
      ]
     },
     "execution_count": 50,
     "metadata": {},
     "output_type": "execute_result"
    }
   ],
   "source": [
    "(i for i in languages if i.startswith('p'))"
   ]
  },
  {
   "cell_type": "code",
   "execution_count": null,
   "id": "3ed0ff96",
   "metadata": {},
   "outputs": [
    {
     "data": {
      "text/plain": [
       "(5, 10, 15, 20, 25, 30, 35, 40, 45, 50)"
      ]
     },
     "execution_count": 51,
     "metadata": {},
     "output_type": "execute_result"
    }
   ],
   "source": [
    "# Print all numbers divisible by 5 the range of 1 to 50\n",
    "\n",
    "tuple((i for i in range(1, 51) if i % 5 == 0))"
   ]
  },
  {
   "cell_type": "code",
   "execution_count": null,
   "id": "ddc1d4a8",
   "metadata": {},
   "outputs": [
    {
     "data": {
      "text/plain": [
       "(1, 4, 16, 36, 25)"
      ]
     },
     "execution_count": 52,
     "metadata": {},
     "output_type": "execute_result"
    }
   ],
   "source": [
    "# Add power of sqr\n",
    "\n",
    "T = (1,2,4,6,5)\n",
    "\n",
    "tuple((i**2 for i in T))"
   ]
  },
  {
   "cell_type": "markdown",
   "id": "3c516345",
   "metadata": {},
   "source": [
    "### Sets in Python\n",
    "A set is an unordered collection of items. Every set element is unique (no duplicates) and must be immutable (can not be change).\n",
    "However, a set itself is mutable. We can add or remove items from it.\n",
    "Set also can be used to perform mathematical set operations like union, intersection, symmetric difference, etc\n",
    "\n",
    " #### Characteristic\n",
    " - Unordered\n",
    " - Mutable\n",
    " - No Duplicates \n",
    " - Can't contain mutable data types"
   ]
  },
  {
   "cell_type": "code",
   "execution_count": null,
   "id": "c6658144",
   "metadata": {},
   "outputs": [
    {
     "name": "stdout",
     "output_type": "stream",
     "text": [
      "<class 'dict'>\n"
     ]
    }
   ],
   "source": [
    "s = {}\n",
    "print(type(s))"
   ]
  },
  {
   "cell_type": "code",
   "execution_count": null,
   "id": "428191dd",
   "metadata": {},
   "outputs": [
    {
     "name": "stdout",
     "output_type": "stream",
     "text": [
      "set()\n",
      "<class 'set'>\n"
     ]
    }
   ],
   "source": [
    "s = set()\n",
    "print(s)\n",
    "print(type(s))"
   ]
  },
  {
   "cell_type": "code",
   "execution_count": null,
   "id": "faa8321c",
   "metadata": {},
   "outputs": [
    {
     "name": "stdout",
     "output_type": "stream",
     "text": [
      "{1, 2, 3}\n"
     ]
    }
   ],
   "source": [
    "# 1D\n",
    "\n",
    "s1 = {1, 2, 3}\n",
    "print(s1)"
   ]
  },
  {
   "cell_type": "code",
   "execution_count": null,
   "id": "0ac0a7cb",
   "metadata": {},
   "outputs": [
    {
     "name": "stdout",
     "output_type": "stream",
     "text": [
      "{1, 3, 4, (1, 2, 3)}\n"
     ]
    }
   ],
   "source": [
    "# 2D\n",
    "# sets can be store immutable data only like tuple\n",
    "\n",
    "s2 = {1,3,4,(1,2,3)}\n",
    "\n",
    "print(s2)"
   ]
  },
  {
   "cell_type": "code",
   "execution_count": null,
   "id": "201e34d0",
   "metadata": {},
   "outputs": [
    {
     "name": "stdout",
     "output_type": "stream",
     "text": [
      "{1, 2, 3, 'True', (5, 4)}\n"
     ]
    }
   ],
   "source": [
    "# sets are het\n",
    "\n",
    "s = {1,2,3,'True',(5,4)}\n",
    "print(s)"
   ]
  },
  {
   "cell_type": "code",
   "execution_count": null,
   "id": "748c0ac6",
   "metadata": {},
   "outputs": [
    {
     "name": "stdout",
     "output_type": "stream",
     "text": [
      "{1, 3, 'True', (5, 4)}\n"
     ]
    }
   ],
   "source": [
    "s.remove(2)\n",
    "print(s)"
   ]
  },
  {
   "cell_type": "code",
   "execution_count": null,
   "id": "b424e121",
   "metadata": {},
   "outputs": [
    {
     "name": "stdout",
     "output_type": "stream",
     "text": [
      "<class 'set'>\n",
      "{1, 2, 3, 4, 5}\n"
     ]
    }
   ],
   "source": [
    "# Type conversion\n",
    "\n",
    "s = set({1,2,3,4,5})\n",
    "print(type(s))\n",
    "print(s)"
   ]
  },
  {
   "cell_type": "code",
   "execution_count": null,
   "id": "49d1d8ad",
   "metadata": {},
   "outputs": [
    {
     "name": "stdout",
     "output_type": "stream",
     "text": [
      "{1, 2, 3, 5, 6}\n"
     ]
    }
   ],
   "source": [
    "# duplicate not allow\n",
    "\n",
    "s = {1,2,2,2,3,5,6,6}\n",
    "print(s)"
   ]
  },
  {
   "cell_type": "code",
   "execution_count": null,
   "id": "02709836",
   "metadata": {},
   "outputs": [
    {
     "name": "stdout",
     "output_type": "stream",
     "text": [
      "True\n"
     ]
    }
   ],
   "source": [
    "# This is unordered Its is only see values not a value order\n",
    "\n",
    "s1 = {1,2,3}\n",
    "s2 = {3,2,1}\n",
    "\n",
    "print(s1 == s2)"
   ]
  },
  {
   "cell_type": "code",
   "execution_count": null,
   "id": "aa094368",
   "metadata": {},
   "outputs": [
    {
     "name": "stdout",
     "output_type": "stream",
     "text": [
      "False\n"
     ]
    }
   ],
   "source": [
    "# This is unordered Its is only see values not a value order\n",
    "\n",
    "s1 = {1,2,3}\n",
    "s2 = {3,2,1, 7}\n",
    "\n",
    "print(s1 == s2)"
   ]
  },
  {
   "cell_type": "markdown",
   "id": "00870715",
   "metadata": {},
   "source": [
    "### Accessing Items"
   ]
  },
  {
   "cell_type": "code",
   "execution_count": null,
   "id": "f9cebe50",
   "metadata": {},
   "outputs": [
    {
     "ename": "TypeError",
     "evalue": "'set' object is not subscriptable",
     "output_type": "error",
     "traceback": [
      "\u001b[31m---------------------------------------------------------------------------\u001b[39m",
      "\u001b[31mTypeError\u001b[39m                                 Traceback (most recent call last)",
      "\u001b[36mCell\u001b[39m\u001b[36m \u001b[39m\u001b[32mIn[4]\u001b[39m\u001b[32m, line 3\u001b[39m\n\u001b[32m      1\u001b[39m s = {\u001b[32m1\u001b[39m,\u001b[32m2\u001b[39m,\u001b[32m3\u001b[39m,\u001b[32m4\u001b[39m}\n\u001b[32m----> \u001b[39m\u001b[32m3\u001b[39m \u001b[38;5;28mprint\u001b[39m(\u001b[43ms\u001b[49m\u001b[43m[\u001b[49m\u001b[32;43m0\u001b[39;49m\u001b[43m]\u001b[49m)\n",
      "\u001b[31mTypeError\u001b[39m: 'set' object is not subscriptable"
     ]
    }
   ],
   "source": [
    "s = {1,2,3,4}\n",
    "\n",
    "# this is unordered therefore can not access items\n",
    "print(s[0])"
   ]
  },
  {
   "cell_type": "code",
   "execution_count": null,
   "id": "353d7e05",
   "metadata": {},
   "outputs": [
    {
     "name": "stdout",
     "output_type": "stream",
     "text": [
      "{(1, 2, 3, 4), 1, 'hello'}\n"
     ]
    }
   ],
   "source": [
    "s3 = {1, 'hello', (1,2,3,4), True}\n",
    "print(s3)\n",
    "\n",
    "# This is we can see not a value order we get because this is unordered"
   ]
  },
  {
   "cell_type": "markdown",
   "id": "4f954101",
   "metadata": {},
   "source": [
    "### Editing Items "
   ]
  },
  {
   "cell_type": "code",
   "execution_count": null,
   "id": "21648247",
   "metadata": {},
   "outputs": [
    {
     "ename": "TypeError",
     "evalue": "'set' object does not support item assignment",
     "output_type": "error",
     "traceback": [
      "\u001b[31m---------------------------------------------------------------------------\u001b[39m",
      "\u001b[31mTypeError\u001b[39m                                 Traceback (most recent call last)",
      "\u001b[36mCell\u001b[39m\u001b[36m \u001b[39m\u001b[32mIn[7]\u001b[39m\u001b[32m, line 3\u001b[39m\n\u001b[32m      1\u001b[39m s = {\u001b[32m1\u001b[39m,\u001b[32m2\u001b[39m,\u001b[32m3\u001b[39m,\u001b[32m4\u001b[39m}\n\u001b[32m----> \u001b[39m\u001b[32m3\u001b[39m \u001b[43ms\u001b[49m\u001b[43m[\u001b[49m\u001b[32;43m0\u001b[39;49m\u001b[43m]\u001b[49m = \u001b[32m100\u001b[39m\n",
      "\u001b[31mTypeError\u001b[39m: 'set' object does not support item assignment"
     ]
    }
   ],
   "source": [
    "s = {1,2,3,4}\n",
    "\n",
    "s[0] = 100"
   ]
  },
  {
   "cell_type": "markdown",
   "id": "07ddc7e3",
   "metadata": {},
   "source": [
    "### Adding Items"
   ]
  },
  {
   "cell_type": "code",
   "execution_count": null,
   "id": "cf5497ca",
   "metadata": {},
   "outputs": [
    {
     "name": "stdout",
     "output_type": "stream",
     "text": [
      "{1, 2, 3, 45, 78}\n"
     ]
    }
   ],
   "source": [
    "s = {1,2,3,45}\n",
    "\n",
    "# we can only one item using add\n",
    "\n",
    "s.add(78)\n",
    "print(s)"
   ]
  },
  {
   "cell_type": "code",
   "execution_count": null,
   "id": "a9a04b82",
   "metadata": {},
   "outputs": [
    {
     "name": "stdout",
     "output_type": "stream",
     "text": [
      "{1, 2, 3, 65, 12, 45, 78, 23}\n"
     ]
    }
   ],
   "source": [
    "s.update([12,65,23])\n",
    "print(s)"
   ]
  },
  {
   "cell_type": "markdown",
   "id": "805ccb2d",
   "metadata": {},
   "source": [
    "### Deleting Items"
   ]
  },
  {
   "cell_type": "code",
   "execution_count": null,
   "id": "d36e3344",
   "metadata": {},
   "outputs": [
    {
     "name": "stdout",
     "output_type": "stream",
     "text": [
      "{1, 2, 3, 4, 5, 6}\n"
     ]
    }
   ],
   "source": [
    "s = {1,2,3,4,5,6}\n",
    "print(s)"
   ]
  },
  {
   "cell_type": "code",
   "execution_count": null,
   "id": "90e489d7",
   "metadata": {},
   "outputs": [
    {
     "name": "stdout",
     "output_type": "stream",
     "text": [
      "{1, 2, 3, 4, 6}\n"
     ]
    }
   ],
   "source": [
    "s.discard(5)\n",
    "print(s)"
   ]
  },
  {
   "cell_type": "markdown",
   "id": "f872cbd9",
   "metadata": {},
   "source": [
    "- while use discard if its not have its not get error but remove get error"
   ]
  },
  {
   "cell_type": "code",
   "execution_count": null,
   "id": "b67b2da8",
   "metadata": {},
   "outputs": [
    {
     "name": "stdout",
     "output_type": "stream",
     "text": [
      "{1, 2, 3, 4}\n"
     ]
    }
   ],
   "source": [
    "s.remove(6)\n",
    "print(s)"
   ]
  },
  {
   "cell_type": "code",
   "execution_count": null,
   "id": "59229ef6",
   "metadata": {},
   "outputs": [
    {
     "ename": "KeyError",
     "evalue": "6",
     "output_type": "error",
     "traceback": [
      "\u001b[31m---------------------------------------------------------------------------\u001b[39m",
      "\u001b[31mKeyError\u001b[39m                                  Traceback (most recent call last)",
      "\u001b[36mCell\u001b[39m\u001b[36m \u001b[39m\u001b[32mIn[14]\u001b[39m\u001b[32m, line 1\u001b[39m\n\u001b[32m----> \u001b[39m\u001b[32m1\u001b[39m \u001b[43ms\u001b[49m\u001b[43m.\u001b[49m\u001b[43mremove\u001b[49m\u001b[43m(\u001b[49m\u001b[32;43m6\u001b[39;49m\u001b[43m)\u001b[49m\n",
      "\u001b[31mKeyError\u001b[39m: 6"
     ]
    }
   ],
   "source": [
    "s.remove(6)"
   ]
  },
  {
   "cell_type": "code",
   "execution_count": null,
   "id": "ced97712",
   "metadata": {},
   "outputs": [
    {
     "name": "stdout",
     "output_type": "stream",
     "text": [
      "{2, 3, 4}\n"
     ]
    }
   ],
   "source": [
    "# pop remove item randomly\n",
    "\n",
    "s.pop()\n",
    "print(s)"
   ]
  },
  {
   "cell_type": "code",
   "execution_count": null,
   "id": "9e331f03",
   "metadata": {},
   "outputs": [
    {
     "name": "stdout",
     "output_type": "stream",
     "text": [
      "set()\n"
     ]
    }
   ],
   "source": [
    "# clear all the values set\n",
    "\n",
    "s.clear()\n",
    "print(s)"
   ]
  },
  {
   "cell_type": "markdown",
   "id": "9dc45c5c",
   "metadata": {},
   "source": [
    "### Sets Operations"
   ]
  },
  {
   "cell_type": "code",
   "execution_count": null,
   "id": "bd876ee9",
   "metadata": {},
   "outputs": [],
   "source": [
    "s1 = {1,2,3,4}\n",
    "s2 = {2,3,9,3,8}"
   ]
  },
  {
   "cell_type": "code",
   "execution_count": null,
   "id": "17297471",
   "metadata": {},
   "outputs": [
    {
     "data": {
      "text/plain": [
       "{1, 2, 3, 4, 8, 9}"
      ]
     },
     "execution_count": 6,
     "metadata": {},
     "output_type": "execute_result"
    }
   ],
   "source": [
    "# sets Union\n",
    "s1 | s2"
   ]
  },
  {
   "cell_type": "code",
   "execution_count": null,
   "id": "362c6d48",
   "metadata": {},
   "outputs": [
    {
     "data": {
      "text/plain": [
       "{2, 3}"
      ]
     },
     "execution_count": 7,
     "metadata": {},
     "output_type": "execute_result"
    }
   ],
   "source": [
    "# Intersection (&)\n",
    "\n",
    "s1 & s2 # give duplicates items"
   ]
  },
  {
   "cell_type": "code",
   "execution_count": null,
   "id": "ba7408e3",
   "metadata": {},
   "outputs": [
    {
     "data": {
      "text/plain": [
       "{1, 4}"
      ]
     },
     "execution_count": 9,
     "metadata": {},
     "output_type": "execute_result"
    }
   ],
   "source": [
    "# Difference operations\n",
    "\n",
    "s1 - s2 # give unique one first"
   ]
  },
  {
   "cell_type": "code",
   "execution_count": null,
   "id": "615602a9",
   "metadata": {},
   "outputs": [
    {
     "data": {
      "text/plain": [
       "{8, 9}"
      ]
     },
     "execution_count": 11,
     "metadata": {},
     "output_type": "execute_result"
    }
   ],
   "source": [
    "s2 - s1"
   ]
  },
  {
   "cell_type": "code",
   "execution_count": null,
   "id": "dc66f27c",
   "metadata": {},
   "outputs": [
    {
     "data": {
      "text/plain": [
       "{1, 4, 8, 9}"
      ]
     },
     "execution_count": 12,
     "metadata": {},
     "output_type": "execute_result"
    }
   ],
   "source": [
    "# Symmetric Deference (^)\n",
    "\n",
    "s1 ^ s2"
   ]
  },
  {
   "cell_type": "code",
   "execution_count": null,
   "id": "cea9df47",
   "metadata": {},
   "outputs": [
    {
     "data": {
      "text/plain": [
       "True"
      ]
     },
     "execution_count": 13,
     "metadata": {},
     "output_type": "execute_result"
    }
   ],
   "source": [
    "# Membership operation\n",
    "\n",
    "s = {1,2,3,4}\n",
    "\n",
    "1 in s"
   ]
  },
  {
   "cell_type": "code",
   "execution_count": null,
   "id": "101998ca",
   "metadata": {},
   "outputs": [
    {
     "name": "stdout",
     "output_type": "stream",
     "text": [
      "1\n",
      "2\n",
      "3\n",
      "4\n"
     ]
    }
   ],
   "source": [
    "# iterations in sets\n",
    "\n",
    "for i in s:\n",
    "    print(i)"
   ]
  },
  {
   "cell_type": "markdown",
   "id": "ba2074db",
   "metadata": {},
   "source": [
    "### Sets Methods/Function\n",
    "\n",
    "- len()\n",
    "- sum()\n",
    "- min()\n",
    "- max()\n",
    "- sorted()"
   ]
  },
  {
   "cell_type": "code",
   "execution_count": null,
   "id": "f8c6bcc9",
   "metadata": {},
   "outputs": [
    {
     "name": "stdout",
     "output_type": "stream",
     "text": [
      "5\n",
      "15\n",
      "1\n",
      "5\n",
      "[5, 4, 3, 2, 1]\n"
     ]
    }
   ],
   "source": [
    "s = {1,2,3,4,5}\n",
    "\n",
    "print(len(s))\n",
    "print(sum(s))\n",
    "print(min(s))\n",
    "print(max(s))\n",
    "print(sorted(s, reverse=True))"
   ]
  },
  {
   "cell_type": "markdown",
   "id": "fcf9cc6f",
   "metadata": {},
   "source": [
    "- Union and Update"
   ]
  },
  {
   "cell_type": "code",
   "execution_count": null,
   "id": "c5251908",
   "metadata": {},
   "outputs": [
    {
     "data": {
      "text/plain": [
       "{1, 2, 3, 4, 5, 6, 8}"
      ]
     },
     "execution_count": 2,
     "metadata": {},
     "output_type": "execute_result"
    }
   ],
   "source": [
    "s1 = {1,2,3,4,5}\n",
    "s2 = {6, 8,2,1,4}\n",
    "\n",
    "# s1 | s2\n",
    "s1.union(s2)"
   ]
  },
  {
   "cell_type": "code",
   "execution_count": null,
   "id": "b9f1ce57",
   "metadata": {},
   "outputs": [
    {
     "data": {
      "text/plain": [
       "{1, 2, 3, 4, 5, 6, 8}"
      ]
     },
     "execution_count": 3,
     "metadata": {},
     "output_type": "execute_result"
    }
   ],
   "source": [
    "s1 | s2"
   ]
  },
  {
   "cell_type": "code",
   "execution_count": null,
   "id": "246bc512",
   "metadata": {},
   "outputs": [
    {
     "name": "stdout",
     "output_type": "stream",
     "text": [
      "{1, 2, 3, 4, 5, 6, 8}\n",
      "{1, 2, 4, 6, 8}\n"
     ]
    }
   ],
   "source": [
    "s1.update(s2)\n",
    "\n",
    "print(s1)\n",
    "print(s2)"
   ]
  },
  {
   "cell_type": "code",
   "execution_count": null,
   "id": "f49c0649",
   "metadata": {},
   "outputs": [
    {
     "data": {
      "text/plain": [
       "{3, 4}"
      ]
     },
     "execution_count": 15,
     "metadata": {},
     "output_type": "execute_result"
    }
   ],
   "source": [
    "# Intersection / Intersection_update\n",
    "\n",
    "s1 = {1,2,3,4}\n",
    "s2 = {3,4,5,6}\n",
    "\n",
    "s1.intersection(s2)"
   ]
  },
  {
   "cell_type": "code",
   "execution_count": null,
   "id": "51edec58",
   "metadata": {},
   "outputs": [
    {
     "name": "stdout",
     "output_type": "stream",
     "text": [
      "{3, 4}\n"
     ]
    }
   ],
   "source": [
    "s1.intersection_update(s2)\n",
    "\n",
    "print(s1)"
   ]
  },
  {
   "cell_type": "code",
   "execution_count": null,
   "id": "3ee5be0d",
   "metadata": {},
   "outputs": [
    {
     "data": {
      "text/plain": [
       "{1, 2}"
      ]
     },
     "execution_count": 17,
     "metadata": {},
     "output_type": "execute_result"
    }
   ],
   "source": [
    "# difference and difference_update\n",
    "\n",
    "s1 = {1,2,3,4}\n",
    "s2 = {3,4,5,6}\n",
    "\n",
    "s1.difference(s2)"
   ]
  },
  {
   "cell_type": "code",
   "execution_count": null,
   "id": "fc539bb9",
   "metadata": {},
   "outputs": [
    {
     "name": "stdout",
     "output_type": "stream",
     "text": [
      "{1, 2}\n"
     ]
    }
   ],
   "source": [
    "s1.difference_update(s2)\n",
    "\n",
    "print(s1)"
   ]
  },
  {
   "cell_type": "code",
   "execution_count": null,
   "id": "1b29134e",
   "metadata": {},
   "outputs": [],
   "source": [
    "s1 = {1,2,43,5,6,9}\n",
    "s2 = {2,1,7,4,3}"
   ]
  },
  {
   "cell_type": "code",
   "execution_count": null,
   "id": "5530701f",
   "metadata": {},
   "outputs": [
    {
     "data": {
      "text/plain": [
       "{3, 4, 5, 6, 7, 9, 43}"
      ]
     },
     "execution_count": 21,
     "metadata": {},
     "output_type": "execute_result"
    }
   ],
   "source": [
    "s1.symmetric_difference(s2)"
   ]
  },
  {
   "cell_type": "code",
   "execution_count": null,
   "id": "f49e0e86",
   "metadata": {},
   "outputs": [
    {
     "name": "stdout",
     "output_type": "stream",
     "text": [
      "{4, 5, 6, 3, 7, 9, 43}\n",
      "{1, 2, 3, 4, 7}\n"
     ]
    }
   ],
   "source": [
    "s1.symmetric_difference_update(s2)\n",
    "print(s1)\n",
    "print(s2)"
   ]
  },
  {
   "cell_type": "code",
   "execution_count": null,
   "id": "b88251c2",
   "metadata": {},
   "outputs": [
    {
     "data": {
      "text/plain": [
       "True"
      ]
     },
     "execution_count": 26,
     "metadata": {},
     "output_type": "execute_result"
    }
   ],
   "source": [
    "s1 = {1,2,3,4,5}\n",
    "s2 = {6,7,8,9}\n",
    "\n",
    "s1.isdisjoint(s2)   # is have not unique values its give false its have difference unique value its give true"
   ]
  },
  {
   "cell_type": "code",
   "execution_count": null,
   "id": "d369eb33",
   "metadata": {},
   "outputs": [
    {
     "data": {
      "text/plain": [
       "False"
      ]
     },
     "execution_count": 27,
     "metadata": {},
     "output_type": "execute_result"
    }
   ],
   "source": [
    "s1 = {1,2,3,4,5}\n",
    "s2 = {6,7,8,9,2}\n",
    "\n",
    "s1.isdisjoint(s2)"
   ]
  },
  {
   "cell_type": "code",
   "execution_count": null,
   "id": "8381b3d3",
   "metadata": {},
   "outputs": [
    {
     "data": {
      "text/plain": [
       "True"
      ]
     },
     "execution_count": 29,
     "metadata": {},
     "output_type": "execute_result"
    }
   ],
   "source": [
    "s1 = {1,2,3,4,5,6}\n",
    "s2 = {1,2,3}\n",
    "\n",
    "s2.issubset(s1)"
   ]
  },
  {
   "cell_type": "code",
   "execution_count": null,
   "id": "8f702e2f",
   "metadata": {},
   "outputs": [
    {
     "data": {
      "text/plain": [
       "True"
      ]
     },
     "execution_count": 30,
     "metadata": {},
     "output_type": "execute_result"
    }
   ],
   "source": [
    "s1.issuperset(s2)"
   ]
  },
  {
   "cell_type": "code",
   "execution_count": null,
   "id": "848c30bf",
   "metadata": {},
   "outputs": [
    {
     "name": "stdout",
     "output_type": "stream",
     "text": [
      "{1, 2, 3, 4, 5, 6}\n"
     ]
    }
   ],
   "source": [
    "s3 = s1.copy()\n",
    "\n",
    "print(s3)"
   ]
  },
  {
   "cell_type": "markdown",
   "id": "ee6a25a7",
   "metadata": {},
   "source": [
    "### Frozenset\n",
    "\n",
    "Frozenset is just and immutable version of a Python set Object"
   ]
  },
  {
   "cell_type": "code",
   "execution_count": null,
   "id": "d7882957",
   "metadata": {},
   "outputs": [
    {
     "name": "stdout",
     "output_type": "stream",
     "text": [
      "frozenset({1, 2, 3, 4, 5})\n",
      "<class 'frozenset'>\n"
     ]
    }
   ],
   "source": [
    "fs1 = frozenset([1,2,3,4,5])\n",
    "\n",
    "print(fs1)\n",
    "print(type(fs1))"
   ]
  },
  {
   "cell_type": "code",
   "execution_count": null,
   "id": "e45f638a",
   "metadata": {},
   "outputs": [
    {
     "name": "stdout",
     "output_type": "stream",
     "text": [
      "frozenset({1, 2, 3, 4, 5})\n",
      "frozenset({8, 9, 6, 7})\n"
     ]
    }
   ],
   "source": [
    "fs1 = frozenset([1,2,3,4,5])\n",
    "fs2 = frozenset([6,7,8,9])\n",
    "\n",
    "print(fs1)\n",
    "print(fs2)"
   ]
  },
  {
   "cell_type": "code",
   "execution_count": null,
   "id": "85b33c10",
   "metadata": {},
   "outputs": [
    {
     "data": {
      "text/plain": [
       "frozenset({1, 2, 3, 4, 5, 6, 7, 8, 9})"
      ]
     },
     "execution_count": 4,
     "metadata": {},
     "output_type": "execute_result"
    }
   ],
   "source": [
    "fs1.union(fs2)"
   ]
  },
  {
   "cell_type": "code",
   "execution_count": null,
   "id": "26943781",
   "metadata": {},
   "outputs": [
    {
     "data": {
      "text/plain": [
       "frozenset()"
      ]
     },
     "execution_count": 5,
     "metadata": {},
     "output_type": "execute_result"
    }
   ],
   "source": [
    "fs1 & fs2"
   ]
  },
  {
   "cell_type": "code",
   "execution_count": null,
   "id": "cd3ac19f",
   "metadata": {},
   "outputs": [
    {
     "name": "stdout",
     "output_type": "stream",
     "text": [
      "frozenset({frozenset({3, 4}), 1, 2})\n"
     ]
    }
   ],
   "source": [
    "# 2D\n",
    "\n",
    "fs = frozenset([1,2,frozenset([3,4])])\n",
    "print(fs)"
   ]
  },
  {
   "cell_type": "markdown",
   "id": "8792ef0d",
   "metadata": {},
   "source": [
    "### Sets Comprehension "
   ]
  },
  {
   "cell_type": "code",
   "execution_count": null,
   "id": "3f6f310a",
   "metadata": {},
   "outputs": [
    {
     "name": "stdout",
     "output_type": "stream",
     "text": [
      "{1, 2, 3, 4, 5, 6, 7, 8, 9, 10}\n"
     ]
    }
   ],
   "source": [
    "sc = {i for i in range(1,11)}\n",
    "print(sc)"
   ]
  },
  {
   "cell_type": "code",
   "execution_count": null,
   "id": "6c49669d",
   "metadata": {},
   "outputs": [
    {
     "name": "stdout",
     "output_type": "stream",
     "text": [
      "{2, 4, 6, 8, 10}\n"
     ]
    }
   ],
   "source": [
    "sc = {i for i in range (1,11) if i%2==0}\n",
    "print(sc)"
   ]
  },
  {
   "cell_type": "markdown",
   "id": "e016197a",
   "metadata": {},
   "source": [
    "### Dictionary in Python\n",
    "\n",
    "Dictionary in python is a collection of key values, used to store data values like a map, which, unlike other data types which hold only a single value as an element. In some language it is known as map or assosiative arrays.\n",
    "\n",
    "dic = {'name': \"John\", \"age\":20, \"gender\":\"male\"}\n",
    "\n",
    "### Characterstics \n",
    "\n",
    "- Mutable\n",
    "- Indexing has no meaning\n",
    "- Key can't be duplicate \n",
    "- Key can't be mutable items"
   ]
  },
  {
   "cell_type": "code",
   "execution_count": null,
   "id": "703ea69e",
   "metadata": {},
   "outputs": [
    {
     "name": "stdout",
     "output_type": "stream",
     "text": [
      "{}\n",
      "<class 'dict'>\n"
     ]
    }
   ],
   "source": [
    "# empty dictionary\n",
    "\n",
    "d = {}\n",
    "\n",
    "print(d)\n",
    "print(type(d))"
   ]
  },
  {
   "cell_type": "code",
   "execution_count": null,
   "id": "3bbcff76",
   "metadata": {},
   "outputs": [
    {
     "name": "stdout",
     "output_type": "stream",
     "text": [
      "{'name': 'John', 'age': 23, 'gender': 'male'}\n"
     ]
    }
   ],
   "source": [
    "# 1D dictionary\n",
    "\n",
    "d1 = {\"name\": \"John\", \"age\": 23, \"gender\": \"male\"}\n",
    "\n",
    "print(d1)\n"
   ]
  },
  {
   "cell_type": "code",
   "execution_count": null,
   "id": "dd67a412",
   "metadata": {},
   "outputs": [
    {
     "name": "stdout",
     "output_type": "stream",
     "text": [
      "{(1, 2, 3): 33, 'name': 'John'}\n"
     ]
    }
   ],
   "source": [
    "# Mixed Key dictionary\n",
    "\n",
    "d2 = {(1,2,3): 33, \"name\": \"John\"}\n",
    "\n",
    "print(d2)   # tuple is immutable therefore we can define it like a key"
   ]
  },
  {
   "cell_type": "code",
   "execution_count": null,
   "id": "f973b743",
   "metadata": {},
   "outputs": [
    {
     "name": "stdout",
     "output_type": "stream",
     "text": [
      "{'name': 'john', 'age': 23, 'gender': 'male', 'subject': {'DSA': 80, 'Math': 30, 'English': 10}}\n"
     ]
    }
   ],
   "source": [
    "# 2D dictionary\n",
    "\n",
    "d3 = {\n",
    "    \"name\":\"john\",\n",
    "    \"age\": 23,\n",
    "    \"gender\":\"male\",\n",
    "    \"subject\":{\n",
    "        \"DSA\": 80,\n",
    "        \"Math\": 30,\n",
    "        \"English\": 10\n",
    "    }\n",
    "}\n",
    "\n",
    "print(d3)"
   ]
  },
  {
   "cell_type": "code",
   "execution_count": null,
   "id": "9f43547c",
   "metadata": {},
   "outputs": [
    {
     "name": "stdout",
     "output_type": "stream",
     "text": [
      "{'name': 'John', 'age': 23}\n"
     ]
    }
   ],
   "source": [
    "# using sequence and dict function\n",
    "\n",
    "d = dict([(\"name\", \"John\"), (\"age\", 23)])\n",
    "\n",
    "print(d)"
   ]
  },
  {
   "cell_type": "code",
   "execution_count": null,
   "id": "dfb56953",
   "metadata": {},
   "outputs": [
    {
     "name": "stdout",
     "output_type": "stream",
     "text": [
      "{'name': 'Alex', 'age': 23, 'gender': 'male'}\n"
     ]
    }
   ],
   "source": [
    "# duplicate keys\n",
    "\n",
    "d = {'name': 'john', 'age': 23, 'name':'Alex', 'gender':'male'}\n",
    "\n",
    "print(d)    # get latest one in duplicates"
   ]
  },
  {
   "cell_type": "code",
   "execution_count": null,
   "id": "5c52e5b2",
   "metadata": {},
   "outputs": [
    {
     "ename": "TypeError",
     "evalue": "unhashable type: 'list'",
     "output_type": "error",
     "traceback": [
      "\u001b[31m---------------------------------------------------------------------------\u001b[39m",
      "\u001b[31mTypeError\u001b[39m                                 Traceback (most recent call last)",
      "\u001b[36mCell\u001b[39m\u001b[36m \u001b[39m\u001b[32mIn[11]\u001b[39m\u001b[32m, line 3\u001b[39m\n\u001b[32m      1\u001b[39m \u001b[38;5;66;03m# mutable items as a key\u001b[39;00m\n\u001b[32m----> \u001b[39m\u001b[32m3\u001b[39m d = {[\u001b[32m1\u001b[39m,\u001b[32m2\u001b[39m,\u001b[32m3\u001b[39m]: \u001b[32m23\u001b[39m, \u001b[33m'\u001b[39m\u001b[33mname\u001b[39m\u001b[33m'\u001b[39m: \u001b[33m'\u001b[39m\u001b[33mJohn\u001b[39m\u001b[33m'\u001b[39m, \u001b[33m'\u001b[39m\u001b[33mage\u001b[39m\u001b[33m'\u001b[39m: \u001b[32m23\u001b[39m}\n\u001b[32m      5\u001b[39m \u001b[38;5;28mprint\u001b[39m(d)\n",
      "\u001b[31mTypeError\u001b[39m: unhashable type: 'list'"
     ]
    }
   ],
   "source": [
    "# mutable items as a key\n",
    "\n",
    "d = {[1,2,3]: 23, 'name': 'John', 'age': 23}\n",
    "\n",
    "print(d)"
   ]
  },
  {
   "cell_type": "markdown",
   "id": "ce18dca7",
   "metadata": {},
   "source": [
    "### Accessing Items In dictionay"
   ]
  },
  {
   "cell_type": "code",
   "execution_count": null,
   "id": "481510dc",
   "metadata": {},
   "outputs": [],
   "source": [
    "d = dict([(\"name\", \"John\"), (\"age\", 23)])\n",
    "\n",
    "# can not access this one"
   ]
  },
  {
   "cell_type": "code",
   "execution_count": null,
   "id": "4f9d29cc",
   "metadata": {},
   "outputs": [
    {
     "data": {
      "text/plain": [
       "'John'"
      ]
     },
     "execution_count": 3,
     "metadata": {},
     "output_type": "execute_result"
    }
   ],
   "source": [
    "# we can access using key\n",
    "d[\"name\"]"
   ]
  },
  {
   "cell_type": "code",
   "execution_count": null,
   "id": "3b4c90a6",
   "metadata": {},
   "outputs": [],
   "source": [
    "# python always key sensitive therefore we need to give same input key"
   ]
  },
  {
   "cell_type": "code",
   "execution_count": null,
   "id": "dab1587f",
   "metadata": {},
   "outputs": [],
   "source": [
    "d3 = {\n",
    "    \"name\":\"john\",\n",
    "    \"age\": 23,\n",
    "    \"gender\":\"male\",\n",
    "    \"subject\":{\n",
    "        \"DSA\": 80,\n",
    "        \"Math\": 30,\n",
    "        \"English\": 10\n",
    "    }\n",
    "}"
   ]
  },
  {
   "cell_type": "code",
   "execution_count": null,
   "id": "d9bb98d0",
   "metadata": {},
   "outputs": [
    {
     "name": "stdout",
     "output_type": "stream",
     "text": [
      "male\n"
     ]
    }
   ],
   "source": [
    "print(d3['gender'])"
   ]
  },
  {
   "cell_type": "code",
   "execution_count": null,
   "id": "e845dcf3",
   "metadata": {},
   "outputs": [
    {
     "data": {
      "text/plain": [
       "80"
      ]
     },
     "execution_count": 8,
     "metadata": {},
     "output_type": "execute_result"
    }
   ],
   "source": [
    "d3[\"subject\"][\"DSA\"]    # we can access child"
   ]
  },
  {
   "cell_type": "markdown",
   "id": "772250ba",
   "metadata": {},
   "source": [
    "### Adding Key Value Pair"
   ]
  },
  {
   "cell_type": "code",
   "execution_count": null,
   "id": "dc996d0d",
   "metadata": {},
   "outputs": [],
   "source": [
    "d1 = {'name': 'john', 'age':21, 'gender': 'male'}"
   ]
  },
  {
   "cell_type": "code",
   "execution_count": null,
   "id": "22a04684",
   "metadata": {},
   "outputs": [
    {
     "name": "stdout",
     "output_type": "stream",
     "text": [
      "{'name': 'john', 'age': 21, 'gender': 'male', 'weight': 80}\n"
     ]
    }
   ],
   "source": [
    "d1[\"weight\"] = 80\n",
    "\n",
    "print(d1)"
   ]
  },
  {
   "cell_type": "code",
   "execution_count": null,
   "id": "0ce98201",
   "metadata": {},
   "outputs": [
    {
     "name": "stdout",
     "output_type": "stream",
     "text": [
      "{'name': 'john', 'age': 21, 'gender': 'male', 'weight': 80, 'subject': {'python': 20, 'DSA': 20}}\n"
     ]
    }
   ],
   "source": [
    "d1[\"subject\"] = {\"python\":20, \"DSA\": 20}\n",
    "print(d1)"
   ]
  },
  {
   "cell_type": "markdown",
   "id": "c63d6b42",
   "metadata": {},
   "source": [
    "### Edit Existing key-value pair\n",
    "\n",
    "- we can not edit key we can only can change values only"
   ]
  },
  {
   "cell_type": "code",
   "execution_count": null,
   "id": "ed88b9cd",
   "metadata": {},
   "outputs": [
    {
     "name": "stdout",
     "output_type": "stream",
     "text": [
      "{'name': 'Alex', 'age': 21, 'gender': 'male', 'weight': 80, 'subject': {'python': 20, 'DSA': 20}}\n"
     ]
    }
   ],
   "source": [
    "d1[\"name\"] = \"Alex\"\n",
    "print(d1)"
   ]
  },
  {
   "cell_type": "markdown",
   "id": "a67d38b2",
   "metadata": {},
   "source": [
    "### Remove Key-Value Pair\n",
    "\n",
    "- pop\n",
    "- popitem"
   ]
  },
  {
   "cell_type": "code",
   "execution_count": null,
   "id": "545bb602",
   "metadata": {},
   "outputs": [
    {
     "name": "stdout",
     "output_type": "stream",
     "text": [
      "{'name': 'Alex', 'gender': 'male', 'weight': 80, 'subject': {'python': 20, 'DSA': 20}}\n"
     ]
    }
   ],
   "source": [
    "d1.pop(\"age\")\n",
    "print(d1)   # You need to give key"
   ]
  },
  {
   "cell_type": "code",
   "execution_count": null,
   "id": "0190d596",
   "metadata": {},
   "outputs": [
    {
     "name": "stdout",
     "output_type": "stream",
     "text": [
      "{'name': 'john', 'age': 23}\n"
     ]
    }
   ],
   "source": [
    "d1 = {\"name\": \"john\", \"age\": 23, \"gender\":\"male\"}\n",
    "d1.popitem()\n",
    "print(d1)"
   ]
  },
  {
   "cell_type": "code",
   "execution_count": null,
   "id": "5730dcd9",
   "metadata": {},
   "outputs": [],
   "source": [
    "# It will remove last element using popitem"
   ]
  },
  {
   "cell_type": "code",
   "execution_count": null,
   "id": "db00243d",
   "metadata": {},
   "outputs": [
    {
     "name": "stdout",
     "output_type": "stream",
     "text": [
      "{'age': 23}\n"
     ]
    }
   ],
   "source": [
    "del d1[\"name\"]\n",
    "\n",
    "print(d1)"
   ]
  },
  {
   "cell_type": "code",
   "execution_count": null,
   "id": "4c03771b",
   "metadata": {},
   "outputs": [
    {
     "data": {
      "text/plain": [
       "{}"
      ]
     },
     "execution_count": 28,
     "metadata": {},
     "output_type": "execute_result"
    }
   ],
   "source": [
    "d1.clear()\n",
    "d1"
   ]
  },
  {
   "cell_type": "markdown",
   "id": "86ed7a92",
   "metadata": {},
   "source": [
    "### Dictionary Operations in Python\n",
    "- Membership \n",
    "- Iterations"
   ]
  },
  {
   "cell_type": "code",
   "execution_count": null,
   "id": "0b822472",
   "metadata": {},
   "outputs": [
    {
     "data": {
      "text/plain": [
       "True"
      ]
     },
     "execution_count": 30,
     "metadata": {},
     "output_type": "execute_result"
    }
   ],
   "source": [
    "d = {\"name\": \"John\", \"age\": 23, \"gender\": \"male\"}\n",
    "\n",
    "\"name\" in d # we need to access only key not a value"
   ]
  },
  {
   "cell_type": "code",
   "execution_count": null,
   "id": "1bc673c8",
   "metadata": {},
   "outputs": [
    {
     "data": {
      "text/plain": [
       "False"
      ]
     },
     "execution_count": 31,
     "metadata": {},
     "output_type": "execute_result"
    }
   ],
   "source": [
    "\"age\" not in d"
   ]
  },
  {
   "cell_type": "code",
   "execution_count": null,
   "id": "d4c7a2dd",
   "metadata": {},
   "outputs": [
    {
     "name": "stdout",
     "output_type": "stream",
     "text": [
      "name\n",
      "age\n",
      "gender\n"
     ]
    }
   ],
   "source": [
    "for i in d:\n",
    "    print(i)    # we only get key"
   ]
  },
  {
   "cell_type": "code",
   "execution_count": null,
   "id": "7d75e812",
   "metadata": {},
   "outputs": [
    {
     "name": "stdout",
     "output_type": "stream",
     "text": [
      "John\n",
      "23\n",
      "male\n"
     ]
    }
   ],
   "source": [
    "# we need to access value\n",
    "for i in d:\n",
    "    print(d[i])"
   ]
  },
  {
   "cell_type": "markdown",
   "id": "9978bf02",
   "metadata": {},
   "source": [
    "### Dictionary Methods"
   ]
  },
  {
   "cell_type": "code",
   "execution_count": null,
   "id": "3cc54b8e",
   "metadata": {},
   "outputs": [
    {
     "name": "stdout",
     "output_type": "stream",
     "text": [
      "3\n",
      "['name', 'gender', 'age']\n",
      "name\n",
      "age\n"
     ]
    }
   ],
   "source": [
    "d = {\"name\": \"John\", \"age\": 23, \"gender\": \"male\"}\n",
    "\n",
    "print(len(d))\n",
    "print(sorted(d, reverse=True))\n",
    "print(max(d))\n",
    "print(min(d))"
   ]
  },
  {
   "cell_type": "code",
   "execution_count": null,
   "id": "1f6f0c80",
   "metadata": {},
   "outputs": [
    {
     "name": "stdout",
     "output_type": "stream",
     "text": [
      "dict_items([('name', 'John'), ('age', 23), ('gender', 'male')])\n"
     ]
    }
   ],
   "source": [
    "print(d.items())"
   ]
  },
  {
   "cell_type": "code",
   "execution_count": null,
   "id": "2101414e",
   "metadata": {},
   "outputs": [
    {
     "name": "stdout",
     "output_type": "stream",
     "text": [
      "dict_keys(['name', 'age', 'gender'])\n",
      "dict_values(['John', 23, 'male'])\n"
     ]
    }
   ],
   "source": [
    "print(d.keys())\n",
    "print(d.values())"
   ]
  },
  {
   "cell_type": "markdown",
   "id": "82645398",
   "metadata": {},
   "source": [
    "### Dictionary Comprehension"
   ]
  },
  {
   "cell_type": "code",
   "execution_count": null,
   "id": "c77f6afc",
   "metadata": {},
   "outputs": [
    {
     "name": "stdout",
     "output_type": "stream",
     "text": [
      "{1: 1, 2: 4, 3: 9, 4: 16, 5: 25, 6: 36, 7: 49, 8: 64, 9: 81, 10: 100}\n"
     ]
    }
   ],
   "source": [
    "# print the 1st 10 numbers and their squares\n",
    "\n",
    "d = {}\n",
    "\n",
    "for i in range(1,11):\n",
    "    d.update({i:i**2})\n",
    "print(d)"
   ]
  },
  {
   "cell_type": "code",
   "execution_count": null,
   "id": "3cf3eebd",
   "metadata": {},
   "outputs": [
    {
     "name": "stdout",
     "output_type": "stream",
     "text": [
      "{1: 1, 2: 4, 3: 9, 4: 16, 5: 25, 6: 36, 7: 49, 8: 64, 9: 81, 10: 100}\n"
     ]
    }
   ],
   "source": [
    "d2 = {i:i**2 for i in range (1,11)}\n",
    "print(d2)"
   ]
  },
  {
   "cell_type": "code",
   "execution_count": null,
   "id": "f93b8e75",
   "metadata": {},
   "outputs": [
    {
     "name": "stdout",
     "output_type": "stream",
     "text": [
      "{'phone': 10, 'charger': 32}\n"
     ]
    }
   ],
   "source": [
    "# using if condition\n",
    "products = {'phone':10, 'laptop':0, 'charger': 32, 'tablet':0}\n",
    "\n",
    "d3 = {i:products[i] for i in products if products[i] > 0}\n",
    "print(d3)"
   ]
  },
  {
   "cell_type": "code",
   "execution_count": null,
   "id": "e5e080da",
   "metadata": {},
   "outputs": [
    {
     "data": {
      "text/plain": [
       "{'phone': 10, 'charger': 32}"
      ]
     },
     "execution_count": 48,
     "metadata": {},
     "output_type": "execute_result"
    }
   ],
   "source": [
    "{key:value for (key,value) in products.items() if value > 0}"
   ]
  },
  {
   "cell_type": "markdown",
   "id": "2b5a7aff",
   "metadata": {},
   "source": [
    "### Functions in Python"
   ]
  },
  {
   "cell_type": "code",
   "execution_count": 6,
   "id": "cd731627",
   "metadata": {},
   "outputs": [
    {
     "name": "stdout",
     "output_type": "stream",
     "text": [
      "Hello Prashan Kulathunga, Welcome to Our Country!\n"
     ]
    }
   ],
   "source": [
    "def greet(name):\n",
    "    print(f\"Hello {name}, Welcome to Our Country!\")\n",
    "\n",
    "usr = input(\"Enter your name: \")\n",
    "greet(usr)"
   ]
  },
  {
   "cell_type": "code",
   "execution_count": 7,
   "id": "6683cfe9",
   "metadata": {},
   "outputs": [
    {
     "name": "stdout",
     "output_type": "stream",
     "text": [
      "Hello John, Welcome to Our Country!\n",
      "Hello Jonathon, Welcome to Our Country!\n",
      "Hello Alex, Welcome to Our Country!\n",
      "Hello Dex, Welcome to Our Country!\n"
     ]
    }
   ],
   "source": [
    "names = [\"John\", \"Jonathon\", \"Alex\", \"Dex\"]\n",
    "\n",
    "for i in names:\n",
    "    greet(i)"
   ]
  },
  {
   "cell_type": "code",
   "execution_count": null,
   "id": "b74abc36",
   "metadata": {},
   "outputs": [],
   "source": []
  }
 ],
 "metadata": {
  "kernelspec": {
   "display_name": "tensorflow",
   "language": "python",
   "name": "python3"
  },
  "language_info": {
   "codemirror_mode": {
    "name": "ipython",
    "version": 3
   },
   "file_extension": ".py",
   "mimetype": "text/x-python",
   "name": "python",
   "nbconvert_exporter": "python",
   "pygments_lexer": "ipython3",
   "version": "3.11.13"
  }
 },
 "nbformat": 4,
 "nbformat_minor": 5
}
