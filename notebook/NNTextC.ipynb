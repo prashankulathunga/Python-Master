{
 "cells": [
  {
   "cell_type": "markdown",
   "id": "a5916b99",
   "metadata": {},
   "source": [
    "#### Python course for AI/ML"
   ]
  },
  {
   "cell_type": "code",
   "execution_count": null,
   "id": "0f21c64a",
   "metadata": {},
   "outputs": [],
   "source": [
    "# type conversion\n",
    "# implicit => Internally happen in python\n",
    "# explicit => By the programmers"
   ]
  },
  {
   "cell_type": "code",
   "execution_count": 5,
   "id": "1e0372f5",
   "metadata": {},
   "outputs": [
    {
     "name": "stdout",
     "output_type": "stream",
     "text": [
      "<class 'int'>\n"
     ]
    }
   ],
   "source": [
    "# implicit type conversions\n",
    "print(type(5))"
   ]
  },
  {
   "cell_type": "code",
   "execution_count": 6,
   "id": "3debd552",
   "metadata": {},
   "outputs": [
    {
     "name": "stdout",
     "output_type": "stream",
     "text": [
      "<class 'float'>\n"
     ]
    }
   ],
   "source": [
    "print(type(5.5))"
   ]
  },
  {
   "cell_type": "code",
   "execution_count": null,
   "id": "ada1d785",
   "metadata": {},
   "outputs": [
    {
     "name": "stdout",
     "output_type": "stream",
     "text": [
      "9\n"
     ]
    }
   ],
   "source": [
    "print(5+ int('4')) # explicit type conversions"
   ]
  },
  {
   "cell_type": "code",
   "execution_count": 10,
   "id": "1c8df37b",
   "metadata": {},
   "outputs": [
    {
     "name": "stdout",
     "output_type": "stream",
     "text": [
      "<class 'float'>\n",
      "32.0\n"
     ]
    }
   ],
   "source": [
    "number = \"32\"\n",
    "number = float(number)\n",
    "\n",
    "print(type(number))\n",
    "print(number)"
   ]
  },
  {
   "cell_type": "code",
   "execution_count": null,
   "id": "72ac14f3",
   "metadata": {},
   "outputs": [
    {
     "name": "stdout",
     "output_type": "stream",
     "text": [
      "10\n"
     ]
    }
   ],
   "source": [
    "a = 0b1010  # literals this is #Binary_Literals\n",
    "print(a)"
   ]
  },
  {
   "cell_type": "code",
   "execution_count": 12,
   "id": "b8d7ceba",
   "metadata": {},
   "outputs": [
    {
     "name": "stdout",
     "output_type": "stream",
     "text": [
      "float_1:  1.5\n",
      "float_2:  150.0\n",
      "float_3:  0.0015\n"
     ]
    }
   ],
   "source": [
    "float_1 = 1.5\n",
    "float_2 = 1.5e2     # its mean 1.5 * 10^2   => Answer : 150\n",
    "float_3 = 1.5e-3\n",
    "\n",
    "print('float_1: ', float_1)\n",
    "print('float_2: ', float_2)\n",
    "print('float_3: ', float_3)"
   ]
  },
  {
   "cell_type": "code",
   "execution_count": 17,
   "id": "67d550cb",
   "metadata": {},
   "outputs": [
    {
     "name": "stdout",
     "output_type": "stream",
     "text": [
      "<class 'complex'>\n"
     ]
    }
   ],
   "source": [
    "# complex literals\n",
    "\n",
    "x = 5+10j\n",
    "\n",
    "print(type(x))"
   ]
  },
  {
   "cell_type": "code",
   "execution_count": 21,
   "id": "c7e95241",
   "metadata": {},
   "outputs": [
    {
     "name": "stdout",
     "output_type": "stream",
     "text": [
      "5.0\n",
      "10.0\n",
      "<class 'float'>\n",
      "<class 'float'>\n",
      "15.0\n"
     ]
    }
   ],
   "source": [
    "print(x.real)\n",
    "print(x.imag)\n",
    "\n",
    "print(type(x.real))\n",
    "print(type(x.imag))\n",
    "\n",
    "print(x.real + x.imag)"
   ]
  },
  {
   "cell_type": "code",
   "execution_count": null,
   "id": "48539628",
   "metadata": {},
   "outputs": [],
   "source": [
    "string = 'This is a python string'\n",
    "strings = \"This is a python string\"\n",
    "multiline_str = \"\"\"\n",
    "I am Programmer\n",
    "I love to learning new things\n",
    "\"\"\"\n",
    "char = 'c'\n",
    "unicode = u\"\\U0001f600\\U0001F606\\U0001F923\"\n",
    "raw_string = r\"raw \\n string\"   # raw line it will have type \\ character"
   ]
  },
  {
   "cell_type": "code",
   "execution_count": 31,
   "id": "2070bdab",
   "metadata": {},
   "outputs": [
    {
     "name": "stdout",
     "output_type": "stream",
     "text": [
      "😀😆🤣\n",
      "This is a python string\n",
      "This is a python string\n",
      "\n",
      "I am Programmer\n",
      "I love to learning new things\n",
      "\n",
      "c\n",
      "raw \\n string\n"
     ]
    }
   ],
   "source": [
    "print(unicode)\n",
    "print(string)\n",
    "print(strings)\n",
    "print(multiline_str)\n",
    "print(char)\n",
    "print(raw_string)"
   ]
  },
  {
   "cell_type": "code",
   "execution_count": 32,
   "id": "4b950598",
   "metadata": {},
   "outputs": [
    {
     "name": "stdout",
     "output_type": "stream",
     "text": [
      "a:  5\n",
      "b:  10\n"
     ]
    }
   ],
   "source": [
    "# True => 1\n",
    "# False => 0\n",
    "\n",
    "a = True + 4\n",
    "b = False + 10\n",
    "\n",
    "print('a: ', a)\n",
    "print('b: ', b)"
   ]
  },
  {
   "cell_type": "code",
   "execution_count": 33,
   "id": "277a0e46",
   "metadata": {},
   "outputs": [
    {
     "name": "stdout",
     "output_type": "stream",
     "text": [
      "None\n"
     ]
    }
   ],
   "source": [
    "x = None\n",
    "print(x)    # we need to create variable starter of the program use this"
   ]
  },
  {
   "cell_type": "markdown",
   "id": "b9994fcb",
   "metadata": {},
   "source": [
    "### #Arithmetic operator"
   ]
  },
  {
   "cell_type": "code",
   "execution_count": 35,
   "id": "732b7e5f",
   "metadata": {},
   "outputs": [
    {
     "name": "stdout",
     "output_type": "stream",
     "text": [
      "9\n",
      "4\n",
      "3.0\n",
      "3\n",
      "0\n",
      "25\n"
     ]
    }
   ],
   "source": [
    "print(4+5)\n",
    "print(6-2)\n",
    "print(6/2)\n",
    "print(7//2)\n",
    "print(6%2)\n",
    "print(5**2)"
   ]
  },
  {
   "cell_type": "markdown",
   "id": "60256106",
   "metadata": {},
   "source": [
    "### #Relational Operator"
   ]
  },
  {
   "cell_type": "code",
   "execution_count": 36,
   "id": "47948d49",
   "metadata": {},
   "outputs": [
    {
     "name": "stdout",
     "output_type": "stream",
     "text": [
      "True\n",
      "False\n",
      "True\n"
     ]
    }
   ],
   "source": [
    "print(4>2)\n",
    "print(5==2)\n",
    "print(3!=5)"
   ]
  },
  {
   "cell_type": "markdown",
   "id": "2b241e04",
   "metadata": {},
   "source": [
    "### #Logical Operator"
   ]
  },
  {
   "cell_type": "code",
   "execution_count": 37,
   "id": "0ee109e9",
   "metadata": {},
   "outputs": [
    {
     "name": "stdout",
     "output_type": "stream",
     "text": [
      "1\n",
      "0\n",
      "0\n"
     ]
    }
   ],
   "source": [
    "print(1 and 1)\n",
    "print(0 and 1)\n",
    "print(0 and 0)"
   ]
  },
  {
   "cell_type": "code",
   "execution_count": 38,
   "id": "fe56a61f",
   "metadata": {},
   "outputs": [
    {
     "name": "stdout",
     "output_type": "stream",
     "text": [
      "1\n",
      "0\n"
     ]
    }
   ],
   "source": [
    "print(1 or 0)\n",
    "print(0 or 0)"
   ]
  },
  {
   "cell_type": "code",
   "execution_count": 40,
   "id": "a5c1c085",
   "metadata": {},
   "outputs": [
    {
     "name": "stdout",
     "output_type": "stream",
     "text": [
      "False\n",
      "True\n"
     ]
    }
   ],
   "source": [
    "print(not 1)\n",
    "print(not 0)"
   ]
  },
  {
   "cell_type": "markdown",
   "id": "09c26044",
   "metadata": {},
   "source": [
    "### #Bitwise Operator"
   ]
  },
  {
   "cell_type": "code",
   "execution_count": 41,
   "id": "39280ead",
   "metadata": {},
   "outputs": [
    {
     "name": "stdout",
     "output_type": "stream",
     "text": [
      "2\n",
      "6\n",
      "1\n",
      "-6\n",
      "1\n",
      "20\n"
     ]
    }
   ],
   "source": [
    "#Bitwise and\n",
    "print(3 & 6)    #firstly its convert binary number and solve this operator\n",
    "\n",
    "#Bitwise or\n",
    "print(4 | 2)\n",
    "\n",
    "#Bitwise Xor\n",
    "print(3 ^ 2)\n",
    "\n",
    "#Bitwise not\n",
    "print(~5)\n",
    "\n",
    "#Bitwise right shift\n",
    "print(4 >> 2)\n",
    "\n",
    "#Bitwise left shift\n",
    "print(5 << 2)"
   ]
  },
  {
   "cell_type": "markdown",
   "id": "f33f459e",
   "metadata": {},
   "source": [
    "### #Assignment operator"
   ]
  },
  {
   "cell_type": "code",
   "execution_count": 43,
   "id": "7f2101b1",
   "metadata": {},
   "outputs": [
    {
     "name": "stdout",
     "output_type": "stream",
     "text": [
      "6\n"
     ]
    }
   ],
   "source": [
    "a = 2\n",
    "\n",
    "a += 4  #like this all of the operators we can code\n",
    "print(a)"
   ]
  },
  {
   "cell_type": "markdown",
   "id": "21ffd0db",
   "metadata": {},
   "source": [
    "- a++ (Its increase the number of 1) \n",
    "- ++a (Its firstly increase the number and execute)"
   ]
  },
  {
   "cell_type": "markdown",
   "id": "9fb44a83",
   "metadata": {},
   "source": [
    "### #Membership operator"
   ]
  },
  {
   "cell_type": "code",
   "execution_count": 47,
   "id": "0378af52",
   "metadata": {},
   "outputs": [
    {
     "name": "stdout",
     "output_type": "stream",
     "text": [
      "False\n",
      "True\n",
      "True\n",
      "False\n",
      "True\n"
     ]
    }
   ],
   "source": [
    "# in / not in\n",
    "print('M' in \"Colombo\")\n",
    "print('C' in \"Colombo\")\n",
    "\n",
    "print('M' not in \"Colombo\")\n",
    "print('C' not in \"Colombo\")\n",
    "\n",
    "print(1 in [1, 2, 3, 4, 5, 6])"
   ]
  },
  {
   "cell_type": "markdown",
   "id": "1f42cb6b",
   "metadata": {},
   "source": [
    "### Exercise\n",
    "\n",
    "- Find the sum of 3 digit number entered by the user"
   ]
  },
  {
   "cell_type": "code",
   "execution_count": 52,
   "id": "379f8225",
   "metadata": {},
   "outputs": [
    {
     "name": "stdout",
     "output_type": "stream",
     "text": [
      "Summation of the Numbers (3.0, 5.0, 9.0):  17.0\n"
     ]
    }
   ],
   "source": [
    "n1 = float(input('Insert a number-1\\t: '))\n",
    "n2 = float(input('Insert a number-2\\t: '))\n",
    "n3 = float(input('Insert a number-3\\t: '))\n",
    "\n",
    "sum = n1+n2+n3\n",
    "print(f'Summation of the Numbers {n1, n2, n3}: ', sum)"
   ]
  },
  {
   "cell_type": "code",
   "execution_count": 60,
   "id": "95fe3160",
   "metadata": {},
   "outputs": [
    {
     "name": "stdout",
     "output_type": "stream",
     "text": [
      "5\n",
      "Summation of the Numbers (3, 4, 5):  12\n"
     ]
    }
   ],
   "source": [
    "number = int(input('Insert a 3 digit numbers\\t: '))\n",
    "\n",
    "# 345%10 => 5\n",
    "a = number%10\n",
    "print(a)\n",
    "\n",
    "number = number//10 # 345 // 10 => 34\n",
    "b = number%10\n",
    "\n",
    "number = number//10 # 34 // 10 => 3\n",
    "c = number%10\n",
    "\n",
    "result = a + b + c\n",
    "print(f'Summation of the Numbers {c, b, a}: ', result)"
   ]
  },
  {
   "cell_type": "code",
   "execution_count": null,
   "id": "3d16c4b5",
   "metadata": {},
   "outputs": [],
   "source": []
  }
 ],
 "metadata": {
  "kernelspec": {
   "display_name": "Python 3",
   "language": "python",
   "name": "python3"
  },
  "language_info": {
   "codemirror_mode": {
    "name": "ipython",
    "version": 3
   },
   "file_extension": ".py",
   "mimetype": "text/x-python",
   "name": "python",
   "nbconvert_exporter": "python",
   "pygments_lexer": "ipython3",
   "version": "3.11.13"
  }
 },
 "nbformat": 4,
 "nbformat_minor": 5
}
