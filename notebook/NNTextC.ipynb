{
 "cells": [
  {
   "cell_type": "markdown",
   "id": "a5916b99",
   "metadata": {},
   "source": [
    "#### Python course for AI/ML"
   ]
  },
  {
   "cell_type": "code",
   "execution_count": null,
   "id": "0f21c64a",
   "metadata": {},
   "outputs": [],
   "source": [
    "# type conversion\n",
    "# implicit => Internally happen in python\n",
    "# explicit => By the programmers\n"
   ]
  },
  {
   "cell_type": "code",
   "execution_count": 5,
   "id": "1e0372f5",
   "metadata": {},
   "outputs": [
    {
     "name": "stdout",
     "output_type": "stream",
     "text": [
      "<class 'int'>\n"
     ]
    }
   ],
   "source": [
    "# implicit type conversions\n",
    "print(type(5))"
   ]
  },
  {
   "cell_type": "code",
   "execution_count": 6,
   "id": "3debd552",
   "metadata": {},
   "outputs": [
    {
     "name": "stdout",
     "output_type": "stream",
     "text": [
      "<class 'float'>\n"
     ]
    }
   ],
   "source": [
    "print(type(5.5))"
   ]
  },
  {
   "cell_type": "code",
   "execution_count": null,
   "id": "ada1d785",
   "metadata": {},
   "outputs": [
    {
     "name": "stdout",
     "output_type": "stream",
     "text": [
      "9\n"
     ]
    }
   ],
   "source": [
    "print(5+ int('4')) # explicit type conversions"
   ]
  },
  {
   "cell_type": "code",
   "execution_count": 10,
   "id": "1c8df37b",
   "metadata": {},
   "outputs": [
    {
     "name": "stdout",
     "output_type": "stream",
     "text": [
      "<class 'float'>\n",
      "32.0\n"
     ]
    }
   ],
   "source": [
    "number = \"32\"\n",
    "number = float(number)\n",
    "\n",
    "print(type(number))\n",
    "print(number)"
   ]
  },
  {
   "cell_type": "code",
   "execution_count": null,
   "id": "72ac14f3",
   "metadata": {},
   "outputs": [
    {
     "name": "stdout",
     "output_type": "stream",
     "text": [
      "10\n"
     ]
    }
   ],
   "source": [
    "a = 0b1010  # literals this is #Binary_Literals\n",
    "print(a)"
   ]
  },
  {
   "cell_type": "code",
   "execution_count": 12,
   "id": "b8d7ceba",
   "metadata": {},
   "outputs": [
    {
     "name": "stdout",
     "output_type": "stream",
     "text": [
      "float_1:  1.5\n",
      "float_2:  150.0\n",
      "float_3:  0.0015\n"
     ]
    }
   ],
   "source": [
    "float_1 = 1.5\n",
    "float_2 = 1.5e2     # its mean 1.5 * 10^2   => Answer : 150\n",
    "float_3 = 1.5e-3\n",
    "\n",
    "print('float_1: ', float_1)\n",
    "print('float_2: ', float_2)\n",
    "print('float_3: ', float_3)"
   ]
  },
  {
   "cell_type": "code",
   "execution_count": 17,
   "id": "67d550cb",
   "metadata": {},
   "outputs": [
    {
     "name": "stdout",
     "output_type": "stream",
     "text": [
      "<class 'complex'>\n"
     ]
    }
   ],
   "source": [
    "# complex literals\n",
    "\n",
    "x = 5+10j\n",
    "\n",
    "print(type(x))"
   ]
  },
  {
   "cell_type": "code",
   "execution_count": 21,
   "id": "c7e95241",
   "metadata": {},
   "outputs": [
    {
     "name": "stdout",
     "output_type": "stream",
     "text": [
      "5.0\n",
      "10.0\n",
      "<class 'float'>\n",
      "<class 'float'>\n",
      "15.0\n"
     ]
    }
   ],
   "source": [
    "print(x.real)\n",
    "print(x.imag)\n",
    "\n",
    "print(type(x.real))\n",
    "print(type(x.imag))\n",
    "\n",
    "print(x.real + x.imag)"
   ]
  },
  {
   "cell_type": "code",
   "execution_count": null,
   "id": "872a250c",
   "metadata": {},
   "outputs": [],
   "source": []
  }
 ],
 "metadata": {
  "kernelspec": {
   "display_name": "Python 3",
   "language": "python",
   "name": "python3"
  },
  "language_info": {
   "codemirror_mode": {
    "name": "ipython",
    "version": 3
   },
   "file_extension": ".py",
   "mimetype": "text/x-python",
   "name": "python",
   "nbconvert_exporter": "python",
   "pygments_lexer": "ipython3",
   "version": "3.11.13"
  }
 },
 "nbformat": 4,
 "nbformat_minor": 5
}
